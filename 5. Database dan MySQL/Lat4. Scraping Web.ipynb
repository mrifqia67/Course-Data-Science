{
 "cells": [
  {
   "cell_type": "code",
   "execution_count": 1,
   "id": "1015e77e",
   "metadata": {},
   "outputs": [],
   "source": [
    "# import library yang dibutuhkan\n",
    "import pandas as pd\n",
    "\n",
    "from urllib.request import urlopen\n",
    "from bs4 import BeautifulSoup\n",
    "from pandas import option_context"
   ]
  },
  {
   "cell_type": "code",
   "execution_count": 2,
   "id": "22966898",
   "metadata": {},
   "outputs": [],
   "source": [
    "website = 'https://www.kompas.com/'\n",
    "html = urlopen(website)\n",
    "data = BeautifulSoup(html, 'html.parser')"
   ]
  },
  {
   "cell_type": "code",
   "execution_count": 3,
   "id": "5d69b51c",
   "metadata": {},
   "outputs": [
    {
     "name": "stdout",
     "output_type": "stream",
     "text": [
      "Dipertemukan dengan Adiknya, Rafathar Putra Raffi Ahmad Langsung Cemburu\n",
      "Selamat, Nagita Slavina Melahirkan Anak Kedua, Raffi Ahmad Sebut Mirip Rafathar\n",
      "Kapolres Jakpus Ultimatum Pemuda Pancasila: Serahkan Pengeroyok Polisi atau Kami Kejar!\n",
      "Unggahan Viral Penjual Online Dapat Surat Tagihan Pajak Rp 35 Juta, Ini Kata Shopee dan Ditjen Pajak\n",
      "Adu Jotos Oknum TNI Vs Dua Polisi di Ambon, Kapolda Maluku: Ini Sangat Disesali, Kenapa Mesti Terjadi\n",
      "Foto Viral Awan di Jakarta \"Bercahaya\", Ini Penjelasan BMKG\n",
      "Surat Telegram Panglima soal Proses Hukum Anggota TNI yang Tuai Polemik...\n",
      "Yusril: Tak Heran UU Cipta Kerja Rontok di MK, sejak Awal Sudah Bermasalah\n",
      "MK Putuskan UU Cipta Kerja Inkonstitusional Bersyarat, Apa Dampaknya?\n",
      "Nikel Indonesia Mengguncang Dunia, Asal-usul Nikel dan Logam Apa Itu?\n"
     ]
    }
   ],
   "source": [
    "test = data.findAll('div', {'class':'most'})[0]\n",
    "rows = test.findAll('div')\n",
    "\n",
    "# mencari submenu pada inspect\n",
    "rows = test.findAll('a')\n",
    "for row in rows:\n",
    "    for cell in row.findAll(['h4']):\n",
    "         print(cell.get_text())"
   ]
  },
  {
   "cell_type": "code",
   "execution_count": 4,
   "id": "4b6e6a3c",
   "metadata": {},
   "outputs": [],
   "source": [
    "# menyimpan hasilnya kedalam bentuk list\n",
    "hasil = []\n",
    "for row in rows:\n",
    "    info = []\n",
    "    for cell in row.findAll(['h4']):\n",
    "        info.append(cell.get_text())\n",
    "    hasil.append(info)"
   ]
  },
  {
   "cell_type": "code",
   "execution_count": 5,
   "id": "3f46d187",
   "metadata": {},
   "outputs": [
    {
     "data": {
      "text/html": [
       "<style  type=\"text/css\" >\n",
       "#T_6b7eb_row0_col0,#T_6b7eb_row1_col0,#T_6b7eb_row2_col0,#T_6b7eb_row3_col0,#T_6b7eb_row4_col0,#T_6b7eb_row5_col0,#T_6b7eb_row6_col0,#T_6b7eb_row7_col0,#T_6b7eb_row8_col0,#T_6b7eb_row9_col0{\n",
       "            text-align:  left;\n",
       "        }</style><table id=\"T_6b7eb_\" ><thead>    <tr>        <th class=\"blank level0\" ></th>        <th class=\"col_heading level0 col0\" >Judul Berita Populer</th>    </tr></thead><tbody>\n",
       "                <tr>\n",
       "                        <th id=\"T_6b7eb_level0_row0\" class=\"row_heading level0 row0\" >0</th>\n",
       "                        <td id=\"T_6b7eb_row0_col0\" class=\"data row0 col0\" >Dipertemukan dengan Adiknya, Rafathar Putra Raffi Ahmad Langsung Cemburu</td>\n",
       "            </tr>\n",
       "            <tr>\n",
       "                        <th id=\"T_6b7eb_level0_row1\" class=\"row_heading level0 row1\" >1</th>\n",
       "                        <td id=\"T_6b7eb_row1_col0\" class=\"data row1 col0\" >Selamat, Nagita Slavina Melahirkan Anak Kedua, Raffi Ahmad Sebut Mirip Rafathar</td>\n",
       "            </tr>\n",
       "            <tr>\n",
       "                        <th id=\"T_6b7eb_level0_row2\" class=\"row_heading level0 row2\" >2</th>\n",
       "                        <td id=\"T_6b7eb_row2_col0\" class=\"data row2 col0\" >Kapolres Jakpus Ultimatum Pemuda Pancasila: Serahkan Pengeroyok Polisi atau Kami Kejar!</td>\n",
       "            </tr>\n",
       "            <tr>\n",
       "                        <th id=\"T_6b7eb_level0_row3\" class=\"row_heading level0 row3\" >3</th>\n",
       "                        <td id=\"T_6b7eb_row3_col0\" class=\"data row3 col0\" >Unggahan Viral Penjual Online Dapat Surat Tagihan Pajak Rp 35 Juta, Ini Kata Shopee dan Ditjen Pajak</td>\n",
       "            </tr>\n",
       "            <tr>\n",
       "                        <th id=\"T_6b7eb_level0_row4\" class=\"row_heading level0 row4\" >4</th>\n",
       "                        <td id=\"T_6b7eb_row4_col0\" class=\"data row4 col0\" >Adu Jotos Oknum TNI Vs Dua Polisi di Ambon, Kapolda Maluku: Ini Sangat Disesali, Kenapa Mesti Terjadi</td>\n",
       "            </tr>\n",
       "            <tr>\n",
       "                        <th id=\"T_6b7eb_level0_row5\" class=\"row_heading level0 row5\" >5</th>\n",
       "                        <td id=\"T_6b7eb_row5_col0\" class=\"data row5 col0\" >Foto Viral Awan di Jakarta \"Bercahaya\", Ini Penjelasan BMKG</td>\n",
       "            </tr>\n",
       "            <tr>\n",
       "                        <th id=\"T_6b7eb_level0_row6\" class=\"row_heading level0 row6\" >6</th>\n",
       "                        <td id=\"T_6b7eb_row6_col0\" class=\"data row6 col0\" >Surat Telegram Panglima soal Proses Hukum Anggota TNI yang Tuai Polemik...</td>\n",
       "            </tr>\n",
       "            <tr>\n",
       "                        <th id=\"T_6b7eb_level0_row7\" class=\"row_heading level0 row7\" >7</th>\n",
       "                        <td id=\"T_6b7eb_row7_col0\" class=\"data row7 col0\" >Yusril: Tak Heran UU Cipta Kerja Rontok di MK, sejak Awal Sudah Bermasalah</td>\n",
       "            </tr>\n",
       "            <tr>\n",
       "                        <th id=\"T_6b7eb_level0_row8\" class=\"row_heading level0 row8\" >8</th>\n",
       "                        <td id=\"T_6b7eb_row8_col0\" class=\"data row8 col0\" >MK Putuskan UU Cipta Kerja Inkonstitusional Bersyarat, Apa Dampaknya?</td>\n",
       "            </tr>\n",
       "            <tr>\n",
       "                        <th id=\"T_6b7eb_level0_row9\" class=\"row_heading level0 row9\" >9</th>\n",
       "                        <td id=\"T_6b7eb_row9_col0\" class=\"data row9 col0\" >Nikel Indonesia Mengguncang Dunia, Asal-usul Nikel dan Logam Apa Itu?</td>\n",
       "            </tr>\n",
       "    </tbody></table>"
      ],
      "text/plain": [
       "<pandas.io.formats.style.Styler at 0x1c6577eee50>"
      ]
     },
     "metadata": {},
     "output_type": "display_data"
    }
   ],
   "source": [
    "# convert to dataframe\n",
    "berita_populer = pd.DataFrame(hasil, columns=['Judul Berita Populer'])\n",
    "\n",
    "# adjust width column\n",
    "berita_populer = berita_populer.style.set_properties(**{'text-align': 'left'})\n",
    "display(berita_populer)"
   ]
  },
  {
   "cell_type": "code",
   "execution_count": null,
   "id": "7d483ff9",
   "metadata": {},
   "outputs": [],
   "source": []
  }
 ],
 "metadata": {
  "kernelspec": {
   "display_name": "Python 3",
   "language": "python",
   "name": "python3"
  },
  "language_info": {
   "codemirror_mode": {
    "name": "ipython",
    "version": 3
   },
   "file_extension": ".py",
   "mimetype": "text/x-python",
   "name": "python",
   "nbconvert_exporter": "python",
   "pygments_lexer": "ipython3",
   "version": "3.8.8"
  }
 },
 "nbformat": 4,
 "nbformat_minor": 5
}
