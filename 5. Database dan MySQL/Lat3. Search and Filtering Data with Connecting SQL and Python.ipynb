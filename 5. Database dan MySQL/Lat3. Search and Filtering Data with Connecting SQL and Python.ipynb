{
 "cells": [
  {
   "cell_type": "markdown",
   "metadata": {},
   "source": [
    "Pada Tugas kali ini kita akan membuat 4 function yang memiliki fungsinya masing-masing.\n",
    "Data yang diambil berasal dari berkas imdb_movie_dumpfile.sql\n",
    "Silahkan import dumpfile tersebut dengan menggunakan terminal/cmd.\n",
    "\n",
    "Jika ada proses yang dilakukan boleh dilakukan dari query sql, atau menggunakan python setelah semua data ditampilkan menggunakan sql. "
   ]
  },
  {
   "cell_type": "code",
   "execution_count": 1,
   "metadata": {},
   "outputs": [],
   "source": [
    "# memanggil library yang dibutuhkan\n",
    "import matplotlib.pyplot as plt\n",
    "import seaborn as sns\n",
    "\n",
    "from mysql.connector import connect"
   ]
  },
  {
   "cell_type": "code",
   "execution_count": 2,
   "metadata": {},
   "outputs": [],
   "source": [
    "# melakukan koneksi terhadap database.\n",
    "db = connect(\n",
    "    host=\"localhost\",\n",
    "    user=\"root\",\n",
    "    password=\"autokool123\",\n",
    "    database=\"imdb_movie\")"
   ]
  },
  {
   "cell_type": "code",
   "execution_count": 3,
   "metadata": {},
   "outputs": [],
   "source": [
    "# membuat kursos untuk mengkoneksikan kepada sql syntax\n",
    "mycursor = db.cursor()"
   ]
  },
  {
   "cell_type": "code",
   "execution_count": 4,
   "metadata": {},
   "outputs": [
    {
     "name": "stdout",
     "output_type": "stream",
     "text": [
      "('movies',)\n"
     ]
    }
   ],
   "source": [
    "# melihat nama tabel di database imdb movie\n",
    "mycursor.execute(\"show tables\")\n",
    "table = mycursor.fetchall()\n",
    "for i in table:\n",
    "    print(i)"
   ]
  },
  {
   "cell_type": "markdown",
   "metadata": {},
   "source": [
    "1. Peserta diminta untuk membuat sebuah fungsi yang tugasnya adalah untuk menampilkan 5 direktur dengan jumlah film terbanyak dalam daftar. Data tersebut akan menampilkan secara terurut dari urutan 1 (paling banyak) ke 5."
   ]
  },
  {
   "cell_type": "code",
   "execution_count": 5,
   "metadata": {},
   "outputs": [
    {
     "name": "stdout",
     "output_type": "stream",
     "text": [
      "1. Steven Spielberg\n",
      "2. Woody Allen\n",
      "3. Martin Scorsese\n",
      "4. Clint Eastwood\n",
      "5. Ridley Scott\n"
     ]
    }
   ],
   "source": [
    "def most_maker_director():\n",
    "    # menampilkan kolom direktur dan jumlah film \n",
    "    mycursor.execute('''select director_name from movies\n",
    "                        group by director_name\n",
    "                        having count(director_name) > 1 \n",
    "                        order by count(director_name) desc\n",
    "                        limit 5''')\n",
    "    jumlah_film = mycursor.fetchall()\n",
    "    count = 1\n",
    "    for i in jumlah_film:\n",
    "        print(\"{}. {}\".format(count, i[0]))\n",
    "        count += 1\n",
    "        \n",
    "most_maker_director()"
   ]
  },
  {
   "cell_type": "markdown",
   "metadata": {},
   "source": [
    "2. Peserta diminta untuk membuat sebuah fungsi yang tugasnya adalah untuk menampilkan 10 direktur dengan total jumlah pendapatan terbesar untuk semua film yang dia buat. Data tersebut akan menampilkan secara terurut dari urutan 1 (paling banyak) ke 10 beserta total pendapatan dari masing-masing direktur.\n",
    "\n",
    "Pendapatan bisa didapatkan dari nilai gross"
   ]
  },
  {
   "cell_type": "code",
   "execution_count": 6,
   "metadata": {},
   "outputs": [
    {
     "name": "stdout",
     "output_type": "stream",
     "text": [
      "1. Steven Spielberg - 4,114,233,101.0\n",
      "2. Peter Jackson - 2,592,969,279.0\n",
      "3. Michael Bay - 2,231,242,537.0\n",
      "4. Tim Burton - 2,071,275,480.0\n",
      "5. Sam Raimi - 2,049,549,198.0\n",
      "6. James Cameron - 1,948,125,910.0\n",
      "7. Christopher Nolan - 1,813,227,576.0\n",
      "8. George Lucas - 1,741,418,480.0\n",
      "9. Joss Whedon - 1,730,886,628.0\n",
      "10. Robert Zemeckis - 1,619,309,108.0\n"
     ]
    }
   ],
   "source": [
    "def most_profitable_director():\n",
    "    # menampilkan kolom direktur dan jumlah pendapatannya\n",
    "    mycursor.execute('''select director_name, sum(gross) from movies\n",
    "                        group by director_name\n",
    "                        order by sum(gross) desc\n",
    "                        limit 10''')\n",
    "    pendapatan = mycursor.fetchall()\n",
    "    count = 1\n",
    "    for i in pendapatan:\n",
    "        print(\"{}. {} - {:,}\".format(count, i[0], i[1]))\n",
    "        count += 1\n",
    "        \n",
    "most_profitable_director()        "
   ]
  },
  {
   "cell_type": "markdown",
   "metadata": {},
   "source": [
    "3. Peserta diminta untuk membuat sebuah fungsi yang tugasnya adalah untuk menampilkan 15 film dengan pendapatan terbesar. Data tersebut akan menampilkan secara terurut dari urutan 1 (paling banyak) ke 15 beserta pendapatan dari masing-masing film"
   ]
  },
  {
   "cell_type": "code",
   "execution_count": 7,
   "metadata": {},
   "outputs": [
    {
     "name": "stdout",
     "output_type": "stream",
     "text": [
      "1. Avatar  (2009.0) - 760,505,847.0\n",
      "2. Titanic  (1997.0) - 658,672,302.0\n",
      "3. Jurassic World  (2015.0) - 652,177,271.0\n",
      "4. The Avengers  (2012.0) - 623,279,547.0\n",
      "5. The Dark Knight  (2008.0) - 533,316,061.0\n",
      "6. Star Wars: Episode I - The Phantom Menace  (1999.0) - 474,544,677.0\n",
      "7. Star Wars: Episode IV - A New Hope  (1977.0) - 460,935,665.0\n",
      "8. Avengers: Age of Ultron  (2015.0) - 458,991,599.0\n",
      "9. The Dark Knight Rises  (2012.0) - 448,130,642.0\n",
      "10. Shrek 2  (2004.0) - 436,471,036.0\n",
      "11. E.T. the Extra-Terrestrial  (1982.0) - 434,949,459.0\n",
      "12. The Hunger Games: Catching Fire  (2013.0) - 424,645,577.0\n",
      "13. Pirates of the Caribbean: Dead Man's Chest  (2006.0) - 423,032,628.0\n",
      "14. The Lion King  (1994.0) - 422,783,777.0\n",
      "15. Toy Story 3  (2010.0) - 414,984,497.0\n"
     ]
    }
   ],
   "source": [
    "def most_profitable_movie():\n",
    "    # menampilkan 15 film dengan pendapatan terbesar\n",
    "    mycursor.execute('''select distinct (movie_title), title_year, gross from movies\n",
    "                        order by gross desc\n",
    "                        limit 15''')\n",
    "    pendapatan_film = mycursor.fetchall()\n",
    "    count = 1\n",
    "    for i in pendapatan_film:\n",
    "        print(\"{}. {} ({}) - {:,}\".format(count, i[0], i[1], i[2]))\n",
    "        count += 1\n",
    "        \n",
    "most_profitable_movie()        "
   ]
  },
  {
   "cell_type": "markdown",
   "metadata": {},
   "source": [
    "4. Peserta diminta untuk membuat sebuah fungsi yang tugasnya adalah untuk menampilkan plot distribusi budget dari semua film pada tahun yang ditentukan. fungsi ini memiliki input, yaitu adalah tahun."
   ]
  },
  {
   "cell_type": "code",
   "execution_count": 8,
   "metadata": {
    "scrolled": true
   },
   "outputs": [
    {
     "data": {
      "text/plain": [
       "[400000000.0,\n",
       " 160000000.0,\n",
       " 140000000.0,\n",
       " 137000000.0,\n",
       " 125000000.0,\n",
       " 120000000.0,\n",
       " 115000000.0,\n",
       " 115000000.0,\n",
       " 107000000.0,\n",
       " 100000000.0,\n",
       " 100000000.0,\n",
       " 100000000.0,\n",
       " 98000000.0,\n",
       " 93000000.0,\n",
       " 93000000.0,\n",
       " 92000000.0,\n",
       " 92000000.0,\n",
       " 90000000.0,\n",
       " 90000000.0,\n",
       " 85000000.0,\n",
       " 80000000.0,\n",
       " 80000000.0,\n",
       " 77000000.0,\n",
       " 75000000.0,\n",
       " 72000000.0,\n",
       " 72000000.0,\n",
       " 72000000.0,\n",
       " 70000000.0,\n",
       " 68000000.0,\n",
       " 68000000.0,\n",
       " 68000000.0,\n",
       " 65000000.0,\n",
       " 60000000.0,\n",
       " 60000000.0,\n",
       " 60000000.0,\n",
       " 60000000.0,\n",
       " 58000000.0,\n",
       " 57000000.0,\n",
       " 57000000.0,\n",
       " 53000000.0,\n",
       " 52500000.0,\n",
       " 50000000.0,\n",
       " 50000000.0,\n",
       " 50000000.0,\n",
       " 49000000.0,\n",
       " 48000000.0,\n",
       " 48000000.0,\n",
       " 48000000.0,\n",
       " 48000000.0,\n",
       " 48000000.0,\n",
       " 45000000.0,\n",
       " 45000000.0,\n",
       " 45000000.0,\n",
       " 45000000.0,\n",
       " 42000000.0,\n",
       " 42000000.0,\n",
       " 42000000.0,\n",
       " 40000000.0,\n",
       " 40000000.0,\n",
       " 40000000.0,\n",
       " 40000000.0,\n",
       " 40000000.0,\n",
       " 40000000.0,\n",
       " 38000000.0,\n",
       " 38000000.0,\n",
       " 38000000.0,\n",
       " 38000000.0,\n",
       " 38000000.0,\n",
       " 38000000.0,\n",
       " 37000000.0,\n",
       " 35000000.0,\n",
       " 35000000.0,\n",
       " 35000000.0,\n",
       " 35000000.0,\n",
       " 35000000.0,\n",
       " 35000000.0,\n",
       " 35000000.0,\n",
       " 35000000.0,\n",
       " 34000000.0,\n",
       " 34000000.0,\n",
       " 33000000.0,\n",
       " 31000000.0,\n",
       " 30000000.0,\n",
       " 30000000.0,\n",
       " 30000000.0,\n",
       " 30000000.0,\n",
       " 30000000.0,\n",
       " 30000000.0,\n",
       " 28000000.0,\n",
       " 28000000.0,\n",
       " 28000000.0,\n",
       " 28000000.0,\n",
       " 26000000.0,\n",
       " 26000000.0,\n",
       " 25000000.0,\n",
       " 25000000.0,\n",
       " 25000000.0,\n",
       " 24000000.0,\n",
       " 23000000.0,\n",
       " 23000000.0,\n",
       " 23000000.0,\n",
       " 22000000.0,\n",
       " 22000000.0,\n",
       " 22000000.0,\n",
       " 22000000.0,\n",
       " 22000000.0,\n",
       " 22000000.0,\n",
       " 22000000.0,\n",
       " 22000000.0,\n",
       " 21150000.0,\n",
       " 21000000.0,\n",
       " 21000000.0,\n",
       " 20000000.0,\n",
       " 19800000.0,\n",
       " 19000000.0,\n",
       " 18000000.0,\n",
       " 18000000.0,\n",
       " 18000000.0,\n",
       " 17700000.0,\n",
       " 17000000.0,\n",
       " 16000000.0,\n",
       " 16000000.0,\n",
       " 16000000.0,\n",
       " 15500000.0,\n",
       " 15300000.0,\n",
       " 15000000.0,\n",
       " 15000000.0,\n",
       " 15000000.0,\n",
       " 14000000.0,\n",
       " 14000000.0,\n",
       " 14000000.0,\n",
       " 13000000.0,\n",
       " 13000000.0,\n",
       " 13000000.0,\n",
       " 12000000.0,\n",
       " 12000000.0,\n",
       " 12000000.0,\n",
       " 11000000.0,\n",
       " 11000000.0,\n",
       " 11000000.0,\n",
       " 11000000.0,\n",
       " 11000000.0,\n",
       " 10000000.0,\n",
       " 10000000.0,\n",
       " 10000000.0,\n",
       " 10000000.0,\n",
       " 7000000.0,\n",
       " 7000000.0,\n",
       " 7000000.0,\n",
       " 7000000.0,\n",
       " 6000000.0,\n",
       " 6000000.0,\n",
       " 6000000.0,\n",
       " 6000000.0,\n",
       " 6000000.0,\n",
       " 5500000.0,\n",
       " 5500000.0,\n",
       " 5000000.0,\n",
       " 5000000.0,\n",
       " 5000000.0,\n",
       " 5000000.0,\n",
       " 4500000.0,\n",
       " 4500000.0,\n",
       " 4000000.0,\n",
       " 4000000.0,\n",
       " 3000000.0,\n",
       " 2500000.0,\n",
       " 2000000.0,\n",
       " 1700000.0,\n",
       " 1500000.0,\n",
       " 1500000.0,\n",
       " 1500000.0,\n",
       " 1200000.0,\n",
       " 1200000.0,\n",
       " 1000000.0,\n",
       " 1000000.0,\n",
       " 700000.0,\n",
       " 500000.0,\n",
       " 300000.0,\n",
       " 250000.0,\n",
       " 250000.0,\n",
       " 40000.0,\n",
       " None,\n",
       " None,\n",
       " None,\n",
       " None,\n",
       " None,\n",
       " None]"
      ]
     },
     "execution_count": 8,
     "metadata": {},
     "output_type": "execute_result"
    }
   ],
   "source": [
    "# menampilkan budget dari semua film\n",
    "mycursor.execute('''select movie_title, budget from movies\n",
    "                    where title_year = 2001\n",
    "                    order by budget desc\n",
    "                    ''')\n",
    "pendapatan_film = mycursor.fetchall()\n",
    "budget = []\n",
    "for i in pendapatan_film:\n",
    "    budget.append(i[1])\n",
    "    \n",
    "budget"
   ]
  },
  {
   "cell_type": "code",
   "execution_count": 9,
   "metadata": {},
   "outputs": [],
   "source": [
    "# menutup koneksi dengan mysql\n",
    "mycursor.close()\n",
    "db.close()"
   ]
  },
  {
   "cell_type": "code",
   "execution_count": 36,
   "metadata": {},
   "outputs": [
    {
     "data": {
      "image/png": "[encoded data removed]",
      "text/plain": [
       "<Figure size 432x288 with 1 Axes>"
      ]
     },
     "metadata": {
      "needs_background": "light"
     },
     "output_type": "display_data"
    }
   ],
   "source": [
    "def budget_distribution(year):\n",
    "    # membuat kanvas\n",
    "    fig, ax = plt.subplots(figsize = (6,4))\n",
    "\n",
    "    # plotting the data\n",
    "    sns.histplot(x = budget, kde = True, bins = 20, color = 'blue')\n",
    "\n",
    "    # memberi judul dan label pada sumbu x\n",
    "    plt.title('Budget movie year 2001')\n",
    "    plt.xlabel('budget')\n",
    "\n",
    "    plt.show()\n",
    "\n",
    "year = 2001\n",
    "budget_distribution(2001)    "
   ]
  },
  {
   "cell_type": "markdown",
   "metadata": {},
   "source": [
    "Semua sel di bawah digunakan untuk pemanggilan fungsi dan menunjukan hasil yang diharapkan."
   ]
  },
  {
   "cell_type": "code",
   "execution_count": 12,
   "metadata": {},
   "outputs": [
    {
     "name": "stdout",
     "output_type": "stream",
     "text": [
      "1. Steven Spielberg\n",
      "2. Woody Allen\n",
      "3. Martin Scorsese\n",
      "4. Clint Eastwood\n",
      "5. Ridley Scott\n"
     ]
    }
   ],
   "source": [
    "most_maker_director()"
   ]
  },
  {
   "cell_type": "code",
   "execution_count": 17,
   "metadata": {},
   "outputs": [
    {
     "name": "stdout",
     "output_type": "stream",
     "text": [
      "1. Steven Spielberg - 4,114,233,101.00\n",
      "2. Peter Jackson - 2,592,969,279.00\n",
      "3. Michael Bay - 2,231,242,537.00\n",
      "4. Tim Burton - 2,071,275,480.00\n",
      "5. Sam Raimi - 2,049,549,198.00\n",
      "6. James Cameron - 1,948,125,910.00\n",
      "7. Christopher Nolan - 1,813,227,576.00\n",
      "8. George Lucas - 1,741,418,480.00\n",
      "9. Joss Whedon - 1,730,886,628.00\n",
      "10. Robert Zemeckis - 1,619,309,108.00\n"
     ]
    }
   ],
   "source": [
    "most_profitable_director()"
   ]
  },
  {
   "cell_type": "code",
   "execution_count": 20,
   "metadata": {},
   "outputs": [
    {
     "name": "stdout",
     "output_type": "stream",
     "text": [
      "1. Avatar  (2009) - 760,505,847.00\n",
      "2. Titanic  (1997) - 658,672,302.00\n",
      "3. Jurassic World  (2015) - 652,177,271.00\n",
      "4. The Avengers  (2012) - 623,279,547.00\n",
      "5. The Dark Knight  (2008) - 533,316,061.00\n",
      "6. Star Wars: Episode I - The Phantom Menace  (1999) - 474,544,677.00\n",
      "7. Star Wars: Episode IV - A New Hope  (1977) - 460,935,665.00\n",
      "8. Avengers: Age of Ultron  (2015) - 458,991,599.00\n",
      "9. The Dark Knight Rises  (2012) - 448,130,642.00\n",
      "10. Shrek 2  (2004) - 436,471,036.00\n",
      "11. E.T. the Extra-Terrestrial  (1982) - 434,949,459.00\n",
      "12. The Hunger Games: Catching Fire  (2013) - 424,645,577.00\n",
      "13. Pirates of the Caribbean: Dead Man's Chest  (2006) - 423,032,628.00\n",
      "14. The Lion King  (1994) - 422,783,777.00\n",
      "15. Toy Story 3  (2010) - 414,984,497.00\n"
     ]
    }
   ],
   "source": [
    "most_profitable_movie()"
   ]
  },
  {
   "cell_type": "code",
   "execution_count": 48,
   "metadata": {},
   "outputs": [
    {
     "data": {
      "text/plain": [
       "Text(0, 0.5, 'count')"
      ]
     },
     "execution_count": 48,
     "metadata": {},
     "output_type": "execute_result"
    },
    {
     "data": {
      "image/png": "[encoded data removed]",
      "text/plain": [
       "<Figure size 432x288 with 1 Axes>"
      ]
     },
     "metadata": {
      "needs_background": "light"
     },
     "output_type": "display_data"
    }
   ],
   "source": [
    "year = 2001\n",
    "budget_distribution(2001)\n"
   ]
  }
 ],
 "metadata": {
  "interpreter": {
   "hash": "b02d93efda564da1915d42b0288c26f05ac833e7645184a564f32e638d57cc3e"
  },
  "kernelspec": {
   "display_name": "Python 3",
   "language": "python",
   "name": "python3"
  },
  "language_info": {
   "codemirror_mode": {
    "name": "ipython",
    "version": 3
   },
   "file_extension": ".py",
   "mimetype": "text/x-python",
   "name": "python",
   "nbconvert_exporter": "python",
   "pygments_lexer": "ipython3",
   "version": "3.8.8"
  }
 },
 "nbformat": 4,
 "nbformat_minor": 2
}
