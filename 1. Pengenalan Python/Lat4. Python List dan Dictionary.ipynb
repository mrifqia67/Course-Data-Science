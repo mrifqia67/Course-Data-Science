{
 "cells": [
  {
   "cell_type": "markdown",
   "metadata": {},
   "source": [
    "1. Buatlah sebuah fungsi di python yang memerlukan dua argument, nama dan usia. Lalu menampilkan dua argument tersebut saat fungsi dipanggil"
   ]
  },
  {
   "cell_type": "code",
   "execution_count": 1,
   "metadata": {},
   "outputs": [],
   "source": [
    "#kerjakan soal no. 1 pada sel ini\n",
    "\n",
    "#contoh pemanggilan fungsi\n",
    "#func1(\"Rina\", 20)\n",
    "\n",
    "#output\n",
    "#Rina 20"
   ]
  },
  {
   "cell_type": "code",
   "execution_count": 2,
   "metadata": {},
   "outputs": [
    {
     "data": {
      "text/plain": [
       "('Rina', 20)"
      ]
     },
     "execution_count": 2,
     "metadata": {},
     "output_type": "execute_result"
    }
   ],
   "source": [
    "def func1(nama,umur):\n",
    "    return nama,umur\n",
    "\n",
    "func1(\"Rina\",20)"
   ]
  },
  {
   "cell_type": "markdown",
   "metadata": {},
   "source": [
    "2. Buatlah fungsi yang bisa melakukan print semua parameter/argument yang menjadi inputan. Fungsi tersebut harus bisa menerima berapapun argument yang dimasukkan tanpa error. "
   ]
  },
  {
   "cell_type": "code",
   "execution_count": 3,
   "metadata": {},
   "outputs": [
    {
     "data": {
      "text/plain": [
       "'\\noutput\\n1\\n2\\n3\\n4\\n5\\n6\\n'"
      ]
     },
     "execution_count": 3,
     "metadata": {},
     "output_type": "execute_result"
    }
   ],
   "source": [
    "#kerjakan soal no. 2 pada sel ini\n",
    "\n",
    "#contoh pemanggilan fungsi\n",
    "#func2(1,2,3)\n",
    "\n",
    "'''\n",
    "output\n",
    "1\n",
    "2\n",
    "3\n",
    "'''\n",
    "\n",
    "#contoh pemanggilan fungsi\n",
    "#func1(1,2,3,4,5,6)\n",
    "\n",
    "'''\n",
    "output\n",
    "1\n",
    "2\n",
    "3\n",
    "4\n",
    "5\n",
    "6\n",
    "'''"
   ]
  },
  {
   "cell_type": "code",
   "execution_count": 47,
   "metadata": {
    "scrolled": false
   },
   "outputs": [
    {
     "name": "stdout",
     "output_type": "stream",
     "text": [
      "1\n",
      "2\n",
      "3\n",
      "1\n",
      "2\n",
      "3\n",
      "4\n",
      "5\n",
      "6\n"
     ]
    }
   ],
   "source": [
    "def func2(*parameter):\n",
    "    for i in parameter:\n",
    "        print(i)\n",
    "        \n",
    "func2(1,2,3)\n",
    "func2(1,2,3,4,5,6)"
   ]
  },
  {
   "cell_type": "markdown",
   "metadata": {},
   "source": [
    "3. Buatlah sebuah fungsi yang dapat mencari jumlah total dari anggota pada list. Syarat pengerjaan:\n",
    "     - tanpa menggunakan loop/iterasi\n",
    "     - manfaatkan fungsi lambda\n",
    "\n",
    "list_nilai = [23,17,5,8,25,15]"
   ]
  },
  {
   "cell_type": "code",
   "execution_count": 4,
   "metadata": {},
   "outputs": [],
   "source": [
    "#kerjakan soal no. 3 pada sel ini\n",
    "\n",
    "#contoh pemanggilan fungsi\n",
    "#func3(list_nilai)\n",
    "\n",
    "#output\n",
    "#93"
   ]
  },
  {
   "cell_type": "code",
   "execution_count": 9,
   "metadata": {},
   "outputs": [
    {
     "data": {
      "text/plain": [
       "93"
      ]
     },
     "execution_count": 9,
     "metadata": {},
     "output_type": "execute_result"
    }
   ],
   "source": [
    "list_nilai = [23,17,5,8,25,15]\n",
    "\n",
    "from functools import reduce\n",
    "def func3(data):\n",
    "    return reduce(lambda x,y: x+y, data)\n",
    "\n",
    "func3(list_nilai)"
   ]
  },
  {
   "cell_type": "markdown",
   "metadata": {},
   "source": [
    "4. Buatlah sebuah fungsi yang dapat mencari nilai yang lebih besar/sama dengan 80 dari anggota pada list. Syarat pengerjaan:\n",
    "     - tanpa menggunakan loop/iterasi\n",
    "     - manfaatkan fungsi lambda\n",
    "     - ouput merupakan list\n",
    "\n",
    "nilai_siswa = [67,89,80,67,25,92]"
   ]
  },
  {
   "cell_type": "code",
   "execution_count": null,
   "metadata": {},
   "outputs": [],
   "source": [
    "#kerjakan soal no. 4 pada sel ini\n",
    "\n",
    "#contoh pemanggilan fungsi\n",
    "#func4(nilai_siswa)\n",
    "\n",
    "#output\n",
    "#[89,80,92]"
   ]
  },
  {
   "cell_type": "code",
   "execution_count": 29,
   "metadata": {},
   "outputs": [
    {
     "data": {
      "text/plain": [
       "[89, 80, 92]"
      ]
     },
     "execution_count": 29,
     "metadata": {},
     "output_type": "execute_result"
    }
   ],
   "source": [
    "nilai_siswa = [67,89,80,67,25,92]\n",
    "\n",
    "def func4(data):\n",
    "    return list(filter(lambda a:a >= 80,data))\n",
    "\n",
    "func4(nilai_siswa)"
   ]
  },
  {
   "cell_type": "markdown",
   "metadata": {},
   "source": [
    "5. Buatlah sebuah fungsi untuk mengecek apakah suatu string palindrom atau bukan\n",
    "\n",
    "kata_1 = \"makam\"\n",
    "kata_2 = \"makan\""
   ]
  },
  {
   "cell_type": "code",
   "execution_count": null,
   "metadata": {},
   "outputs": [],
   "source": [
    "#kerjakan soal no.5 pada sel ini\n",
    "\n",
    "#contoh pemanggilan fungsi\n",
    "#test_palindrom(kata_1)\n",
    "#test_palindrom(kata_2)\n",
    "\n",
    "#output\n",
    "#makam merupakan palindrom\n",
    "#makan bukan merupakan palindrom"
   ]
  },
  {
   "cell_type": "code",
   "execution_count": 16,
   "metadata": {},
   "outputs": [
    {
     "name": "stdout",
     "output_type": "stream",
     "text": [
      "makam merupakan palindrom\n",
      "makan bukan merupakan palindrom\n"
     ]
    }
   ],
   "source": [
    "kata_1 = \"makam\"\n",
    "kata_2 = \"makan\"\n",
    "\n",
    "def test_palindrom(data):\n",
    "    hasil = str(data)[::-1]\n",
    "    if str(data) == hasil:\n",
    "        return True\n",
    "    return False\n",
    "\n",
    "#untuk kata_1\n",
    "test_palindrom(kata_1) \n",
    "if test_palindrom(kata_1) == True:\n",
    "    print('{} merupakan palindrom'.format(kata_1))\n",
    "\n",
    "#untuk kata_2   \n",
    "test_palindrom(kata_2) \n",
    "if test_palindrom(kata_2) == True :\n",
    "    print('{} merupakan palindrom'.format(kata_2))\n",
    "else :\n",
    "    print('{} bukan merupakan palindrom'.format(kata_2))"
   ]
  },
  {
   "cell_type": "code",
   "execution_count": null,
   "metadata": {},
   "outputs": [],
   "source": []
  }
 ],
 "metadata": {
  "kernelspec": {
   "display_name": "Python 3",
   "language": "python",
   "name": "python3"
  },
  "language_info": {
   "codemirror_mode": {
    "name": "ipython",
    "version": 3
   },
   "file_extension": ".py",
   "mimetype": "text/x-python",
   "name": "python",
   "nbconvert_exporter": "python",
   "pygments_lexer": "ipython3",
   "version": "3.8.8"
  }
 },
 "nbformat": 4,
 "nbformat_minor": 2
}
