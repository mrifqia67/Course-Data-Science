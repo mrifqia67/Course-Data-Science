{
 "cells": [
  {
   "cell_type": "markdown",
   "metadata": {},
   "source": [
    "1. Buatlah sebuah class dengan nama class = Kendaraan,  tanpa variabel, attribute dan methods"
   ]
  },
  {
   "cell_type": "code",
   "execution_count": 1,
   "metadata": {},
   "outputs": [],
   "source": [
    "#kerjakan soal 1 pada sel ini\n",
    "\n",
    "class Kendaraan :\n",
    "    pass"
   ]
  },
  {
   "cell_type": "markdown",
   "metadata": {},
   "source": [
    "2. Buatlah sebuah class dengan nama class = Kendaraan, yang memiliki atribut instance kecepatan_maksimum dan jarak_tempuh"
   ]
  },
  {
   "cell_type": "code",
   "execution_count": 5,
   "metadata": {},
   "outputs": [
    {
     "name": "stdout",
     "output_type": "stream",
     "text": [
      "240 10\n"
     ]
    }
   ],
   "source": [
    "#kerjakan soal no 2 pada sel ini\n",
    "\n",
    "#contoh pemanggilan\n",
    "#model_1 = Kendaraan(240,10)\n",
    "#print(model_1.kecepatan_maksimum, model_1.jarak_tempuh)\n",
    "\n",
    "#output\n",
    "#240 10\n",
    "\n",
    "class Kendaraan :\n",
    "    def __init__(parameter, kecepatan_maksimum, jarak_tempuh):\n",
    "        parameter.kecepatan_maksimum = kecepatan_maksimum\n",
    "        parameter.jarak_tempuh = jarak_tempuh\n",
    "\n",
    "model_1 = Kendaraan(240,10)  \n",
    "print(model_1.kecepatan_maksimum, model_1.jarak_tempuh)"
   ]
  },
  {
   "cell_type": "markdown",
   "metadata": {},
   "source": [
    "3. Buatlah sebuah class dengan nama Tesla yang bersifat inheritance/turunan dari class mobil"
   ]
  },
  {
   "cell_type": "code",
   "execution_count": 3,
   "metadata": {},
   "outputs": [
    {
     "name": "stdout",
     "output_type": "stream",
     "text": [
      "Nama Mobil: model x, Warna: perak, Bahan Bakar: listrik\n"
     ]
    }
   ],
   "source": [
    "#kerjakan soal no 3 pada sel ini\n",
    "\n",
    "class Mobil:\n",
    "    def __init__(self, nama, warna, bahan_bakar):\n",
    "        self.nama = nama\n",
    "        self.warna = warna\n",
    "        self.bahan_bakar = bahan_bakar        \n",
    "\n",
    "# contoh pemanggilan\n",
    "# model_x = Tesla(\"model x\",\"perak\",\"listrik\")\n",
    "# print(f\"Nama Mobil: {model_x.nama}, Warna: {model_x.warna}, Bahan Bakar: {model_x.bahan_bakar}\")\n",
    "\n",
    "# output\n",
    "# Nama Mobil: model x, Warna: perak, Bahan Bakar: listrik\n",
    "\n",
    "class Tesla(Mobil):\n",
    "        pass\n",
    "        \n",
    "model_x = Tesla(\"model x\",\"perak\",\"listrik\")\n",
    "print(f\"Nama Mobil: {model_x.nama}, Warna: {model_x.warna}, Bahan Bakar: {model_x.bahan_bakar}\")"
   ]
  },
  {
   "cell_type": "markdown",
   "metadata": {},
   "source": [
    "4. Buatlah sebuah class dengan ketentuan:\n",
    "    - memiliki nama Aritmatika\n",
    "    - instance atribut/input untuk class adalah dua integer\n",
    "    - memiliki metode yang bernama add yang menampilkan hasil penjumlahan instance atribut/inputan class"
   ]
  },
  {
   "cell_type": "code",
   "execution_count": 36,
   "metadata": {},
   "outputs": [
    {
     "data": {
      "text/plain": [
       "14"
      ]
     },
     "execution_count": 36,
     "metadata": {},
     "output_type": "execute_result"
    }
   ],
   "source": [
    "#kerjakan soal no 4 pada sel ini\n",
    "\n",
    "# contoh pemanggilan\n",
    "# model_hitung = Aritmatika(10,4)\n",
    "# model_hitung.add()\n",
    "\n",
    "# output\n",
    "# 14\n",
    "\n",
    "class Aritmatika:\n",
    "    def __init__(parameter, integer1, integer2):\n",
    "        parameter.integer1 = integer1\n",
    "        parameter.integer2 = integer2\n",
    "\n",
    "    def add(parameter):\n",
    "        return (parameter.integer1 + parameter.integer2) \n",
    "    \n",
    "model_hitung = Aritmatika(10,4)\n",
    "model_hitung.add()"
   ]
  },
  {
   "cell_type": "code",
   "execution_count": null,
   "metadata": {},
   "outputs": [],
   "source": []
  }
 ],
 "metadata": {
  "interpreter": {
   "hash": "b02d93efda564da1915d42b0288c26f05ac833e7645184a564f32e638d57cc3e"
  },
  "kernelspec": {
   "display_name": "Python 3",
   "language": "python",
   "name": "python3"
  },
  "language_info": {
   "codemirror_mode": {
    "name": "ipython",
    "version": 3
   },
   "file_extension": ".py",
   "mimetype": "text/x-python",
   "name": "python",
   "nbconvert_exporter": "python",
   "pygments_lexer": "ipython3",
   "version": "3.8.8"
  }
 },
 "nbformat": 4,
 "nbformat_minor": 2
}
