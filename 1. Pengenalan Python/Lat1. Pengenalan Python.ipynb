{
 "cells": [
  {
   "cell_type": "markdown",
   "metadata": {},
   "source": [
    "1. Buatlah 3 variabel yang masing-masing berisi\n",
    "    \n",
    "    a. Nama depan (string)\n",
    "    \n",
    "    b. Umur (integer)\n",
    "    \n",
    "    c. kota tinggal (string)"
   ]
  },
  {
   "cell_type": "code",
   "execution_count": 1,
   "metadata": {},
   "outputs": [],
   "source": [
    "#kerjakan soal no 1 pada sel ini\n",
    "Nama_Depan = 'Muhammad'\n",
    "Umur = 24\n",
    "Kota_tinggal = 'Cirebon'"
   ]
  },
  {
   "cell_type": "markdown",
   "metadata": {},
   "source": [
    "2. Tampilkan semua variabel pada soal no 1 menjadi sebuah kalimat dengan menggunakan metode print()"
   ]
  },
  {
   "cell_type": "code",
   "execution_count": 2,
   "metadata": {},
   "outputs": [
    {
     "name": "stdout",
     "output_type": "stream",
     "text": [
      "Nama Saya adalah Muhammad berusia 24 tahun dan tinggal di Cirebon\n"
     ]
    }
   ],
   "source": [
    "#kerjakan soal no 2 pada bagian sel ini\n",
    "#contoh keluaran yang diharapkan : \"Nama saya adalah Thio, berusia 28 tahun dan tinggal di Bandung.\"\n",
    "\n",
    "print(f'Nama Saya adalah ' + Nama_Depan + ' berusia ' + str(Umur) + ' tahun dan tinggal di ' + Kota_tinggal)"
   ]
  },
  {
   "cell_type": "markdown",
   "metadata": {},
   "source": [
    "3. Dengan menggunakan salah satu string method, ubah kata mangga pada variabel kalimat menjadi apel dan masukkan pada variabel kalimat_2 lalu print variabel kalimat_2"
   ]
  },
  {
   "cell_type": "code",
   "execution_count": 3,
   "metadata": {},
   "outputs": [
    {
     "name": "stdout",
     "output_type": "stream",
     "text": [
      "Budi menyukai buah apel\n"
     ]
    }
   ],
   "source": [
    "#kerjakan soal no 3 pada bagian sel ini\n",
    "kalimat = 'Budi menyukai buah mangga'\n",
    "kalimat_2 = kalimat.replace('mangga','apel')\n",
    "print(kalimat_2)"
   ]
  },
  {
   "cell_type": "code",
   "execution_count": null,
   "metadata": {},
   "outputs": [],
   "source": []
  }
 ],
 "metadata": {
  "kernelspec": {
   "display_name": "Python 3",
   "language": "python",
   "name": "python3"
  },
  "language_info": {
   "codemirror_mode": {
    "name": "ipython",
    "version": 3
   },
   "file_extension": ".py",
   "mimetype": "text/x-python",
   "name": "python",
   "nbconvert_exporter": "python",
   "pygments_lexer": "ipython3",
   "version": "3.8.8"
  }
 },
 "nbformat": 4,
 "nbformat_minor": 2
}
