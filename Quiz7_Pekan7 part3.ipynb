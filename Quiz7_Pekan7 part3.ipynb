{
 "cells": [
  {
   "cell_type": "markdown",
   "id": "22c712ee",
   "metadata": {},
   "source": [
    "Lakukan Text data analysis:\n",
    "1. Distribusi Frekuensi jumlah huruf pada suatu data\n",
    "2. Distribusi Frekuensi jumlah kata pada suatu data\n",
    "3. Distribusi Frekuensi panjang kata rata-rata pada suatu data\n",
    "4. Distribusi Frekuensi kata yang sering keluar\n",
    "5. Distribusi N-gram\n",
    "Tampilkan semua plot dari 1-4\n",
    "Tampilkan/print data 10 bi-gram yang paling banyak keluar."
   ]
  },
  {
   "cell_type": "code",
   "execution_count": 1,
   "id": "096ea508",
   "metadata": {},
   "outputs": [],
   "source": [
    "# import library\n",
    "import pandas as pd\n",
    "import numpy as np\n",
    "import matplotlib.pyplot as plt\n",
    "import seaborn as sns\n",
    "import nltk\n",
    "\n",
    "from nltk.tokenize import word_tokenize\n",
    "from nltk.probability import FreqDist"
   ]
  },
  {
   "cell_type": "code",
   "execution_count": 2,
   "id": "0d0b9fb1",
   "metadata": {},
   "outputs": [
    {
     "data": {
      "text/html": [
       "<div>\n",
       "<style scoped>\n",
       "    .dataframe tbody tr th:only-of-type {\n",
       "        vertical-align: middle;\n",
       "    }\n",
       "\n",
       "    .dataframe tbody tr th {\n",
       "        vertical-align: top;\n",
       "    }\n",
       "\n",
       "    .dataframe thead th {\n",
       "        text-align: right;\n",
       "    }\n",
       "</style>\n",
       "<table border=\"1\" class=\"dataframe\">\n",
       "  <thead>\n",
       "    <tr style=\"text-align: right;\">\n",
       "      <th></th>\n",
       "      <th>date</th>\n",
       "      <th>title</th>\n",
       "    </tr>\n",
       "  </thead>\n",
       "  <tbody>\n",
       "    <tr>\n",
       "      <th>0</th>\n",
       "      <td>2021-12-01</td>\n",
       "      <td>genoa vs ac milan shevchenko mantan klub kesul...</td>\n",
       "    </tr>\n",
       "    <tr>\n",
       "      <th>1</th>\n",
       "      <td>2021-12-01</td>\n",
       "      <td>odha depok stigma negatif</td>\n",
       "    </tr>\n",
       "    <tr>\n",
       "      <th>2</th>\n",
       "      <td>2021-12-01</td>\n",
       "      <td>pemprov jakarta bentuk tim khusus awasi alat m...</td>\n",
       "    </tr>\n",
       "    <tr>\n",
       "      <th>3</th>\n",
       "      <td>2021-12-01</td>\n",
       "      <td>penonton lokal piala aff acuhkan aturan</td>\n",
       "    </tr>\n",
       "    <tr>\n",
       "      <th>4</th>\n",
       "      <td>2021-12-01</td>\n",
       "      <td>pekan penumpang bandara soekarnohatta capai orang</td>\n",
       "    </tr>\n",
       "    <tr>\n",
       "      <th>...</th>\n",
       "      <td>...</td>\n",
       "      <td>...</td>\n",
       "    </tr>\n",
       "    <tr>\n",
       "      <th>195</th>\n",
       "      <td>2021-12-01</td>\n",
       "      <td>pemerintah terbitkan skb menteri perjelas kete...</td>\n",
       "    </tr>\n",
       "    <tr>\n",
       "      <th>196</th>\n",
       "      <td>2021-12-01</td>\n",
       "      <td>densus sita senapan m peluru terduga teroris s...</td>\n",
       "    </tr>\n",
       "    <tr>\n",
       "      <th>197</th>\n",
       "      <td>2021-12-01</td>\n",
       "      <td>foto viral pasutri motor menara eiffel ceritanya</td>\n",
       "    </tr>\n",
       "    <tr>\n",
       "      <th>198</th>\n",
       "      <td>2021-12-01</td>\n",
       "      <td>momen indro satukan warkop dki kasino dono bicara</td>\n",
       "    </tr>\n",
       "    <tr>\n",
       "      <th>199</th>\n",
       "      <td>2021-12-01</td>\n",
       "      <td>pil covid molnupiravir merck kantongi izin fda</td>\n",
       "    </tr>\n",
       "  </tbody>\n",
       "</table>\n",
       "<p>200 rows × 2 columns</p>\n",
       "</div>"
      ],
      "text/plain": [
       "           date                                              title\n",
       "0    2021-12-01  genoa vs ac milan shevchenko mantan klub kesul...\n",
       "1    2021-12-01                          odha depok stigma negatif\n",
       "2    2021-12-01  pemprov jakarta bentuk tim khusus awasi alat m...\n",
       "3    2021-12-01            penonton lokal piala aff acuhkan aturan\n",
       "4    2021-12-01  pekan penumpang bandara soekarnohatta capai orang\n",
       "..          ...                                                ...\n",
       "195  2021-12-01  pemerintah terbitkan skb menteri perjelas kete...\n",
       "196  2021-12-01  densus sita senapan m peluru terduga teroris s...\n",
       "197  2021-12-01   foto viral pasutri motor menara eiffel ceritanya\n",
       "198  2021-12-01  momen indro satukan warkop dki kasino dono bicara\n",
       "199  2021-12-01     pil covid molnupiravir merck kantongi izin fda\n",
       "\n",
       "[200 rows x 2 columns]"
      ]
     },
     "metadata": {},
     "output_type": "display_data"
    }
   ],
   "source": [
    "# memanggil data\n",
    "df = pd.read_csv('kompas_20211201_clean.csv')\n",
    "display(df)"
   ]
  },
  {
   "cell_type": "code",
   "execution_count": 3,
   "id": "c85da349",
   "metadata": {},
   "outputs": [
    {
     "data": {
      "image/png": "[encoded data removed]",
      "text/plain": [
       "<Figure size 648x360 with 1 Axes>"
      ]
     },
     "metadata": {
      "needs_background": "light"
     },
     "output_type": "display_data"
    }
   ],
   "source": [
    "# 1. Distribusi Frekuensi jumlah huruf pada suatu data\n",
    "# mengatur ukuran figure\n",
    "fig, ax = plt.subplots(figsize = (9,5))\n",
    "\n",
    "# plot the data\n",
    "bin_range = np.arange(0, 300, 10)\n",
    "df['title'].str.len().hist(bins=bin_range)\n",
    "\n",
    "# membuat judul dan label untuk x dan y axis\n",
    "plt.title('Distribusi Frekuensi Karakter per headline')\n",
    "plt.xlabel('Jumlah Karakter per headline')\n",
    "plt.ylabel('Count')\n",
    "\n",
    "plt.show()"
   ]
  },
  {
   "cell_type": "code",
   "execution_count": 4,
   "id": "def99297",
   "metadata": {},
   "outputs": [
    {
     "data": {
      "image/png": "[encoded data removed]",
      "text/plain": [
       "<Figure size 648x360 with 1 Axes>"
      ]
     },
     "metadata": {
      "needs_background": "light"
     },
     "output_type": "display_data"
    }
   ],
   "source": [
    "# 2. Distribusi Frekuensi jumlah kata pada suatu data\n",
    "# mengatur ukuran figure\n",
    "fig, ax = plt.subplots(figsize = (9,5))\n",
    "\n",
    "# plot the data\n",
    "bin_range = np.arange(0, 50)\n",
    "df['title'].str.split().map(lambda x: len(x)).hist(bins=bin_range)\n",
    "\n",
    "# membuat judul dan label untuk x dan y axis\n",
    "plt.title('Distribusi Panjang Kata per Tweet')\n",
    "plt.xlabel('Panjang Kata per Tweet')\n",
    "plt.ylabel('Count')\n",
    "\n",
    "plt.show()"
   ]
  },
  {
   "cell_type": "code",
   "execution_count": 5,
   "id": "f82c5f75",
   "metadata": {},
   "outputs": [
    {
     "data": {
      "image/png": "[encoded data removed]",
      "text/plain": [
       "<Figure size 648x360 with 1 Axes>"
      ]
     },
     "metadata": {
      "needs_background": "light"
     },
     "output_type": "display_data"
    }
   ],
   "source": [
    "# 3. Distribusi Frekuensi panjang kata rata-rata pada suatu data\n",
    "# mengatur ukuran figure\n",
    "fig, ax = plt.subplots(figsize = (9,5))\n",
    "\n",
    "# plot the data\n",
    "df['title'].str.split().apply(lambda x : [len(i) for i in x]).map(lambda x: np.mean(x)).hist()\n",
    "\n",
    "# membuat judul dan label untuk x dan y axis\n",
    "plt.title('Distribusi Panjang Rata-rata Kata per Tweet')\n",
    "plt.xlabel('Panjang Rata-rata Kata per Tweet')\n",
    "plt.ylabel('Count')\n",
    "\n",
    "plt.show()"
   ]
  },
  {
   "cell_type": "code",
   "execution_count": 6,
   "id": "450a4540",
   "metadata": {},
   "outputs": [
    {
     "name": "stdout",
     "output_type": "stream",
     "text": [
      "<FreqDist with 1064 samples and 1494 outcomes>\n",
      "[('jakarta', 10), ('covid', 10), ('lagu', 10), ('indonesia', 9), ('polisi', 9), ('warga', 9), ('lirik', 9), ('chord', 8), ('bwf', 7), ('world', 7), ('tour', 7), ('finals', 7), ('omicron', 6), ('teroris', 6), ('korban', 6), ('vs', 5), ('aturan', 5), ('varian', 5), ('jokowi', 5), ('siapkan', 5), ('menteri', 5), ('hasil', 5), ('kerja', 5), ('perjalanan', 5), ('piala', 4)]\n"
     ]
    }
   ],
   "source": [
    "# 4. Distribusi Frekuensi kata yang sering keluar\n",
    "# melakukan tokenization pada dataset\n",
    "df['title'] = df['title'].apply(lambda x: word_tokenize(str(x)))\n",
    " \n",
    "# memasukkan pada semua token tersebut pada satu list yang sama\n",
    " \n",
    "clean_words = [word for tweet in df['title'] for word in tweet]\n",
    " \n",
    "# melihat berapa sample dan keluarannya\n",
    "fqdist = FreqDist(clean_words)\n",
    "\n",
    "print(fqdist)\n",
    "\n",
    "# menampilkan frekuensi kata terbanyak dengan limit 25 \n",
    "freq_kata = fqdist.most_common(25)\n",
    "\n",
    "print(freq_kata)"
   ]
  },
  {
   "cell_type": "code",
   "execution_count": 8,
   "id": "ea93869f",
   "metadata": {},
   "outputs": [
    {
     "name": "stdout",
     "output_type": "stream",
     "text": [
      "<class 'pandas.core.frame.DataFrame'>\n",
      "RangeIndex: 25 entries, 0 to 24\n",
      "Data columns (total 2 columns):\n",
      " #   Column  Non-Null Count  Dtype \n",
      "---  ------  --------------  ----- \n",
      " 0   0       25 non-null     object\n",
      " 1   1       25 non-null     int64 \n",
      "dtypes: int64(1), object(1)\n",
      "memory usage: 528.0+ bytes\n"
     ]
    },
    {
     "data": {
      "image/png": "[encoded data removed]",
      "text/plain": [
       "<Figure size 648x720 with 1 Axes>"
      ]
     },
     "metadata": {
      "needs_background": "light"
     },
     "output_type": "display_data"
    }
   ],
   "source": [
    "f_kata = pd.DataFrame(freq_kata)\n",
    "f_kata.info()\n",
    "\n",
    "fig, ax = plt.subplots(figsize = (9,10))\n",
    "\n",
    "# plot the data \n",
    "sns.barplot(data = f_kata, x = f_kata[1], y = f_kata[0], orient = 'h')\n",
    "\n",
    "# membuat judul dan label untuk x dan y axis\n",
    "plt.title('25 Kata dengan Jumlah Frekuensi Terbanyak', fontweight = 'bold')\n",
    "plt.xlabel('Count', fontsize = 12)\n",
    "plt.ylabel('Kata', fontsize = 12)\n",
    "\n",
    "plt.show()"
   ]
  },
  {
   "cell_type": "code",
   "execution_count": 9,
   "id": "e99e25f4",
   "metadata": {},
   "outputs": [
    {
     "name": "stdout",
     "output_type": "stream",
     "text": [
      "(chord, lagu)         8\n",
      "(lirik, chord)        8\n",
      "(tour, finals)        7\n",
      "(bwf, world)          7\n",
      "(world, tour)         7\n",
      "(terduga, teroris)    4\n",
      "(ppkm, level)         4\n",
      "(piala, aff)          4\n",
      "(varian, omicron)     4\n",
      "(libur, natal)        3\n",
      "dtype: int64\n"
     ]
    }
   ],
   "source": [
    "# 5. Distribusi N-gram\n",
    "hasil = pd.Series(nltk.ngrams(clean_words, 2)).value_counts()[:10]\n",
    "print(hasil)"
   ]
  },
  {
   "cell_type": "markdown",
   "id": "05e3621b",
   "metadata": {},
   "source": [
    "Berdasarkan hasil analisis text yang diperoleh dari indeks.kompas.com, dapat disimpulkan bahwa :\n",
    "\n",
    "1. Untuk grafik Jumlah Karakter per headline, distribusi terbanyak berada pada rentang 40 - 70 karakter per headline.\n",
    "\n",
    "2. Untuk grafik Distribusi Panjang Kata per headline, distribusi terbanyak berada pada rentang 7 - 9 kata per headline.\n",
    "\n",
    "3. Untuk grafik Distribusi Panjang Rata-rata Kata per headline, distribusi terbanyak berada pada rentang 5 - 7 karakter per kata per headline.\n",
    "\n",
    "4. Artinya, mayoritas kata pada headline berita tersebut berada pada 7 sampai 9 kata dengan setiap kata berada pada rentang 5 sampai 7 karakter dan totalnya berada pada 40 sampai dengan 70 karakter.\n",
    "\n",
    "6. Terdapat 3 kata dengan jumlah frekuensi terbanyak, yaitu jakarta, covid, dan lagu secara berturut-turut\n",
    "\n",
    "7. Tema yang ditampilkan dalam berita itu cukup beragam, mulai dari lirik lagu, varian omicron, bwf world, serta piala aff."
   ]
  },
  {
   "cell_type": "code",
   "execution_count": null,
   "id": "06d21654",
   "metadata": {},
   "outputs": [],
   "source": []
  }
 ],
 "metadata": {
  "kernelspec": {
   "display_name": "Python 3",
   "language": "python",
   "name": "python3"
  },
  "language_info": {
   "codemirror_mode": {
    "name": "ipython",
    "version": 3
   },
   "file_extension": ".py",
   "mimetype": "text/x-python",
   "name": "python",
   "nbconvert_exporter": "python",
   "pygments_lexer": "ipython3",
   "version": "3.8.8"
  }
 },
 "nbformat": 4,
 "nbformat_minor": 5
}
