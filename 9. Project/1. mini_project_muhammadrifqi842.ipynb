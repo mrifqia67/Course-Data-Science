{
 "cells": [
  {
   "cell_type": "markdown",
   "metadata": {
    "id": "88N7J1l0-xa0"
   },
   "source": [
    "Tugas ini berupa mini project yang diselesaikan diakhir pertemuan bulan pertama. Tugas disusun sesuai dengan materi yang diberikan tiap harinya di pekan 4. "
   ]
  },
  {
   "cell_type": "markdown",
   "metadata": {
    "id": "IRNtERY8FNe1"
   },
   "source": [
    "# Dataset\n",
    "\n",
    "silahkan unduh dataset berikut untuk mengerjakan tugas pekan 4:\n",
    "\n",
    "[pelanggan_supermarket.csv](https://drive.google.com/uc?export=download&id=1jaxCbZ4fcCneeVCEN-yuxWE0RyX25tbQ)"
   ]
  },
  {
   "cell_type": "markdown",
   "metadata": {
    "id": "Dk_lP4YPF6_i"
   },
   "source": [
    "\n",
    "\n",
    "---\n",
    "\n",
    "\n",
    "\n",
    "---\n",
    "\n",
    "\n",
    "\n",
    "---\n",
    "\n"
   ]
  },
  {
   "cell_type": "code",
   "execution_count": 1,
   "metadata": {
    "id": "lhN_Ue2qF8nN"
   },
   "outputs": [],
   "source": [
    "import pandas as pd\n",
    "import numpy as np\n",
    "import matplotlib.pyplot as plt\n",
    "import seaborn as sns\n",
    "import warnings\n",
    "warnings.filterwarnings('ignore')"
   ]
  },
  {
   "cell_type": "code",
   "execution_count": 2,
   "metadata": {
    "colab": {
     "base_uri": "https://localhost:8080/",
     "height": 424
    },
    "id": "M1tQcd_ILZXq",
    "outputId": "2aea46a6-3889-4d13-8841-be18f708cac4"
   },
   "outputs": [
    {
     "data": {
      "text/html": [
       "<div>\n",
       "<style scoped>\n",
       "    .dataframe tbody tr th:only-of-type {\n",
       "        vertical-align: middle;\n",
       "    }\n",
       "\n",
       "    .dataframe tbody tr th {\n",
       "        vertical-align: top;\n",
       "    }\n",
       "\n",
       "    .dataframe thead th {\n",
       "        text-align: right;\n",
       "    }\n",
       "</style>\n",
       "<table border=\"1\" class=\"dataframe\">\n",
       "  <thead>\n",
       "    <tr style=\"text-align: right;\">\n",
       "      <th></th>\n",
       "      <th>ID_pelanggan</th>\n",
       "      <th>Jenis Kelamin</th>\n",
       "      <th>Umur</th>\n",
       "      <th>Pendapatan pertahun (juta)</th>\n",
       "      <th>Skor Belanja (1-100)</th>\n",
       "    </tr>\n",
       "  </thead>\n",
       "  <tbody>\n",
       "    <tr>\n",
       "      <th>0</th>\n",
       "      <td>1</td>\n",
       "      <td>Laki-laki</td>\n",
       "      <td>19.0</td>\n",
       "      <td>15</td>\n",
       "      <td>39.0</td>\n",
       "    </tr>\n",
       "    <tr>\n",
       "      <th>1</th>\n",
       "      <td>2</td>\n",
       "      <td>Laki-laki</td>\n",
       "      <td>21.0</td>\n",
       "      <td>15</td>\n",
       "      <td>81.0</td>\n",
       "    </tr>\n",
       "    <tr>\n",
       "      <th>2</th>\n",
       "      <td>3</td>\n",
       "      <td>Perempuan</td>\n",
       "      <td>20.0</td>\n",
       "      <td>16</td>\n",
       "      <td>6.0</td>\n",
       "    </tr>\n",
       "    <tr>\n",
       "      <th>3</th>\n",
       "      <td>4</td>\n",
       "      <td>Perempuan</td>\n",
       "      <td>23.0</td>\n",
       "      <td>16</td>\n",
       "      <td>77.0</td>\n",
       "    </tr>\n",
       "    <tr>\n",
       "      <th>4</th>\n",
       "      <td>5</td>\n",
       "      <td>Perempuan</td>\n",
       "      <td>31.0</td>\n",
       "      <td>17</td>\n",
       "      <td>40.0</td>\n",
       "    </tr>\n",
       "    <tr>\n",
       "      <th>...</th>\n",
       "      <td>...</td>\n",
       "      <td>...</td>\n",
       "      <td>...</td>\n",
       "      <td>...</td>\n",
       "      <td>...</td>\n",
       "    </tr>\n",
       "    <tr>\n",
       "      <th>245</th>\n",
       "      <td>246</td>\n",
       "      <td>Laki-laki</td>\n",
       "      <td>59.0</td>\n",
       "      <td>93</td>\n",
       "      <td>14.0</td>\n",
       "    </tr>\n",
       "    <tr>\n",
       "      <th>246</th>\n",
       "      <td>247</td>\n",
       "      <td>Laki-laki</td>\n",
       "      <td>35.0</td>\n",
       "      <td>93</td>\n",
       "      <td>90.0</td>\n",
       "    </tr>\n",
       "    <tr>\n",
       "      <th>247</th>\n",
       "      <td>248</td>\n",
       "      <td>Perempuan</td>\n",
       "      <td>37.0</td>\n",
       "      <td>97</td>\n",
       "      <td>32.0</td>\n",
       "    </tr>\n",
       "    <tr>\n",
       "      <th>248</th>\n",
       "      <td>249</td>\n",
       "      <td>Perempuan</td>\n",
       "      <td>32.0</td>\n",
       "      <td>97</td>\n",
       "      <td>86.0</td>\n",
       "    </tr>\n",
       "    <tr>\n",
       "      <th>249</th>\n",
       "      <td>250</td>\n",
       "      <td>Laki-laki</td>\n",
       "      <td>120.0</td>\n",
       "      <td>98</td>\n",
       "      <td>15.0</td>\n",
       "    </tr>\n",
       "  </tbody>\n",
       "</table>\n",
       "<p>250 rows × 5 columns</p>\n",
       "</div>"
      ],
      "text/plain": [
       "     ID_pelanggan Jenis Kelamin   Umur  Pendapatan pertahun (juta)  \\\n",
       "0               1     Laki-laki   19.0                          15   \n",
       "1               2     Laki-laki   21.0                          15   \n",
       "2               3     Perempuan   20.0                          16   \n",
       "3               4     Perempuan   23.0                          16   \n",
       "4               5     Perempuan   31.0                          17   \n",
       "..            ...           ...    ...                         ...   \n",
       "245           246     Laki-laki   59.0                          93   \n",
       "246           247     Laki-laki   35.0                          93   \n",
       "247           248     Perempuan   37.0                          97   \n",
       "248           249     Perempuan   32.0                          97   \n",
       "249           250     Laki-laki  120.0                          98   \n",
       "\n",
       "     Skor Belanja (1-100)  \n",
       "0                    39.0  \n",
       "1                    81.0  \n",
       "2                     6.0  \n",
       "3                    77.0  \n",
       "4                    40.0  \n",
       "..                    ...  \n",
       "245                  14.0  \n",
       "246                  90.0  \n",
       "247                  32.0  \n",
       "248                  86.0  \n",
       "249                  15.0  \n",
       "\n",
       "[250 rows x 5 columns]"
      ]
     },
     "execution_count": 2,
     "metadata": {},
     "output_type": "execute_result"
    }
   ],
   "source": [
    "import pandas as pd\n",
    "\n",
    "df = pd.read_csv('pelanggan_supermarket.csv')\n",
    "df"
   ]
  },
  {
   "cell_type": "markdown",
   "metadata": {
    "id": "aklja_xv_MS9"
   },
   "source": [
    "\n",
    "\n",
    "---\n",
    "\n",
    "\n",
    "\n",
    "---\n",
    "\n",
    "\n",
    "\n",
    "---\n",
    "\n"
   ]
  },
  {
   "cell_type": "markdown",
   "metadata": {
    "id": "zGrxp0w2GFOs"
   },
   "source": [
    "# Soal 1. Statistika Deskriptif\n",
    "\n",
    "lakukan eksplorasi data dengan menggunakan statistika deskriptif. Gunakan pandas untuk mendapatkan summary statistics, dan analisa hasil yang ditampilkan."
   ]
  },
  {
   "cell_type": "code",
   "execution_count": 3,
   "metadata": {
    "id": "DpV8-yksGpIt"
   },
   "outputs": [
    {
     "data": {
      "text/html": [
       "<div>\n",
       "<style scoped>\n",
       "    .dataframe tbody tr th:only-of-type {\n",
       "        vertical-align: middle;\n",
       "    }\n",
       "\n",
       "    .dataframe tbody tr th {\n",
       "        vertical-align: top;\n",
       "    }\n",
       "\n",
       "    .dataframe thead th {\n",
       "        text-align: right;\n",
       "    }\n",
       "</style>\n",
       "<table border=\"1\" class=\"dataframe\">\n",
       "  <thead>\n",
       "    <tr style=\"text-align: right;\">\n",
       "      <th></th>\n",
       "      <th>ID_pelanggan</th>\n",
       "      <th>Umur</th>\n",
       "      <th>Pendapatan pertahun (juta)</th>\n",
       "      <th>Skor Belanja (1-100)</th>\n",
       "    </tr>\n",
       "  </thead>\n",
       "  <tbody>\n",
       "    <tr>\n",
       "      <th>count</th>\n",
       "      <td>250.000000</td>\n",
       "      <td>245.000000</td>\n",
       "      <td>250.000000</td>\n",
       "      <td>246.000000</td>\n",
       "    </tr>\n",
       "    <tr>\n",
       "      <th>mean</th>\n",
       "      <td>125.500000</td>\n",
       "      <td>38.730612</td>\n",
       "      <td>64.736000</td>\n",
       "      <td>50.325203</td>\n",
       "    </tr>\n",
       "    <tr>\n",
       "      <th>std</th>\n",
       "      <td>72.312977</td>\n",
       "      <td>14.328726</td>\n",
       "      <td>25.112324</td>\n",
       "      <td>28.668121</td>\n",
       "    </tr>\n",
       "    <tr>\n",
       "      <th>min</th>\n",
       "      <td>1.000000</td>\n",
       "      <td>18.000000</td>\n",
       "      <td>15.000000</td>\n",
       "      <td>3.000000</td>\n",
       "    </tr>\n",
       "    <tr>\n",
       "      <th>25%</th>\n",
       "      <td>63.250000</td>\n",
       "      <td>29.000000</td>\n",
       "      <td>47.000000</td>\n",
       "      <td>26.250000</td>\n",
       "    </tr>\n",
       "    <tr>\n",
       "      <th>50%</th>\n",
       "      <td>125.500000</td>\n",
       "      <td>36.000000</td>\n",
       "      <td>70.000000</td>\n",
       "      <td>50.000000</td>\n",
       "    </tr>\n",
       "    <tr>\n",
       "      <th>75%</th>\n",
       "      <td>187.750000</td>\n",
       "      <td>48.000000</td>\n",
       "      <td>78.750000</td>\n",
       "      <td>74.750000</td>\n",
       "    </tr>\n",
       "    <tr>\n",
       "      <th>max</th>\n",
       "      <td>250.000000</td>\n",
       "      <td>120.000000</td>\n",
       "      <td>137.000000</td>\n",
       "      <td>150.000000</td>\n",
       "    </tr>\n",
       "  </tbody>\n",
       "</table>\n",
       "</div>"
      ],
      "text/plain": [
       "       ID_pelanggan        Umur  Pendapatan pertahun (juta)  \\\n",
       "count    250.000000  245.000000                  250.000000   \n",
       "mean     125.500000   38.730612                   64.736000   \n",
       "std       72.312977   14.328726                   25.112324   \n",
       "min        1.000000   18.000000                   15.000000   \n",
       "25%       63.250000   29.000000                   47.000000   \n",
       "50%      125.500000   36.000000                   70.000000   \n",
       "75%      187.750000   48.000000                   78.750000   \n",
       "max      250.000000  120.000000                  137.000000   \n",
       "\n",
       "       Skor Belanja (1-100)  \n",
       "count            246.000000  \n",
       "mean              50.325203  \n",
       "std               28.668121  \n",
       "min                3.000000  \n",
       "25%               26.250000  \n",
       "50%               50.000000  \n",
       "75%               74.750000  \n",
       "max              150.000000  "
      ]
     },
     "metadata": {},
     "output_type": "display_data"
    }
   ],
   "source": [
    "# code here\n",
    "# melakukan analisis statistika deskriptif untuk kolom ID pelanggan, umur, pendapatan pertahun (dalam juta), dan skor belanja\n",
    "display(df.describe())"
   ]
  },
  {
   "cell_type": "markdown",
   "metadata": {},
   "source": [
    "Dari hasil analisis menggunakan statistika deskriptif untuk kolom id pelanggan, umur, pendapatan pertahun, dan skor belanja, dapat diperoleh bahwa :\n",
    "\n",
    "- Total banyaknya pelanggan pada supermarket tersebut dalam kurun waktu yang telah ditentukan adalah sebanyak 250 pelanggan.\n",
    "\n",
    "- Rata-rata umur pelanggan yang datang ke supermarket tersebut adalah 38.7 ~ 39 tahun, artinya rata-rata pelanggan yang datang ke supermarket tersebut berasal dari usia yang masih tergolong produktif. Umur yang paling rendah dari pelanggan tersebut adalah 18 tahun dan terdapat data yang tidak logis dengan umur tertingginya adalah 120 tahun. Seharusnya seseorang yang memiliki umur 120 tidak perlu ke supermarket untuk belanja, alternatifnya dapat meminta tolong kepada anak atau cucu untuk berbelanja disana. Standar deviasinya menunjukkan nilai 14.32, artinya umur pelanggan yang datang ke supermarket tersebut sangat bervariasi atau dengan kata lain memiliki variasi yang cukup tinggi.\n",
    "\n",
    "- Rata-rata pendapatan pertahun dari pelanggan di supermarket tersebut adalah sebesar 64.736 juta, dengan nilai pendapatan tertinggi adalah sebesar 137 juta dan pendapatan terendah mencapai 15 juta. Nilai standar deviasinya adalah 25.11, menunjukkan bahwa pendapatan pertahun pelanggan di supermarket tersebut cukup bervariasi.\n",
    "\n",
    "- Dalam hal skor belanja, tidak terdapat pengkategorian yang jelas untuk setiap skor dan terdapat data yang tidak logis, dengan nilai skor 150 (nilai skor belanja terdapat pada rentang nilai 1-100). Apabila saya mengkategorikan setiap skor kedalam, misalnya 1-20 : sangat tidak puas, 21-40 : tidak puas, 41-60 : cukup puas, 61-80 : puas, dan 81-100 : sangat puas. Maka rata-rata pelanggan yang belanja disana merasa cukup puas, entah dari segi kebersihan, pelayanan pelanggan, maupun dari harga barang yang dijual. Walaupun rata-rata pelanggan merasa cukup puas, hal ini bukan berarti bahwa supermarket tersebut harus berbangga diri, karena masih terdapat pelanggan yang merasa sangat tidak puas belanja disana. Oleh karena itu, supermarket tersebut harus melakukan evaluasi, terutama dalam hal pelayanan pelanggan dan kebersihan."
   ]
  },
  {
   "cell_type": "markdown",
   "metadata": {
    "id": "ENATFBsjU6Me"
   },
   "source": [
    "**Expected output**\n",
    "\n",
    "![](https://drive.google.com/uc?id=1-5_d0Ey1lWMXj0d8ABimuPqqTz-h-8mx)"
   ]
  },
  {
   "cell_type": "markdown",
   "metadata": {
    "id": "po0Ba28dZ3h2"
   },
   "source": []
  },
  {
   "cell_type": "markdown",
   "metadata": {
    "id": "keRLYMjXHGup"
   },
   "source": [
    "\n",
    "\n",
    "---\n",
    "\n",
    "\n",
    "\n",
    "---\n",
    "\n",
    "\n",
    "\n",
    "---\n",
    "\n"
   ]
  },
  {
   "cell_type": "markdown",
   "metadata": {
    "id": "gqqEXm2yynSB"
   },
   "source": [
    "# Soal 2. Handling missing value\n",
    "\n",
    "Jika dilihat dari summary statistik terlihat dataset memiliki nilai missing. Hitunglah jumlah missing value menggunakan methode .isnull(). \n",
    "\n",
    "Isi nilai nan dengan nilai sebelumnya di row tersebut. gunakan method .fillna() dengan argument method bernilai 'ffill', baca dokumentasi https://pandas.pydata.org/pandas-docs/stable/reference/api/pandas.DataFrame.fillna.html"
   ]
  },
  {
   "cell_type": "code",
   "execution_count": 4,
   "metadata": {
    "scrolled": true
   },
   "outputs": [
    {
     "data": {
      "text/plain": [
       "ID_pelanggan                  0\n",
       "Jenis Kelamin                 0\n",
       "Umur                          5\n",
       "Pendapatan pertahun (juta)    0\n",
       "Skor Belanja (1-100)          4\n",
       "dtype: int64"
      ]
     },
     "metadata": {},
     "output_type": "display_data"
    }
   ],
   "source": [
    "# code here\n",
    "# menghitung jumlah missing value untuk setiap kolom\n",
    "display(df.isnull().sum())"
   ]
  },
  {
   "cell_type": "markdown",
   "metadata": {},
   "source": [
    "Terdapat 5 missing value dari kolom umur dan 4 missing value dari kolom skor belanja."
   ]
  },
  {
   "cell_type": "code",
   "execution_count": 5,
   "metadata": {
    "id": "0-czR7PmYyfb"
   },
   "outputs": [
    {
     "data": {
      "text/html": [
       "<div>\n",
       "<style scoped>\n",
       "    .dataframe tbody tr th:only-of-type {\n",
       "        vertical-align: middle;\n",
       "    }\n",
       "\n",
       "    .dataframe tbody tr th {\n",
       "        vertical-align: top;\n",
       "    }\n",
       "\n",
       "    .dataframe thead th {\n",
       "        text-align: right;\n",
       "    }\n",
       "</style>\n",
       "<table border=\"1\" class=\"dataframe\">\n",
       "  <thead>\n",
       "    <tr style=\"text-align: right;\">\n",
       "      <th></th>\n",
       "      <th>ID_pelanggan</th>\n",
       "      <th>Jenis Kelamin</th>\n",
       "      <th>Umur</th>\n",
       "      <th>Pendapatan pertahun (juta)</th>\n",
       "      <th>Skor Belanja (1-100)</th>\n",
       "    </tr>\n",
       "  </thead>\n",
       "  <tbody>\n",
       "    <tr>\n",
       "      <th>0</th>\n",
       "      <td>1</td>\n",
       "      <td>Laki-laki</td>\n",
       "      <td>19.0</td>\n",
       "      <td>15</td>\n",
       "      <td>39.0</td>\n",
       "    </tr>\n",
       "    <tr>\n",
       "      <th>1</th>\n",
       "      <td>2</td>\n",
       "      <td>Laki-laki</td>\n",
       "      <td>21.0</td>\n",
       "      <td>15</td>\n",
       "      <td>81.0</td>\n",
       "    </tr>\n",
       "    <tr>\n",
       "      <th>2</th>\n",
       "      <td>3</td>\n",
       "      <td>Perempuan</td>\n",
       "      <td>20.0</td>\n",
       "      <td>16</td>\n",
       "      <td>6.0</td>\n",
       "    </tr>\n",
       "    <tr>\n",
       "      <th>3</th>\n",
       "      <td>4</td>\n",
       "      <td>Perempuan</td>\n",
       "      <td>23.0</td>\n",
       "      <td>16</td>\n",
       "      <td>77.0</td>\n",
       "    </tr>\n",
       "    <tr>\n",
       "      <th>4</th>\n",
       "      <td>5</td>\n",
       "      <td>Perempuan</td>\n",
       "      <td>31.0</td>\n",
       "      <td>17</td>\n",
       "      <td>40.0</td>\n",
       "    </tr>\n",
       "    <tr>\n",
       "      <th>...</th>\n",
       "      <td>...</td>\n",
       "      <td>...</td>\n",
       "      <td>...</td>\n",
       "      <td>...</td>\n",
       "      <td>...</td>\n",
       "    </tr>\n",
       "    <tr>\n",
       "      <th>245</th>\n",
       "      <td>246</td>\n",
       "      <td>Laki-laki</td>\n",
       "      <td>59.0</td>\n",
       "      <td>93</td>\n",
       "      <td>14.0</td>\n",
       "    </tr>\n",
       "    <tr>\n",
       "      <th>246</th>\n",
       "      <td>247</td>\n",
       "      <td>Laki-laki</td>\n",
       "      <td>35.0</td>\n",
       "      <td>93</td>\n",
       "      <td>90.0</td>\n",
       "    </tr>\n",
       "    <tr>\n",
       "      <th>247</th>\n",
       "      <td>248</td>\n",
       "      <td>Perempuan</td>\n",
       "      <td>37.0</td>\n",
       "      <td>97</td>\n",
       "      <td>32.0</td>\n",
       "    </tr>\n",
       "    <tr>\n",
       "      <th>248</th>\n",
       "      <td>249</td>\n",
       "      <td>Perempuan</td>\n",
       "      <td>32.0</td>\n",
       "      <td>97</td>\n",
       "      <td>86.0</td>\n",
       "    </tr>\n",
       "    <tr>\n",
       "      <th>249</th>\n",
       "      <td>250</td>\n",
       "      <td>Laki-laki</td>\n",
       "      <td>120.0</td>\n",
       "      <td>98</td>\n",
       "      <td>15.0</td>\n",
       "    </tr>\n",
       "  </tbody>\n",
       "</table>\n",
       "<p>250 rows × 5 columns</p>\n",
       "</div>"
      ],
      "text/plain": [
       "     ID_pelanggan Jenis Kelamin   Umur  Pendapatan pertahun (juta)  \\\n",
       "0               1     Laki-laki   19.0                          15   \n",
       "1               2     Laki-laki   21.0                          15   \n",
       "2               3     Perempuan   20.0                          16   \n",
       "3               4     Perempuan   23.0                          16   \n",
       "4               5     Perempuan   31.0                          17   \n",
       "..            ...           ...    ...                         ...   \n",
       "245           246     Laki-laki   59.0                          93   \n",
       "246           247     Laki-laki   35.0                          93   \n",
       "247           248     Perempuan   37.0                          97   \n",
       "248           249     Perempuan   32.0                          97   \n",
       "249           250     Laki-laki  120.0                          98   \n",
       "\n",
       "     Skor Belanja (1-100)  \n",
       "0                    39.0  \n",
       "1                    81.0  \n",
       "2                     6.0  \n",
       "3                    77.0  \n",
       "4                    40.0  \n",
       "..                    ...  \n",
       "245                  14.0  \n",
       "246                  90.0  \n",
       "247                  32.0  \n",
       "248                  86.0  \n",
       "249                  15.0  \n",
       "\n",
       "[250 rows x 5 columns]"
      ]
     },
     "metadata": {},
     "output_type": "display_data"
    },
    {
     "data": {
      "text/plain": [
       "ID_pelanggan                  0\n",
       "Jenis Kelamin                 0\n",
       "Umur                          0\n",
       "Pendapatan pertahun (juta)    0\n",
       "Skor Belanja (1-100)          0\n",
       "dtype: int64"
      ]
     },
     "metadata": {},
     "output_type": "display_data"
    }
   ],
   "source": [
    "# mengisi nilai nan menggunakan metode fill\n",
    "isi = df.fillna(method=\"ffill\")\n",
    "display(isi)\n",
    "display(isi.isnull().sum())"
   ]
  },
  {
   "cell_type": "markdown",
   "metadata": {},
   "source": [
    "Setelah diisi, sudah tidak terdapat missing value untuk setiap kolom."
   ]
  },
  {
   "cell_type": "markdown",
   "metadata": {
    "id": "sy1o6Lhs_QJy"
   },
   "source": [
    "\n",
    "\n",
    "---\n",
    "\n",
    "\n",
    "\n",
    "---\n",
    "\n",
    "\n",
    "\n",
    "---\n",
    "\n"
   ]
  },
  {
   "cell_type": "markdown",
   "metadata": {
    "id": "0ch4lp680ZNj"
   },
   "source": [
    "# Soal 3. Handling outlier\n",
    "\n",
    "1. Apakah data set memiliki nilai pencilan untuk setiap kolom? periksalah dengan melakukan visualisasi menggunakan boxplot.\n",
    "2. Handling outlier tersebut dengan menggunakan teknik trimming / removing outliers (menggunakan teknik IQR)\n",
    "3. simpan data hasil handling outlier ke dalam variabel df2\n",
    "4. Teknik ini akan menghasilkan nilai missing pada nilai outlier yang telah dihapus, maka hapuslah data missing tersebut dengan menggunakan method .dropna()"
   ]
  },
  {
   "cell_type": "code",
   "execution_count": 6,
   "metadata": {
    "id": "S-35U36ZY2r3",
    "scrolled": false
   },
   "outputs": [
    {
     "data": {
      "image/png": "[encoded data removed]",
      "text/plain": [
       "<Figure size 864x424.8 with 4 Axes>"
      ]
     },
     "metadata": {
      "needs_background": "light"
     },
     "output_type": "display_data"
    }
   ],
   "source": [
    "# code here\n",
    "# soal 3.1\n",
    "# membuat figure dan ukurannya\n",
    "fig, ax = plt.subplots(figsize = (12,5.9))\n",
    "\n",
    "# membuat koordinat figure dan plotting menggunakan boxplot\n",
    "a = plt.subplot(231)\n",
    "sns.boxplot(x = isi['ID_pelanggan'], ax=a, color = 'tab:blue')\n",
    "\n",
    "b = plt.subplot(232)\n",
    "sns.boxplot(x = isi['Umur'], ax = b, color = 'tab:blue')\n",
    "\n",
    "c = plt.subplot(233)\n",
    "sns.boxplot(x = isi['Pendapatan pertahun (juta)'], ax = c, color = 'tab:blue')\n",
    "\n",
    "d = plt.subplot(234)\n",
    "sns.boxplot(x = isi['Skor Belanja (1-100)'], ax = d, color = 'tab:blue')\n",
    "\n",
    "# mengatur jarak antara boxplot satu dengan yg lain\n",
    "fig.tight_layout(pad = 1)\n",
    "\n",
    "plt.show()"
   ]
  },
  {
   "cell_type": "markdown",
   "metadata": {},
   "source": [
    "Berdasarkan plotting di atas menggunakan boxplot, dapat dilihat bahwa terdapat data outlier untuk kolom umur, pendapatan pertahun, dan skor belanja. Selanjutnya outlier tersebut akan di-handling menggunakan removing outliers."
   ]
  },
  {
   "cell_type": "code",
   "execution_count": 7,
   "metadata": {},
   "outputs": [
    {
     "name": "stdout",
     "output_type": "stream",
     "text": [
      "ID_pelanggan                  124.50\n",
      "Umur                           19.00\n",
      "Pendapatan pertahun (juta)     31.75\n",
      "Skor Belanja (1-100)           47.00\n",
      "dtype: float64\n"
     ]
    }
   ],
   "source": [
    "# handling outlier menggunakan teknik trimming (IQR) dan menyimpan assign kedalam variabel df2\n",
    "# soal 3.2\n",
    "# membuat kolom tanpa menyertakan jenis kelamin\n",
    "# saya sengaja drop kolom jenis kelamin, karena series datanya bertipe teks\n",
    "outlie = isi[['ID_pelanggan','Umur','Pendapatan pertahun (juta)','Skor Belanja (1-100)']]\n",
    "\n",
    "# langkah2 nya adalah sebagai berikut :\n",
    "#1. menghitung the first and third quartile (Q1 and Q3)\n",
    "#2. menghitung nilai the interquartile range, IQR = Q3-Q1\n",
    "Q1 = outlie.quantile(0.25)\n",
    "Q3 = outlie.quantile(0.75)\n",
    "IQR = Q3 - Q1\n",
    "print(IQR)"
   ]
  },
  {
   "cell_type": "code",
   "execution_count": 8,
   "metadata": {
    "scrolled": false
   },
   "outputs": [
    {
     "data": {
      "text/html": [
       "<div>\n",
       "<style scoped>\n",
       "    .dataframe tbody tr th:only-of-type {\n",
       "        vertical-align: middle;\n",
       "    }\n",
       "\n",
       "    .dataframe tbody tr th {\n",
       "        vertical-align: top;\n",
       "    }\n",
       "\n",
       "    .dataframe thead th {\n",
       "        text-align: right;\n",
       "    }\n",
       "</style>\n",
       "<table border=\"1\" class=\"dataframe\">\n",
       "  <thead>\n",
       "    <tr style=\"text-align: right;\">\n",
       "      <th></th>\n",
       "      <th>ID_pelanggan</th>\n",
       "      <th>Umur</th>\n",
       "      <th>Pendapatan pertahun (juta)</th>\n",
       "      <th>Skor Belanja (1-100)</th>\n",
       "    </tr>\n",
       "  </thead>\n",
       "  <tbody>\n",
       "    <tr>\n",
       "      <th>0</th>\n",
       "      <td>False</td>\n",
       "      <td>False</td>\n",
       "      <td>False</td>\n",
       "      <td>False</td>\n",
       "    </tr>\n",
       "    <tr>\n",
       "      <th>1</th>\n",
       "      <td>False</td>\n",
       "      <td>False</td>\n",
       "      <td>False</td>\n",
       "      <td>False</td>\n",
       "    </tr>\n",
       "    <tr>\n",
       "      <th>2</th>\n",
       "      <td>False</td>\n",
       "      <td>False</td>\n",
       "      <td>False</td>\n",
       "      <td>False</td>\n",
       "    </tr>\n",
       "    <tr>\n",
       "      <th>3</th>\n",
       "      <td>False</td>\n",
       "      <td>False</td>\n",
       "      <td>False</td>\n",
       "      <td>False</td>\n",
       "    </tr>\n",
       "    <tr>\n",
       "      <th>4</th>\n",
       "      <td>False</td>\n",
       "      <td>False</td>\n",
       "      <td>False</td>\n",
       "      <td>False</td>\n",
       "    </tr>\n",
       "    <tr>\n",
       "      <th>...</th>\n",
       "      <td>...</td>\n",
       "      <td>...</td>\n",
       "      <td>...</td>\n",
       "      <td>...</td>\n",
       "    </tr>\n",
       "    <tr>\n",
       "      <th>245</th>\n",
       "      <td>False</td>\n",
       "      <td>False</td>\n",
       "      <td>False</td>\n",
       "      <td>False</td>\n",
       "    </tr>\n",
       "    <tr>\n",
       "      <th>246</th>\n",
       "      <td>False</td>\n",
       "      <td>False</td>\n",
       "      <td>False</td>\n",
       "      <td>False</td>\n",
       "    </tr>\n",
       "    <tr>\n",
       "      <th>247</th>\n",
       "      <td>False</td>\n",
       "      <td>False</td>\n",
       "      <td>False</td>\n",
       "      <td>False</td>\n",
       "    </tr>\n",
       "    <tr>\n",
       "      <th>248</th>\n",
       "      <td>False</td>\n",
       "      <td>False</td>\n",
       "      <td>False</td>\n",
       "      <td>False</td>\n",
       "    </tr>\n",
       "    <tr>\n",
       "      <th>249</th>\n",
       "      <td>False</td>\n",
       "      <td>True</td>\n",
       "      <td>False</td>\n",
       "      <td>False</td>\n",
       "    </tr>\n",
       "  </tbody>\n",
       "</table>\n",
       "<p>250 rows × 4 columns</p>\n",
       "</div>"
      ],
      "text/plain": [
       "     ID_pelanggan   Umur  Pendapatan pertahun (juta)  Skor Belanja (1-100)\n",
       "0           False  False                       False                 False\n",
       "1           False  False                       False                 False\n",
       "2           False  False                       False                 False\n",
       "3           False  False                       False                 False\n",
       "4           False  False                       False                 False\n",
       "..            ...    ...                         ...                   ...\n",
       "245         False  False                       False                 False\n",
       "246         False  False                       False                 False\n",
       "247         False  False                       False                 False\n",
       "248         False  False                       False                 False\n",
       "249         False   True                       False                 False\n",
       "\n",
       "[250 rows x 4 columns]"
      ]
     },
     "metadata": {},
     "output_type": "display_data"
    }
   ],
   "source": [
    "#3. menghitung lower bound, the lower bound = Q1*1.5\n",
    "#4. menghitung the upper bound, upper bound = Q3*1.5\n",
    "#5. menampilkan data yg ada outliernya pada kolom umur, pendapatan pertahun, dan skor belanja\n",
    "UB = Q3 + 1.5*IQR\n",
    "LB = Q1 - 1.5*IQR\n",
    "\n",
    "outlier = (outlie < LB) | (outlie > UB)\n",
    "\n",
    "display(outlier)"
   ]
  },
  {
   "cell_type": "code",
   "execution_count": 9,
   "metadata": {
    "scrolled": false
   },
   "outputs": [
    {
     "data": {
      "text/html": [
       "<div>\n",
       "<style scoped>\n",
       "    .dataframe tbody tr th:only-of-type {\n",
       "        vertical-align: middle;\n",
       "    }\n",
       "\n",
       "    .dataframe tbody tr th {\n",
       "        vertical-align: top;\n",
       "    }\n",
       "\n",
       "    .dataframe thead th {\n",
       "        text-align: right;\n",
       "    }\n",
       "</style>\n",
       "<table border=\"1\" class=\"dataframe\">\n",
       "  <thead>\n",
       "    <tr style=\"text-align: right;\">\n",
       "      <th></th>\n",
       "      <th>ID_pelanggan</th>\n",
       "      <th>Umur</th>\n",
       "      <th>Pendapatan pertahun (juta)</th>\n",
       "      <th>Skor Belanja (1-100)</th>\n",
       "    </tr>\n",
       "  </thead>\n",
       "  <tbody>\n",
       "    <tr>\n",
       "      <th>0</th>\n",
       "      <td>1</td>\n",
       "      <td>19.0</td>\n",
       "      <td>15.0</td>\n",
       "      <td>39.0</td>\n",
       "    </tr>\n",
       "    <tr>\n",
       "      <th>1</th>\n",
       "      <td>2</td>\n",
       "      <td>21.0</td>\n",
       "      <td>15.0</td>\n",
       "      <td>81.0</td>\n",
       "    </tr>\n",
       "    <tr>\n",
       "      <th>2</th>\n",
       "      <td>3</td>\n",
       "      <td>20.0</td>\n",
       "      <td>16.0</td>\n",
       "      <td>6.0</td>\n",
       "    </tr>\n",
       "    <tr>\n",
       "      <th>3</th>\n",
       "      <td>4</td>\n",
       "      <td>23.0</td>\n",
       "      <td>16.0</td>\n",
       "      <td>77.0</td>\n",
       "    </tr>\n",
       "    <tr>\n",
       "      <th>4</th>\n",
       "      <td>5</td>\n",
       "      <td>31.0</td>\n",
       "      <td>17.0</td>\n",
       "      <td>40.0</td>\n",
       "    </tr>\n",
       "    <tr>\n",
       "      <th>...</th>\n",
       "      <td>...</td>\n",
       "      <td>...</td>\n",
       "      <td>...</td>\n",
       "      <td>...</td>\n",
       "    </tr>\n",
       "    <tr>\n",
       "      <th>245</th>\n",
       "      <td>246</td>\n",
       "      <td>59.0</td>\n",
       "      <td>93.0</td>\n",
       "      <td>14.0</td>\n",
       "    </tr>\n",
       "    <tr>\n",
       "      <th>246</th>\n",
       "      <td>247</td>\n",
       "      <td>35.0</td>\n",
       "      <td>93.0</td>\n",
       "      <td>90.0</td>\n",
       "    </tr>\n",
       "    <tr>\n",
       "      <th>247</th>\n",
       "      <td>248</td>\n",
       "      <td>37.0</td>\n",
       "      <td>97.0</td>\n",
       "      <td>32.0</td>\n",
       "    </tr>\n",
       "    <tr>\n",
       "      <th>248</th>\n",
       "      <td>249</td>\n",
       "      <td>32.0</td>\n",
       "      <td>97.0</td>\n",
       "      <td>86.0</td>\n",
       "    </tr>\n",
       "    <tr>\n",
       "      <th>249</th>\n",
       "      <td>250</td>\n",
       "      <td>NaN</td>\n",
       "      <td>98.0</td>\n",
       "      <td>15.0</td>\n",
       "    </tr>\n",
       "  </tbody>\n",
       "</table>\n",
       "<p>250 rows × 4 columns</p>\n",
       "</div>"
      ],
      "text/plain": [
       "     ID_pelanggan  Umur  Pendapatan pertahun (juta)  Skor Belanja (1-100)\n",
       "0               1  19.0                        15.0                  39.0\n",
       "1               2  21.0                        15.0                  81.0\n",
       "2               3  20.0                        16.0                   6.0\n",
       "3               4  23.0                        16.0                  77.0\n",
       "4               5  31.0                        17.0                  40.0\n",
       "..            ...   ...                         ...                   ...\n",
       "245           246  59.0                        93.0                  14.0\n",
       "246           247  35.0                        93.0                  90.0\n",
       "247           248  37.0                        97.0                  32.0\n",
       "248           249  32.0                        97.0                  86.0\n",
       "249           250   NaN                        98.0                  15.0\n",
       "\n",
       "[250 rows x 4 columns]"
      ]
     },
     "metadata": {},
     "output_type": "display_data"
    },
    {
     "data": {
      "text/plain": [
       "ID_pelanggan                  0\n",
       "Umur                          1\n",
       "Pendapatan pertahun (juta)    2\n",
       "Skor Belanja (1-100)          1\n",
       "dtype: int64"
      ]
     },
     "metadata": {},
     "output_type": "display_data"
    }
   ],
   "source": [
    "# menyimpan data hasil handling outlier ke dalam variabel df2\n",
    "# soal 3.3\n",
    "df2 = outlie[outlie < UB]\n",
    "display(df2)\n",
    "\n",
    "# melihat nilai missing setelah di trimming\n",
    "display(df2.isnull().sum())"
   ]
  },
  {
   "cell_type": "markdown",
   "metadata": {},
   "source": [
    "Dari hasil analisis outlier menggunakan teknik IQR, diperoleh bahwa pada kolom umur terdapat 1 buah oulier yang sudah terakomodasi oleh NaN, terdapat 2 buah outlier pada kolom pendapatan pertahun, dan terdapat 1 buah outlier pada kolom skor belanja."
   ]
  },
  {
   "cell_type": "code",
   "execution_count": 10,
   "metadata": {},
   "outputs": [
    {
     "data": {
      "text/html": [
       "<div>\n",
       "<style scoped>\n",
       "    .dataframe tbody tr th:only-of-type {\n",
       "        vertical-align: middle;\n",
       "    }\n",
       "\n",
       "    .dataframe tbody tr th {\n",
       "        vertical-align: top;\n",
       "    }\n",
       "\n",
       "    .dataframe thead th {\n",
       "        text-align: right;\n",
       "    }\n",
       "</style>\n",
       "<table border=\"1\" class=\"dataframe\">\n",
       "  <thead>\n",
       "    <tr style=\"text-align: right;\">\n",
       "      <th></th>\n",
       "      <th>ID_pelanggan</th>\n",
       "      <th>Umur</th>\n",
       "      <th>Pendapatan pertahun (juta)</th>\n",
       "      <th>Skor Belanja (1-100)</th>\n",
       "    </tr>\n",
       "  </thead>\n",
       "  <tbody>\n",
       "    <tr>\n",
       "      <th>249</th>\n",
       "      <td>False</td>\n",
       "      <td>True</td>\n",
       "      <td>False</td>\n",
       "      <td>False</td>\n",
       "    </tr>\n",
       "  </tbody>\n",
       "</table>\n",
       "</div>"
      ],
      "text/plain": [
       "     ID_pelanggan  Umur  Pendapatan pertahun (juta)  Skor Belanja (1-100)\n",
       "249         False  True                       False                 False"
      ]
     },
     "metadata": {},
     "output_type": "display_data"
    },
    {
     "data": {
      "text/html": [
       "<div>\n",
       "<style scoped>\n",
       "    .dataframe tbody tr th:only-of-type {\n",
       "        vertical-align: middle;\n",
       "    }\n",
       "\n",
       "    .dataframe tbody tr th {\n",
       "        vertical-align: top;\n",
       "    }\n",
       "\n",
       "    .dataframe thead th {\n",
       "        text-align: right;\n",
       "    }\n",
       "</style>\n",
       "<table border=\"1\" class=\"dataframe\">\n",
       "  <thead>\n",
       "    <tr style=\"text-align: right;\">\n",
       "      <th></th>\n",
       "      <th>ID_pelanggan</th>\n",
       "      <th>Umur</th>\n",
       "      <th>Pendapatan pertahun (juta)</th>\n",
       "      <th>Skor Belanja (1-100)</th>\n",
       "    </tr>\n",
       "  </thead>\n",
       "  <tbody>\n",
       "    <tr>\n",
       "      <th>198</th>\n",
       "      <td>False</td>\n",
       "      <td>False</td>\n",
       "      <td>True</td>\n",
       "      <td>False</td>\n",
       "    </tr>\n",
       "    <tr>\n",
       "      <th>199</th>\n",
       "      <td>False</td>\n",
       "      <td>False</td>\n",
       "      <td>True</td>\n",
       "      <td>False</td>\n",
       "    </tr>\n",
       "  </tbody>\n",
       "</table>\n",
       "</div>"
      ],
      "text/plain": [
       "     ID_pelanggan   Umur  Pendapatan pertahun (juta)  Skor Belanja (1-100)\n",
       "198         False  False                        True                 False\n",
       "199         False  False                        True                 False"
      ]
     },
     "metadata": {},
     "output_type": "display_data"
    },
    {
     "data": {
      "text/html": [
       "<div>\n",
       "<style scoped>\n",
       "    .dataframe tbody tr th:only-of-type {\n",
       "        vertical-align: middle;\n",
       "    }\n",
       "\n",
       "    .dataframe tbody tr th {\n",
       "        vertical-align: top;\n",
       "    }\n",
       "\n",
       "    .dataframe thead th {\n",
       "        text-align: right;\n",
       "    }\n",
       "</style>\n",
       "<table border=\"1\" class=\"dataframe\">\n",
       "  <thead>\n",
       "    <tr style=\"text-align: right;\">\n",
       "      <th></th>\n",
       "      <th>ID_pelanggan</th>\n",
       "      <th>Umur</th>\n",
       "      <th>Pendapatan pertahun (juta)</th>\n",
       "      <th>Skor Belanja (1-100)</th>\n",
       "    </tr>\n",
       "  </thead>\n",
       "  <tbody>\n",
       "    <tr>\n",
       "      <th>16</th>\n",
       "      <td>False</td>\n",
       "      <td>False</td>\n",
       "      <td>False</td>\n",
       "      <td>True</td>\n",
       "    </tr>\n",
       "  </tbody>\n",
       "</table>\n",
       "</div>"
      ],
      "text/plain": [
       "    ID_pelanggan   Umur  Pendapatan pertahun (juta)  Skor Belanja (1-100)\n",
       "16         False  False                       False                  True"
      ]
     },
     "metadata": {},
     "output_type": "display_data"
    }
   ],
   "source": [
    "# mencari letak baris outlier\n",
    "# 1. menggunakan filter\n",
    "out_umur = outlier['Umur'] \n",
    "out_u = outlier[out_umur]\n",
    "display(out_u)\n",
    "\n",
    "out_pendapatan = outlier['Pendapatan pertahun (juta)'] \n",
    "out_p = outlier[out_pendapatan]\n",
    "display(out_p)\n",
    "\n",
    "out_skor = outlier['Skor Belanja (1-100)'] \n",
    "out_s = outlier[out_skor]\n",
    "display(out_s)\n",
    "\n",
    "# dapat terlihat bahwa outliernya terletak pada baris 249 atau data ke-250 untuk kolom umur, \n",
    "# baris ke-198 dan 199 untuk kolom pendapatan pertahun dan baris ke-16 untuk kolom skor belanja"
   ]
  },
  {
   "cell_type": "code",
   "execution_count": 11,
   "metadata": {
    "scrolled": true
   },
   "outputs": [
    {
     "name": "stdout",
     "output_type": "stream",
     "text": [
      "[[374.5    76.5   126.375 144.5  ]\n",
      " [374.5    76.5   126.375 144.5  ]\n",
      " [374.5    76.5   126.375 144.5  ]\n",
      " [374.5    76.5   126.375 144.5  ]\n",
      " [374.5    76.5   126.375 144.5  ]\n",
      " [374.5    76.5   126.375 144.5  ]\n",
      " [374.5    76.5   126.375 144.5  ]\n",
      " [374.5    76.5   126.375 144.5  ]\n",
      " [374.5    76.5   126.375 144.5  ]\n",
      " [374.5    76.5   126.375 144.5  ]\n",
      " [374.5    76.5   126.375 144.5  ]\n",
      " [374.5    76.5   126.375 144.5  ]\n",
      " [374.5    76.5   126.375 144.5  ]\n",
      " [374.5    76.5   126.375 144.5  ]\n",
      " [374.5    76.5   126.375 144.5  ]\n",
      " [374.5    76.5   126.375 144.5  ]\n",
      " [374.5    76.5   126.375 150.   ]\n",
      " [374.5    76.5   126.375 144.5  ]\n",
      " [374.5    76.5   126.375 144.5  ]\n",
      " [374.5    76.5   126.375 144.5  ]\n",
      " [374.5    76.5   126.375 144.5  ]\n",
      " [374.5    76.5   126.375 144.5  ]\n",
      " [374.5    76.5   126.375 144.5  ]\n",
      " [374.5    76.5   126.375 144.5  ]\n",
      " [374.5    76.5   126.375 144.5  ]\n",
      " [374.5    76.5   126.375 144.5  ]\n",
      " [374.5    76.5   126.375 144.5  ]\n",
      " [374.5    76.5   126.375 144.5  ]\n",
      " [374.5    76.5   126.375 144.5  ]\n",
      " [374.5    76.5   126.375 144.5  ]\n",
      " [374.5    76.5   126.375 144.5  ]\n",
      " [374.5    76.5   126.375 144.5  ]\n",
      " [374.5    76.5   126.375 144.5  ]\n",
      " [374.5    76.5   126.375 144.5  ]\n",
      " [374.5    76.5   126.375 144.5  ]\n",
      " [374.5    76.5   126.375 144.5  ]\n",
      " [374.5    76.5   126.375 144.5  ]\n",
      " [374.5    76.5   126.375 144.5  ]\n",
      " [374.5    76.5   126.375 144.5  ]\n",
      " [374.5    76.5   126.375 144.5  ]\n",
      " [374.5    76.5   126.375 144.5  ]\n",
      " [374.5    76.5   126.375 144.5  ]\n",
      " [374.5    76.5   126.375 144.5  ]\n",
      " [374.5    76.5   126.375 144.5  ]\n",
      " [374.5    76.5   126.375 144.5  ]\n",
      " [374.5    76.5   126.375 144.5  ]\n",
      " [374.5    76.5   126.375 144.5  ]\n",
      " [374.5    76.5   126.375 144.5  ]\n",
      " [374.5    76.5   126.375 144.5  ]\n",
      " [374.5    76.5   126.375 144.5  ]\n",
      " [374.5    76.5   126.375 144.5  ]\n",
      " [374.5    76.5   126.375 144.5  ]\n",
      " [374.5    76.5   126.375 144.5  ]\n",
      " [374.5    76.5   126.375 144.5  ]\n",
      " [374.5    76.5   126.375 144.5  ]\n",
      " [374.5    76.5   126.375 144.5  ]\n",
      " [374.5    76.5   126.375 144.5  ]\n",
      " [374.5    76.5   126.375 144.5  ]\n",
      " [374.5    76.5   126.375 144.5  ]\n",
      " [374.5    76.5   126.375 144.5  ]\n",
      " [374.5    76.5   126.375 144.5  ]\n",
      " [374.5    76.5   126.375 144.5  ]\n",
      " [374.5    76.5   126.375 144.5  ]\n",
      " [374.5    76.5   126.375 144.5  ]\n",
      " [374.5    76.5   126.375 144.5  ]\n",
      " [374.5    76.5   126.375 144.5  ]\n",
      " [374.5    76.5   126.375 144.5  ]\n",
      " [374.5    76.5   126.375 144.5  ]\n",
      " [374.5    76.5   126.375 144.5  ]\n",
      " [374.5    76.5   126.375 144.5  ]\n",
      " [374.5    76.5   126.375 144.5  ]\n",
      " [374.5    76.5   126.375 144.5  ]\n",
      " [374.5    76.5   126.375 144.5  ]\n",
      " [374.5    76.5   126.375 144.5  ]\n",
      " [374.5    76.5   126.375 144.5  ]\n",
      " [374.5    76.5   126.375 144.5  ]\n",
      " [374.5    76.5   126.375 144.5  ]\n",
      " [374.5    76.5   126.375 144.5  ]\n",
      " [374.5    76.5   126.375 144.5  ]\n",
      " [374.5    76.5   126.375 144.5  ]\n",
      " [374.5    76.5   126.375 144.5  ]\n",
      " [374.5    76.5   126.375 144.5  ]\n",
      " [374.5    76.5   126.375 144.5  ]\n",
      " [374.5    76.5   126.375 144.5  ]\n",
      " [374.5    76.5   126.375 144.5  ]\n",
      " [374.5    76.5   126.375 144.5  ]\n",
      " [374.5    76.5   126.375 144.5  ]\n",
      " [374.5    76.5   126.375 144.5  ]\n",
      " [374.5    76.5   126.375 144.5  ]\n",
      " [374.5    76.5   126.375 144.5  ]\n",
      " [374.5    76.5   126.375 144.5  ]\n",
      " [374.5    76.5   126.375 144.5  ]\n",
      " [374.5    76.5   126.375 144.5  ]\n",
      " [374.5    76.5   126.375 144.5  ]\n",
      " [374.5    76.5   126.375 144.5  ]\n",
      " [374.5    76.5   126.375 144.5  ]\n",
      " [374.5    76.5   126.375 144.5  ]\n",
      " [374.5    76.5   126.375 144.5  ]\n",
      " [374.5    76.5   126.375 144.5  ]\n",
      " [374.5    76.5   126.375 144.5  ]\n",
      " [374.5    76.5   126.375 144.5  ]\n",
      " [374.5    76.5   126.375 144.5  ]\n",
      " [374.5    76.5   126.375 144.5  ]\n",
      " [374.5    76.5   126.375 144.5  ]\n",
      " [374.5    76.5   126.375 144.5  ]\n",
      " [374.5    76.5   126.375 144.5  ]\n",
      " [374.5    76.5   126.375 144.5  ]\n",
      " [374.5    76.5   126.375 144.5  ]\n",
      " [374.5    76.5   126.375 144.5  ]\n",
      " [374.5    76.5   126.375 144.5  ]\n",
      " [374.5    76.5   126.375 144.5  ]\n",
      " [374.5    76.5   126.375 144.5  ]\n",
      " [374.5    76.5   126.375 144.5  ]\n",
      " [374.5    76.5   126.375 144.5  ]\n",
      " [374.5    76.5   126.375 144.5  ]\n",
      " [374.5    76.5   126.375 144.5  ]\n",
      " [374.5    76.5   126.375 144.5  ]\n",
      " [374.5    76.5   126.375 144.5  ]\n",
      " [374.5    76.5   126.375 144.5  ]\n",
      " [374.5    76.5   126.375 144.5  ]\n",
      " [374.5    76.5   126.375 144.5  ]\n",
      " [374.5    76.5   126.375 144.5  ]\n",
      " [374.5    76.5   126.375 144.5  ]\n",
      " [374.5    76.5   126.375 144.5  ]\n",
      " [374.5    76.5   126.375 144.5  ]\n",
      " [374.5    76.5   126.375 144.5  ]\n",
      " [374.5    76.5   126.375 144.5  ]\n",
      " [374.5    76.5   126.375 144.5  ]\n",
      " [374.5    76.5   126.375 144.5  ]\n",
      " [374.5    76.5   126.375 144.5  ]\n",
      " [374.5    76.5   126.375 144.5  ]\n",
      " [374.5    76.5   126.375 144.5  ]\n",
      " [374.5    76.5   126.375 144.5  ]\n",
      " [374.5    76.5   126.375 144.5  ]\n",
      " [374.5    76.5   126.375 144.5  ]\n",
      " [374.5    76.5   126.375 144.5  ]\n",
      " [374.5    76.5   126.375 144.5  ]\n",
      " [374.5    76.5   126.375 144.5  ]\n",
      " [374.5    76.5   126.375 144.5  ]\n",
      " [374.5    76.5   126.375 144.5  ]\n",
      " [374.5    76.5   126.375 144.5  ]\n",
      " [374.5    76.5   126.375 144.5  ]\n",
      " [374.5    76.5   126.375 144.5  ]\n",
      " [374.5    76.5   126.375 144.5  ]\n",
      " [374.5    76.5   126.375 144.5  ]\n",
      " [374.5    76.5   126.375 144.5  ]\n",
      " [374.5    76.5   126.375 144.5  ]\n",
      " [374.5    76.5   126.375 144.5  ]\n",
      " [374.5    76.5   126.375 144.5  ]\n",
      " [374.5    76.5   126.375 144.5  ]\n",
      " [374.5    76.5   126.375 144.5  ]\n",
      " [374.5    76.5   126.375 144.5  ]\n",
      " [374.5    76.5   126.375 144.5  ]\n",
      " [374.5    76.5   126.375 144.5  ]\n",
      " [374.5    76.5   126.375 144.5  ]\n",
      " [374.5    76.5   126.375 144.5  ]\n",
      " [374.5    76.5   126.375 144.5  ]\n",
      " [374.5    76.5   126.375 144.5  ]\n",
      " [374.5    76.5   126.375 144.5  ]\n",
      " [374.5    76.5   126.375 144.5  ]\n",
      " [374.5    76.5   126.375 144.5  ]\n",
      " [374.5    76.5   126.375 144.5  ]\n",
      " [374.5    76.5   126.375 144.5  ]\n",
      " [374.5    76.5   126.375 144.5  ]\n",
      " [374.5    76.5   126.375 144.5  ]\n",
      " [374.5    76.5   126.375 144.5  ]\n",
      " [374.5    76.5   126.375 144.5  ]\n",
      " [374.5    76.5   126.375 144.5  ]\n",
      " [374.5    76.5   126.375 144.5  ]\n",
      " [374.5    76.5   126.375 144.5  ]\n",
      " [374.5    76.5   126.375 144.5  ]\n",
      " [374.5    76.5   126.375 144.5  ]\n",
      " [374.5    76.5   126.375 144.5  ]\n",
      " [374.5    76.5   126.375 144.5  ]\n",
      " [374.5    76.5   126.375 144.5  ]\n",
      " [374.5    76.5   126.375 144.5  ]\n",
      " [374.5    76.5   126.375 144.5  ]\n",
      " [374.5    76.5   126.375 144.5  ]\n",
      " [374.5    76.5   126.375 144.5  ]\n",
      " [374.5    76.5   126.375 144.5  ]\n",
      " [374.5    76.5   126.375 144.5  ]\n",
      " [374.5    76.5   126.375 144.5  ]\n",
      " [374.5    76.5   126.375 144.5  ]\n",
      " [374.5    76.5   126.375 144.5  ]\n",
      " [374.5    76.5   126.375 144.5  ]\n",
      " [374.5    76.5   126.375 144.5  ]\n",
      " [374.5    76.5   126.375 144.5  ]\n",
      " [374.5    76.5   126.375 144.5  ]\n",
      " [374.5    76.5   126.375 144.5  ]\n",
      " [374.5    76.5   126.375 144.5  ]\n",
      " [374.5    76.5   126.375 144.5  ]\n",
      " [374.5    76.5   126.375 144.5  ]\n",
      " [374.5    76.5   126.375 144.5  ]\n",
      " [374.5    76.5   126.375 144.5  ]\n",
      " [374.5    76.5   126.375 144.5  ]\n",
      " [374.5    76.5   126.375 144.5  ]\n",
      " [374.5    76.5   126.375 144.5  ]\n",
      " [374.5    76.5   126.375 144.5  ]\n",
      " [374.5    76.5   137.    144.5  ]\n",
      " [374.5    76.5   137.    144.5  ]\n",
      " [374.5    76.5   126.375 144.5  ]\n",
      " [374.5    76.5   126.375 144.5  ]\n",
      " [374.5    76.5   126.375 144.5  ]\n",
      " [374.5    76.5   126.375 144.5  ]\n",
      " [374.5    76.5   126.375 144.5  ]\n",
      " [374.5    76.5   126.375 144.5  ]\n",
      " [374.5    76.5   126.375 144.5  ]\n",
      " [374.5    76.5   126.375 144.5  ]\n",
      " [374.5    76.5   126.375 144.5  ]\n",
      " [374.5    76.5   126.375 144.5  ]\n",
      " [374.5    76.5   126.375 144.5  ]\n",
      " [374.5    76.5   126.375 144.5  ]\n",
      " [374.5    76.5   126.375 144.5  ]\n",
      " [374.5    76.5   126.375 144.5  ]\n",
      " [374.5    76.5   126.375 144.5  ]\n",
      " [374.5    76.5   126.375 144.5  ]\n",
      " [374.5    76.5   126.375 144.5  ]\n",
      " [374.5    76.5   126.375 144.5  ]\n",
      " [374.5    76.5   126.375 144.5  ]\n",
      " [374.5    76.5   126.375 144.5  ]\n",
      " [374.5    76.5   126.375 144.5  ]\n",
      " [374.5    76.5   126.375 144.5  ]\n",
      " [374.5    76.5   126.375 144.5  ]\n",
      " [374.5    76.5   126.375 144.5  ]\n",
      " [374.5    76.5   126.375 144.5  ]\n",
      " [374.5    76.5   126.375 144.5  ]\n",
      " [374.5    76.5   126.375 144.5  ]\n",
      " [374.5    76.5   126.375 144.5  ]\n",
      " [374.5    76.5   126.375 144.5  ]\n",
      " [374.5    76.5   126.375 144.5  ]\n",
      " [374.5    76.5   126.375 144.5  ]\n",
      " [374.5    76.5   126.375 144.5  ]\n",
      " [374.5    76.5   126.375 144.5  ]\n",
      " [374.5    76.5   126.375 144.5  ]\n",
      " [374.5    76.5   126.375 144.5  ]\n",
      " [374.5    76.5   126.375 144.5  ]\n",
      " [374.5    76.5   126.375 144.5  ]\n",
      " [374.5    76.5   126.375 144.5  ]\n",
      " [374.5    76.5   126.375 144.5  ]\n",
      " [374.5    76.5   126.375 144.5  ]\n",
      " [374.5    76.5   126.375 144.5  ]\n",
      " [374.5    76.5   126.375 144.5  ]\n",
      " [374.5    76.5   126.375 144.5  ]\n",
      " [374.5    76.5   126.375 144.5  ]\n",
      " [374.5    76.5   126.375 144.5  ]\n",
      " [374.5    76.5   126.375 144.5  ]\n",
      " [374.5    76.5   126.375 144.5  ]\n",
      " [374.5    76.5   126.375 144.5  ]\n",
      " [374.5    76.5   126.375 144.5  ]\n",
      " [374.5   120.    126.375 144.5  ]]\n"
     ]
    }
   ],
   "source": [
    "# 2. menggunakan numpy where\n",
    "print(np.where(outlie < UB,UB,outlie))"
   ]
  },
  {
   "cell_type": "code",
   "execution_count": 12,
   "metadata": {},
   "outputs": [
    {
     "data": {
      "text/html": [
       "<div>\n",
       "<style scoped>\n",
       "    .dataframe tbody tr th:only-of-type {\n",
       "        vertical-align: middle;\n",
       "    }\n",
       "\n",
       "    .dataframe tbody tr th {\n",
       "        vertical-align: top;\n",
       "    }\n",
       "\n",
       "    .dataframe thead th {\n",
       "        text-align: right;\n",
       "    }\n",
       "</style>\n",
       "<table border=\"1\" class=\"dataframe\">\n",
       "  <thead>\n",
       "    <tr style=\"text-align: right;\">\n",
       "      <th></th>\n",
       "      <th>ID_pelanggan</th>\n",
       "      <th>Umur</th>\n",
       "      <th>Pendapatan pertahun (juta)</th>\n",
       "      <th>Skor Belanja (1-100)</th>\n",
       "    </tr>\n",
       "  </thead>\n",
       "  <tbody>\n",
       "    <tr>\n",
       "      <th>0</th>\n",
       "      <td>1</td>\n",
       "      <td>19.0</td>\n",
       "      <td>15.0</td>\n",
       "      <td>39.0</td>\n",
       "    </tr>\n",
       "    <tr>\n",
       "      <th>1</th>\n",
       "      <td>2</td>\n",
       "      <td>21.0</td>\n",
       "      <td>15.0</td>\n",
       "      <td>81.0</td>\n",
       "    </tr>\n",
       "    <tr>\n",
       "      <th>2</th>\n",
       "      <td>3</td>\n",
       "      <td>20.0</td>\n",
       "      <td>16.0</td>\n",
       "      <td>6.0</td>\n",
       "    </tr>\n",
       "    <tr>\n",
       "      <th>3</th>\n",
       "      <td>4</td>\n",
       "      <td>23.0</td>\n",
       "      <td>16.0</td>\n",
       "      <td>77.0</td>\n",
       "    </tr>\n",
       "    <tr>\n",
       "      <th>4</th>\n",
       "      <td>5</td>\n",
       "      <td>31.0</td>\n",
       "      <td>17.0</td>\n",
       "      <td>40.0</td>\n",
       "    </tr>\n",
       "    <tr>\n",
       "      <th>...</th>\n",
       "      <td>...</td>\n",
       "      <td>...</td>\n",
       "      <td>...</td>\n",
       "      <td>...</td>\n",
       "    </tr>\n",
       "    <tr>\n",
       "      <th>244</th>\n",
       "      <td>245</td>\n",
       "      <td>27.0</td>\n",
       "      <td>88.0</td>\n",
       "      <td>69.0</td>\n",
       "    </tr>\n",
       "    <tr>\n",
       "      <th>245</th>\n",
       "      <td>246</td>\n",
       "      <td>59.0</td>\n",
       "      <td>93.0</td>\n",
       "      <td>14.0</td>\n",
       "    </tr>\n",
       "    <tr>\n",
       "      <th>246</th>\n",
       "      <td>247</td>\n",
       "      <td>35.0</td>\n",
       "      <td>93.0</td>\n",
       "      <td>90.0</td>\n",
       "    </tr>\n",
       "    <tr>\n",
       "      <th>247</th>\n",
       "      <td>248</td>\n",
       "      <td>37.0</td>\n",
       "      <td>97.0</td>\n",
       "      <td>32.0</td>\n",
       "    </tr>\n",
       "    <tr>\n",
       "      <th>248</th>\n",
       "      <td>249</td>\n",
       "      <td>32.0</td>\n",
       "      <td>97.0</td>\n",
       "      <td>86.0</td>\n",
       "    </tr>\n",
       "  </tbody>\n",
       "</table>\n",
       "<p>246 rows × 4 columns</p>\n",
       "</div>"
      ],
      "text/plain": [
       "     ID_pelanggan  Umur  Pendapatan pertahun (juta)  Skor Belanja (1-100)\n",
       "0               1  19.0                        15.0                  39.0\n",
       "1               2  21.0                        15.0                  81.0\n",
       "2               3  20.0                        16.0                   6.0\n",
       "3               4  23.0                        16.0                  77.0\n",
       "4               5  31.0                        17.0                  40.0\n",
       "..            ...   ...                         ...                   ...\n",
       "244           245  27.0                        88.0                  69.0\n",
       "245           246  59.0                        93.0                  14.0\n",
       "246           247  35.0                        93.0                  90.0\n",
       "247           248  37.0                        97.0                  32.0\n",
       "248           249  32.0                        97.0                  86.0\n",
       "\n",
       "[246 rows x 4 columns]"
      ]
     },
     "metadata": {},
     "output_type": "display_data"
    },
    {
     "data": {
      "text/plain": [
       "ID_pelanggan                  0\n",
       "Umur                          0\n",
       "Pendapatan pertahun (juta)    0\n",
       "Skor Belanja (1-100)          0\n",
       "dtype: int64"
      ]
     },
     "metadata": {},
     "output_type": "display_data"
    }
   ],
   "source": [
    "# soal 3.4\n",
    "# menghapus data missing tersebut dengan menggunakan method .dropna()\n",
    "df2 = df2.dropna()\n",
    "display(df2)\n",
    "\n",
    "# melihat nilai missing setelah di drop\n",
    "display(df2.isnull().sum())"
   ]
  },
  {
   "cell_type": "markdown",
   "metadata": {},
   "source": [
    "Setelah di drop outlier pada masing-masing kolom menggunakan .dropna, dapat dilihat bahwa sudah tidak terdapat outlier pada data df2."
   ]
  },
  {
   "cell_type": "markdown",
   "metadata": {
    "id": "71J4kYuHVkbn"
   },
   "source": [
    "**Expected output**\n",
    "\n",
    "Melihat adanya pencilan menggunakan Boxplot\n",
    "\n",
    "![](https://drive.google.com/uc?id=1ettD4G8xBMCYcMUVt88kn5k_yCufgdyf)"
   ]
  },
  {
   "cell_type": "markdown",
   "metadata": {
    "id": "mpSdl95j_TVj"
   },
   "source": [
    "\n",
    "\n",
    "---\n",
    "\n",
    "\n",
    "\n",
    "---\n",
    "\n",
    "\n",
    "\n",
    "---\n",
    "\n"
   ]
  },
  {
   "cell_type": "markdown",
   "metadata": {
    "id": "YKODTt1z7XTq"
   },
   "source": [
    "# Soal 4. statistika Inferential\n",
    "\n",
    "\n",
    "\n",
    "*   Kita akan melakukan hipotesis terhadap 100 sample pengunjung Supermarket. Hipotesis awal adalah rata2 usia pengunjung supermarket di atas 35 tahun. Ujilah hipotesis tersebut dengan menggunakan teknik klasik (z-testing) dan probabilitas p-value)!\n",
    "*   Gunakan variabel dataframe hasil handling missing value dan outlier di no soal sebelumnya\n",
    "*   Untuk mempermudah perhitungan, ubahlah tipe data kolom Umur menjadi int dengan menggunakan methode .astype() baca dokumentasi https://pandas.pydata.org/pandas-docs/stable/reference/api/pandas.DataFrame.astype.html\n",
    "\n",
    "\n",
    "\n"
   ]
  },
  {
   "cell_type": "markdown",
   "metadata": {},
   "source": [
    "Diketahui :\n",
    "\n",
    "Rumusan Hipotesis :\n",
    "\n",
    "Hipotesis awal adalah rata2 usia pengunjung supermarket di atas 35 tahun, maka :\n",
    "\n",
    "H0 (dibaca H indeks nol) : µ <= µ0, artinya rata2 usia pengunjung supermarket <= 35 tahun\n",
    "\n",
    "H1 (dibaca H indeks satu): µ > µ0, artinya rata2 usia pengunjung supermarket > 35 tahun\n",
    "\n",
    "alpha : 5%\n",
    "\n",
    "Statistik Uji : Z-test\n",
    "\n",
    "Kriteria Uji : tolak H0 apabila Z hitung > Z tabel atau p-value < alpha, terima dalam hal lainnya."
   ]
  },
  {
   "cell_type": "code",
   "execution_count": 13,
   "metadata": {
    "id": "vbbAAoRbZMz3"
   },
   "outputs": [
    {
     "name": "stdout",
     "output_type": "stream",
     "text": [
      "ID_pelanggan                    int64\n",
      "Umur                          float64\n",
      "Pendapatan pertahun (juta)    float64\n",
      "Skor Belanja (1-100)          float64\n",
      "dtype: object\n"
     ]
    }
   ],
   "source": [
    "df_100 = df2.sample(100, random_state=1)\n",
    "\n",
    "# melihat tipe data untuk setiap kolom\n",
    "print(df_100.dtypes)"
   ]
  },
  {
   "cell_type": "code",
   "execution_count": 14,
   "metadata": {},
   "outputs": [
    {
     "data": {
      "text/plain": [
       "dtype('int32')"
      ]
     },
     "metadata": {},
     "output_type": "display_data"
    }
   ],
   "source": [
    "# mengubah data kolom umur menjadi int\n",
    "display(df_100['Umur'].astype('int').dtypes)"
   ]
  },
  {
   "cell_type": "markdown",
   "metadata": {},
   "source": [
    "Formula Z test :\n",
    "\n",
    "Z = (miu - miu_0) / (sigma / sqrt(n)) ,dengan :\n",
    "\n",
    "xbar : rata-rata sampel\n",
    "\n",
    "miu_0 : rata-rata dari hipotesis\n",
    "\n",
    "s : standar deviasi\n",
    "\n",
    "n : ukuran sampel"
   ]
  },
  {
   "cell_type": "markdown",
   "metadata": {},
   "source": [
    "Catatan : \n",
    "\n",
    "- **asumsi bahwa datanya sudah berdistribusi normal**\n",
    "\n",
    "- **karena rata-rata populasi µ tidak diketahui, maka ditaksir menggunakan xbar**\n",
    "\n",
    "- **karena standar deviasi populasi sigma tidak diketahui, maka ditaksir menggunakan s**"
   ]
  },
  {
   "cell_type": "code",
   "execution_count": 15,
   "metadata": {
    "id": "qvUBIRmLZT1o"
   },
   "outputs": [
    {
     "name": "stdout",
     "output_type": "stream",
     "text": [
      "nilai Z hitungnya adalah 2.4874\n"
     ]
    }
   ],
   "source": [
    "# code here for z-test untuk kolom umur\n",
    "xbar = df_100['Umur'].mean()\n",
    "miu_0 = 35\n",
    "s = df_100['Umur'].std()\n",
    "n = 100\n",
    "\n",
    "# menghitung z value\n",
    "Z = (xbar - miu_0) / (s / n**(.5))\n",
    "print('nilai Z hitungnya adalah', round(Z,4))\n",
    "\n",
    "# kriteria uji : Tolak H0 apabila Z hitung > Z alpha, terima dalam hal lainnya.\n",
    "# diperoleh nilai z valuenya = 2.4874"
   ]
  },
  {
   "cell_type": "markdown",
   "metadata": {},
   "source": [
    "Dengan menggunakan alpha = 5% dan melakukan uji pihak kanan, maka nilai Z alpha = 1.645. Karena nilai Z hitung = 2.4874 > Z alpha = 1.645, maka H0 ditolak. Artinya rata2 usia pengunjung supermarket adalah lebih dari 35 tahun."
   ]
  },
  {
   "cell_type": "code",
   "execution_count": 16,
   "metadata": {
    "id": "DrlCfbiLZaEg"
   },
   "outputs": [
    {
     "name": "stdout",
     "output_type": "stream",
     "text": [
      "nilai p-valuenya adalah 0.0064\n"
     ]
    }
   ],
   "source": [
    "# code here for p-value\n",
    "# mencari nilai p-value berdasarkan Z hitung dengan membaca tabel\n",
    "# berdasarkan tabel Z, diperoleh bahwa nilai p value dengan Z hitung = 2.49 adalah 0.5 - 0.4936 = 0.0064\n",
    "print('nilai p-valuenya adalah', round((0.5 - 0.4936),4))"
   ]
  },
  {
   "cell_type": "markdown",
   "metadata": {},
   "source": [
    "Dengan menggunakan alpha = 5% dan melakukan uji pihak kanan, p-value untuk Z hitung = 2.4874 adalah 0.0064. Karena nilai p-value = 0.0064 < alpha = 0.05, maka H0 ditolak. Artinya rata2 usia pengunjung supermarket adalah lebih dari 35 tahun."
   ]
  },
  {
   "cell_type": "markdown",
   "metadata": {
    "id": "ZE9OBuKxZ8Ei"
   },
   "source": []
  },
  {
   "cell_type": "markdown",
   "metadata": {
    "id": "272__Q0-_H_E"
   },
   "source": [
    "\n",
    "\n",
    "---\n",
    "\n",
    "\n",
    "\n",
    "---\n",
    "\n",
    "\n",
    "\n",
    "---\n",
    "\n"
   ]
  },
  {
   "cell_type": "markdown",
   "metadata": {
    "id": "q4TB5nadDdp1"
   },
   "source": [
    "## Soal 5. EDA"
   ]
  },
  {
   "cell_type": "markdown",
   "metadata": {
    "id": "GQCd-O8ApvTE"
   },
   "source": [
    "Lakukan eksplorasi data analisis. Gunakan visualisasi distplot untuk melihat sebaran data dan histogram pada setiap kolom dataset awal sebelum dilakukan handling missing value maupun outlier"
   ]
  },
  {
   "cell_type": "code",
   "execution_count": 17,
   "metadata": {},
   "outputs": [],
   "source": [
    "# melakukan EDA dari dataset awal sebelum dilakukan handling missing value maupun outlier\n",
    "# visualisasi distplot untuk melihat sebaran data dan histogram pada setiap kolom "
   ]
  },
  {
   "cell_type": "code",
   "execution_count": 18,
   "metadata": {
    "id": "hd05FkWjZlKg"
   },
   "outputs": [
    {
     "name": "stdout",
     "output_type": "stream",
     "text": [
      "Univariate plot\n"
     ]
    },
    {
     "data": {
      "image/png": "[encoded data removed]",
      "text/plain": [
       "<Figure size 1008x482.4 with 4 Axes>"
      ]
     },
     "metadata": {
      "needs_background": "light"
     },
     "output_type": "display_data"
    }
   ],
   "source": [
    "# code here for univariate\n",
    "print('Univariate plot')\n",
    "fig, ax = plt.subplots(figsize = (14,6.7))\n",
    "\n",
    "# membuat koordinat figure dan plotting menggunakan boxplot\n",
    "a = plt.subplot(231)\n",
    "sns.distplot(x = df['ID_pelanggan'], ax = a, axlabel = 'ID_pelanggan')\n",
    "\n",
    "b = plt.subplot(232)\n",
    "sns.distplot(x = df['Umur'], ax = b, axlabel = 'Umur')\n",
    "\n",
    "c = plt.subplot(233)\n",
    "sns.distplot(x = df['Pendapatan pertahun (juta)'], ax = c, axlabel = 'Pendapatan pertahun (juta)')\n",
    "\n",
    "d = plt.subplot(234)\n",
    "sns.distplot(x = df['Skor Belanja (1-100)'], ax = d, axlabel = 'Skor Belanja (1-100)')\n",
    "\n",
    "# mengatur jarak antara boxplot satu dengan yg lain\n",
    "fig.tight_layout(pad = 2)\n",
    "\n",
    "plt.show()"
   ]
  },
  {
   "cell_type": "markdown",
   "metadata": {
    "id": "DGb_OjUXZ97i"
   },
   "source": [
    "Give your analysis:\n",
    "\n",
    "Berdasarkan hasil analisis menggunakan displot yang terdiri atas chart histogram dan KDE line, dapat disimpulkan bahwa :\n",
    "\n",
    "1. Untuk kolom id pelanggan, dapat dilihat bahwa data pada id pelanggan menyebar mengikuti sebaran normal.\n",
    "\n",
    "2. Untuk kolom umur, dapat dilihat bahwa baik dengan histogram atau line KDE, data tersebut cenderung mengikuti sebaran normal positif.\n",
    "\n",
    "3. Untuk kolom pendapatan pertahun, dapat dilihat bahwa baik dengan histogram atau line KDE, datanya cenderung mengikuti sebaran normal negatif.\n",
    "\n",
    "4. Untuk kolom skor belanja, terlihat bahwa baik menggunakan histogram ataupun KDE line, datanya cenderung tidak berdistribusi normal."
   ]
  },
  {
   "cell_type": "markdown",
   "metadata": {
    "id": "KCA7HSYtZ_7f"
   },
   "source": []
  },
  {
   "cell_type": "code",
   "execution_count": 19,
   "metadata": {},
   "outputs": [
    {
     "data": {
      "image/png": "[encoded data removed]",
      "text/plain": [
       "<Figure size 1080x468 with 2 Axes>"
      ]
     },
     "metadata": {
      "needs_background": "light"
     },
     "output_type": "display_data"
    }
   ],
   "source": [
    "# membuat figur secara vertical\n",
    "fig, axs = plt.subplots(2, figsize = (15,6.5))\n",
    "\n",
    "ax1 = axs[0]\n",
    "ax2 = axs[1]\n",
    "\n",
    "# data\n",
    "laper = df.sort_values(by=['Skor Belanja (1-100)'], ascending = False)\n",
    "\n",
    "# plot the data\n",
    "sns.barplot(x = laper['Jenis Kelamin'].head(10), y = laper['Skor Belanja (1-100)'].head(10), ax = ax1)\n",
    "sns.barplot(x = laper['Jenis Kelamin'].tail(10), y = laper['Skor Belanja (1-100)'].tail(10), ax = ax2)\n",
    "\n",
    "# memberi judul subplot\n",
    "ax1.set_title('Top highest skor belanja')\n",
    "ax2.set_title('Top lowest skor belanja')\n",
    "\n",
    "# mengatur jarak subplot satu dengan lainnya\n",
    "fig.tight_layout(pad = 3)\n",
    "\n",
    "plt.show()"
   ]
  },
  {
   "cell_type": "markdown",
   "metadata": {
    "id": "LuRzizmQaA7c"
   },
   "source": [
    "Give your analysis:\n",
    "\n",
    "Berdasarkan hasil plot menggunakan bar chart, dengan mengurutkan nilai melalui kriteria Skor Belanja sebanyak 10 orang, maka :\n",
    "\n",
    "1. Untuk subplot highest, perempuan cenderung memberikan nilai skor belanja yang lebih tinggi daripada laki-laki. Artinya, terdapat 10 customer perempuan yang suka belanja di supermarket tersebut.\n",
    "\n",
    "2. Untuk subplot lowest, justru perempuan tidak memberikan skor saat mereka belanja di supermarket tersebut, sedangkan laki-laki hanya memberikan skor nilai antara 3-4.\n",
    "\n",
    "3. Kedua hal ini tentu menjadi catatan tersendiri bagi supermarket tersebut. Skor belanja yang tinggi dapat menjadi apresiasi dan skor rendah menjadi evaluasi apakah terdapat kekurangan baik dalam hal pelayanan, harga, kebersihan tempat, dan lain-lain."
   ]
  },
  {
   "cell_type": "markdown",
   "metadata": {
    "id": "o74RZcJdaDZA"
   },
   "source": []
  },
  {
   "cell_type": "code",
   "execution_count": 20,
   "metadata": {
    "id": "7J3b554fZqoy"
   },
   "outputs": [
    {
     "data": {
      "image/png": "[encoded data removed]",
      "text/plain": [
       "<Figure size 432x288 with 2 Axes>"
      ]
     },
     "metadata": {
      "needs_background": "light"
     },
     "output_type": "display_data"
    }
   ],
   "source": [
    "# code here for multivariate\n",
    "korelasi_v = df.corr()\n",
    "\n",
    "sns.heatmap(korelasi_v, annot = True)\n",
    "plt.show()"
   ]
  },
  {
   "cell_type": "markdown",
   "metadata": {
    "id": "8S-A9RV5aEmB"
   },
   "source": [
    "Give your analysis:\n",
    "\n",
    "Dari hasil EDA multivariat menggunakan plotting korelasi, dapat diperoleh informasi sebagai berikut :\n",
    "\n",
    "1. Nilai korelasi antara id pelanggan dengan umur adalah -0.016, artinya terdapat hubungan yang sangat lemah dari variabel tersebut dan hubungannya berbanding terbalik.\n",
    "\n",
    "2. Nilai korelasi antara id pelanggan dengan pendapatan pertahun adalah 0.9, artinya terdapat hubungan yang sangat kuat dari kedua variabel tersebut dan hubungannya berbanding positif. \n",
    "\n",
    "3. Nilai korelasi antara id pelanggan dengan skor belanja adalah -0.03, artinya terdapat hubungan yang sangat lemah dari variabel tersebut dan hubungannya berbanding terbalik.\n",
    "\n",
    "4. Nilai korelasi antara umur dengan pendapatan pertahun adalah 0.011, artinya terdapat hubungan yang sangat lemah dari variabel tersebut dan hubungannya berbanding positif.\n",
    "\n",
    "5. Nilai korelasi antara umur dengan skor belanja adalah -0.33, artinya terdapat hubungan yang sangat lemah dari variabel tersebut dan hubungannya berbanding terbalik.\n",
    "\n",
    "6. Nilai korelasi antara skor belanja dengan pendapatan pertahun adalah -0.035, artinya terdapat hubungan yang sangat lemah dari variabel tersebut dan hubungannya berbanding terbalik.\n",
    "\n",
    "7. Ini akan menjadi catatan, boleh saja kedua variabel memiliki nilai korelasi yang sangat tinggi atau sangat lemah, tetapi harus dipertimbangkan juga aspek teoritisnya. Contohnya, tidak mungkin semakin tinggi nilai id pelanggan, akan semakin tinggi juga nilai pendapatan pertahun. Hal ini berlaku untuk semua variabel.\n",
    "\n",
    "8. Semakin cerah warna dari masing-masing kotak dari setiap blok kotak, maka akan menunjukkan nilai korelasi yang semakin tinggi. Begitu juga sebaliknya, Semakin gelap warna dari masing-masing kotak dari setiap blok kotak, maka akan menunjukkan nilai korelasi yang semakin rendah."
   ]
  },
  {
   "cell_type": "markdown",
   "metadata": {
    "id": "vrT3v9ZYaGXb"
   },
   "source": []
  },
  {
   "cell_type": "markdown",
   "metadata": {
    "id": "rvomcnVzWD90"
   },
   "source": [
    "**Expected output**\n",
    "\n",
    "Univariate plot\n",
    "\n",
    "![](https://drive.google.com/uc?id=12BSOah7WFzuOEJsKfsaNDw799zzqbDIs)\n",
    "\n",
    "Bivariate plot\n",
    "\n",
    "![](https://drive.google.com/uc?id=1JI_NM4Nr-ZN1aszv0m-iL46Qm0xNLFw3)\n",
    "\n",
    "Multivariate plot\n",
    "\n",
    "![](https://drive.google.com/uc?id=1TTXm3BjoqqwSGMGE1en9ZIJT53Wm5SFf)"
   ]
  },
  {
   "cell_type": "markdown",
   "metadata": {
    "id": "z2nJhKqNpryR"
   },
   "source": [
    "\n",
    "\n",
    "---\n",
    "\n",
    "---\n",
    "\n",
    "\n",
    "\n",
    "---\n",
    "\n",
    "\n",
    "\n"
   ]
  },
  {
   "cell_type": "markdown",
   "metadata": {
    "id": "AF0090RVqbyh"
   },
   "source": [
    "# Soal 6. Data scaling\n",
    "lakukan scaling data dengan menggunakan standarisasi untuk kolom Umur dan skor belanja saja tetapi menggunakan variabel dataframe setelah handling missing value dan outlier"
   ]
  },
  {
   "cell_type": "markdown",
   "metadata": {},
   "source": [
    "rumus standarisasi :\n",
    "\n",
    "Xstd = (x-xbar) / sx, dengan :\n",
    "\n",
    "x : unit observasi\n",
    "\n",
    "xbar : rata-rata data\n",
    "\n",
    "sx : standar deviasi data"
   ]
  },
  {
   "cell_type": "code",
   "execution_count": 21,
   "metadata": {
    "id": "NcQ-UGu1aKmg",
    "scrolled": false
   },
   "outputs": [
    {
     "name": "stdout",
     "output_type": "stream",
     "text": [
      "246\n",
      "246\n"
     ]
    },
    {
     "data": {
      "text/html": [
       "<div>\n",
       "<style scoped>\n",
       "    .dataframe tbody tr th:only-of-type {\n",
       "        vertical-align: middle;\n",
       "    }\n",
       "\n",
       "    .dataframe tbody tr th {\n",
       "        vertical-align: top;\n",
       "    }\n",
       "\n",
       "    .dataframe thead th {\n",
       "        text-align: right;\n",
       "    }\n",
       "</style>\n",
       "<table border=\"1\" class=\"dataframe\">\n",
       "  <thead>\n",
       "    <tr style=\"text-align: right;\">\n",
       "      <th></th>\n",
       "      <th>Umur</th>\n",
       "      <th>Skor Belanja (1-100)</th>\n",
       "    </tr>\n",
       "  </thead>\n",
       "  <tbody>\n",
       "    <tr>\n",
       "      <th>0</th>\n",
       "      <td>-1.452</td>\n",
       "      <td>-0.396</td>\n",
       "    </tr>\n",
       "    <tr>\n",
       "      <th>1</th>\n",
       "      <td>-1.302</td>\n",
       "      <td>1.119</td>\n",
       "    </tr>\n",
       "    <tr>\n",
       "      <th>2</th>\n",
       "      <td>-1.377</td>\n",
       "      <td>-1.586</td>\n",
       "    </tr>\n",
       "    <tr>\n",
       "      <th>3</th>\n",
       "      <td>-1.152</td>\n",
       "      <td>0.975</td>\n",
       "    </tr>\n",
       "    <tr>\n",
       "      <th>4</th>\n",
       "      <td>-0.552</td>\n",
       "      <td>-0.360</td>\n",
       "    </tr>\n",
       "    <tr>\n",
       "      <th>...</th>\n",
       "      <td>...</td>\n",
       "      <td>...</td>\n",
       "    </tr>\n",
       "    <tr>\n",
       "      <th>241</th>\n",
       "      <td>-0.852</td>\n",
       "      <td>0.686</td>\n",
       "    </tr>\n",
       "    <tr>\n",
       "      <th>242</th>\n",
       "      <td>1.549</td>\n",
       "      <td>-1.298</td>\n",
       "    </tr>\n",
       "    <tr>\n",
       "      <th>243</th>\n",
       "      <td>-0.252</td>\n",
       "      <td>1.444</td>\n",
       "    </tr>\n",
       "    <tr>\n",
       "      <th>244</th>\n",
       "      <td>-0.102</td>\n",
       "      <td>-0.649</td>\n",
       "    </tr>\n",
       "    <tr>\n",
       "      <th>245</th>\n",
       "      <td>-0.477</td>\n",
       "      <td>1.299</td>\n",
       "    </tr>\n",
       "  </tbody>\n",
       "</table>\n",
       "<p>246 rows × 2 columns</p>\n",
       "</div>"
      ],
      "text/plain": [
       "      Umur  Skor Belanja (1-100)\n",
       "0   -1.452                -0.396\n",
       "1   -1.302                 1.119\n",
       "2   -1.377                -1.586\n",
       "3   -1.152                 0.975\n",
       "4   -0.552                -0.360\n",
       "..     ...                   ...\n",
       "241 -0.852                 0.686\n",
       "242  1.549                -1.298\n",
       "243 -0.252                 1.444\n",
       "244 -0.102                -0.649\n",
       "245 -0.477                 1.299\n",
       "\n",
       "[246 rows x 2 columns]"
      ]
     },
     "metadata": {},
     "output_type": "display_data"
    }
   ],
   "source": [
    "# Menggunakan Cara Manual\n",
    "# melakukan scaling datau ntuk kolom Umur dan skor belanja menggunakan data df2\n",
    "# untuk kolom umur\n",
    "xbar = df2['Umur'].mean()\n",
    "xs = df2['Umur'].std()\n",
    "umur = []\n",
    "for i in df2['Umur'] :\n",
    "    Xstd = (i-xbar) / xs\n",
    "    umur.append(Xstd)\n",
    "\n",
    "Umur = [round(num, 3) for num in umur]\n",
    "print(len(Umur))\n",
    "\n",
    "# untuk kolom skor belanja\n",
    "xbaz = df2['Skor Belanja (1-100)'].mean()\n",
    "xz = df2['Skor Belanja (1-100)'].std()\n",
    "belanja = []\n",
    "for i in df2['Skor Belanja (1-100)'] :\n",
    "    Xztd = (i-xbaz) / xz\n",
    "    belanja.append(Xztd)\n",
    "\n",
    "Belanja = [round(num, 3) for num in belanja]\n",
    "print(len(Belanja))\n",
    "# menggabungkan kedua kolom tersebut\n",
    "Scaling = pd.DataFrame({'Umur': Umur, 'Skor Belanja (1-100)': Belanja})\n",
    "display(Scaling)"
   ]
  },
  {
   "cell_type": "code",
   "execution_count": 22,
   "metadata": {},
   "outputs": [
    {
     "data": {
      "text/plain": [
       "array([[-1.45540807e+00, -3.96862497e-01],\n",
       "       [-1.30503831e+00,  1.12123573e+00],\n",
       "       [-1.38022319e+00, -1.58965396e+00],\n",
       "       [-1.15466856e+00,  9.76654949e-01],\n",
       "       [-5.53189542e-01, -3.60717301e-01],\n",
       "       [-1.22985343e+00,  9.40509753e-01],\n",
       "       [-2.52450034e-01, -1.58965396e+00],\n",
       "       [-1.15466856e+00,  1.59112328e+00],\n",
       "       [ 1.92791140e+00, -1.69808955e+00],\n",
       "       [-6.28374419e-01,  7.95928969e-01],\n",
       "       [ 2.15346603e+00, -1.30049240e+00],\n",
       "       [-2.52450034e-01,  1.77184926e+00],\n",
       "       [ 1.47680214e+00, -1.26434720e+00],\n",
       "       [-1.07948368e+00,  9.76654949e-01],\n",
       "       [-1.02080280e-01, -1.33663759e+00],\n",
       "       [-1.22985343e+00,  1.04894534e+00],\n",
       "       [-1.38022319e+00,  5.79057793e-01],\n",
       "       [ 1.02569287e+00, -7.58314456e-01],\n",
       "       [-2.52450034e-01,  1.73570406e+00],\n",
       "       [-2.52450034e-01, -5.41443281e-01],\n",
       "       [-1.00429880e+00,  8.32074165e-01],\n",
       "       [ 5.74583613e-01, -1.62579916e+00],\n",
       "       [-5.53189542e-01,  8.32074165e-01],\n",
       "       [ 1.17606263e+00, -1.30049240e+00],\n",
       "       [-7.03559296e-01,  1.15738093e+00],\n",
       "       [ 4.99398736e-01, -6.49878868e-01],\n",
       "       [-2.52450034e-01,  3.98331814e-01],\n",
       "       [ 1.23474351e-01, -6.86024064e-01],\n",
       "       [-1.15466856e+00,  1.33810691e+00],\n",
       "       [ 1.62717189e+00, -1.66194435e+00],\n",
       "       [-1.30503831e+00,  8.32074165e-01],\n",
       "       [ 1.10087775e+00, -1.66194435e+00],\n",
       "       [-1.53059294e+00,  1.51883289e+00],\n",
       "       [ 8.00138243e-01, -1.30049240e+00],\n",
       "       [-1.30503831e+00,  1.12123573e+00],\n",
       "       [ 2.73844105e-01, -1.19205681e+00],\n",
       "       [-6.28374419e-01,  8.32074165e-01],\n",
       "       [-1.77265157e-01, -8.66750044e-01],\n",
       "       [-1.38022319e+00,  9.04364557e-01],\n",
       "       [ 2.00309627e+00, -5.41443281e-01],\n",
       "       [-1.07948368e+00,  1.51883289e+00],\n",
       "       [ 7.24953366e-01, -5.05298085e-01],\n",
       "       [-5.53189542e-01,  3.98331814e-01],\n",
       "       [ 8.00138243e-01, -7.94459652e-01],\n",
       "       [-1.07948368e+00,  5.42912597e-01],\n",
       "       [ 8.75323120e-01,  1.81460638e-01],\n",
       "       [-8.53929050e-01, -1.07700929e-01],\n",
       "       [-7.03559296e-01, -2.88426909e-01],\n",
       "       [-5.53189542e-01, -2.88426909e-01],\n",
       "       [ 8.00138243e-01,  7.30250503e-02],\n",
       "       [-4.02819788e-01,  3.62186618e-01],\n",
       "       [-5.53189542e-01,  1.45315442e-01],\n",
       "       [ 1.55198701e+00,  3.62186618e-01],\n",
       "       [ 8.75323120e-01, -1.79991321e-01],\n",
       "       [ 6.49768489e-01, -3.24572105e-01],\n",
       "       [ 9.50507997e-01,  7.34658454e-04],\n",
       "       [ 2.30383578e+00, -1.43846125e-01],\n",
       "       [-8.53929050e-01,  3.68798544e-02],\n",
       "       [ 1.10087775e+00, -1.43846125e-01],\n",
       "       [ 2.37902066e+00,  2.17605834e-01],\n",
       "       [-1.45540807e+00,  2.17605834e-01],\n",
       "       [ 2.15346603e+00,  7.30250503e-02],\n",
       "       [ 1.17606263e+00,  3.26041422e-01],\n",
       "       [ 1.85272652e+00,  3.68798544e-02],\n",
       "       [-1.53059294e+00,  3.26041422e-01],\n",
       "       [ 3.49028982e-01,  7.34658454e-04],\n",
       "       [ 2.22865091e+00, -7.15557334e-02],\n",
       "       [-1.45540807e+00,  3.26041422e-01],\n",
       "       [-4.78004665e-01, -1.07700929e-01],\n",
       "       [ 2.37902066e+00,  1.81460638e-01],\n",
       "       [ 6.49768489e-01, -2.88426909e-01],\n",
       "       [ 1.62717189e+00, -3.54105375e-02],\n",
       "       [ 1.62717189e+00,  2.17605834e-01],\n",
       "       [ 1.55198701e+00, -1.07700929e-01],\n",
       "       [-9.29113927e-01,  1.45315442e-01],\n",
       "       [ 4.99398736e-01,  1.09170246e-01],\n",
       "       [ 1.23474351e-01, -7.15557334e-02],\n",
       "       [-1.15466856e+00,  7.30250503e-02],\n",
       "       [ 8.00138243e-01, -2.88426909e-01],\n",
       "       [ 1.40161726e+00,  3.68798544e-02],\n",
       "       [-2.68954031e-02,  1.81460638e-01],\n",
       "       [ 2.15346603e+00, -3.24572105e-01],\n",
       "       [ 5.74583613e-01, -2.16136517e-01],\n",
       "       [-1.30503831e+00,  2.53751030e-01],\n",
       "       [ 7.24953366e-01, -1.43846125e-01],\n",
       "       [ 1.25124751e+00,  2.89896226e-01],\n",
       "       [-1.22985343e+00,  1.81460638e-01],\n",
       "       [-3.27634911e-01,  3.62186618e-01],\n",
       "       [ 8.75323120e-01, -1.43846125e-01],\n",
       "       [ 2.22865091e+00,  1.81460638e-01],\n",
       "       [-1.53059294e+00, -3.24572105e-01],\n",
       "       [ 7.24953366e-01, -3.54105375e-02],\n",
       "       [ 1.23474351e-01, -3.60717301e-01],\n",
       "       [-4.78004665e-01, -3.60717301e-01],\n",
       "       [-1.07948368e+00,  7.30250503e-02],\n",
       "       [ 6.49768489e-01, -1.07700929e-01],\n",
       "       [-8.53929050e-01,  7.34658454e-04],\n",
       "       [ 7.24953366e-01, -2.88426909e-01],\n",
       "       [-1.38022319e+00, -3.54105375e-02],\n",
       "       [-1.15466856e+00, -3.24572105e-01],\n",
       "       [ 8.00138243e-01, -7.15557334e-02],\n",
       "       [ 2.15346603e+00,  3.26041422e-01],\n",
       "       [-9.29113927e-01,  1.81460638e-01],\n",
       "       [ 8.00138243e-01,  2.17605834e-01],\n",
       "       [-1.30503831e+00, -2.88426909e-01],\n",
       "       [ 2.07828115e+00,  7.34658454e-04],\n",
       "       [ 1.17606263e+00, -1.43846125e-01],\n",
       "       [ 2.22865091e+00, -2.52281713e-01],\n",
       "       [ 2.07828115e+00, -7.15557334e-02],\n",
       "       [ 2.00309627e+00,  7.30250503e-02],\n",
       "       [-1.45540807e+00,  1.45315442e-01],\n",
       "       [-2.68954031e-02, -2.88426909e-01],\n",
       "       [-1.45540807e+00, -1.43846125e-01],\n",
       "       [-1.53059294e+00, -7.15557334e-02],\n",
       "       [-1.45540807e+00,  7.34658454e-04],\n",
       "       [ 1.85272652e+00, -2.52281713e-01],\n",
       "       [ 8.00138243e-01, -2.52281713e-01],\n",
       "       [ 9.50507997e-01, -2.52281713e-01],\n",
       "       [ 8.75323120e-01,  2.53751030e-01],\n",
       "       [-8.53929050e-01,  2.17605834e-01],\n",
       "       [-2.68954031e-02, -3.60717301e-01],\n",
       "       [ 1.23474351e-01,  2.89896226e-01],\n",
       "       [ 4.82894738e-02,  1.48268769e+00],\n",
       "       [-1.15466856e+00, -7.58314456e-01],\n",
       "       [-5.53189542e-01,  9.76654949e-01],\n",
       "       [ 3.49028982e-01, -5.41443281e-01],\n",
       "       [ 1.23474351e-01,  1.62726848e+00],\n",
       "       [ 1.55198701e+00, -1.40892798e+00],\n",
       "       [-2.68954031e-02,  9.04364557e-01],\n",
       "       [ 6.49768489e-01, -1.48121837e+00],\n",
       "       [ 4.82894738e-02,  9.04364557e-01],\n",
       "       [-1.00429880e+00, -5.77588476e-01],\n",
       "       [-5.53189542e-01,  7.59783773e-01],\n",
       "       [-1.38022319e+00, -1.62579916e+00],\n",
       "       [-7.03559296e-01,  1.37425210e+00],\n",
       "       [ 4.24213859e-01, -1.55350877e+00],\n",
       "       [-4.78004665e-01,  8.32074165e-01],\n",
       "       [-1.45540807e+00, -1.44507318e+00],\n",
       "       [-2.52450034e-01,  7.95928969e-01],\n",
       "       [ 1.40161726e+00, -1.62579916e+00],\n",
       "       [-4.78004665e-01,  1.55497808e+00],\n",
       "       [-7.78744173e-01, -3.60717301e-01],\n",
       "       [-4.78004665e-01,  1.33810691e+00],\n",
       "       [-1.00429880e+00, -1.37278279e+00],\n",
       "       [-7.78744173e-01,  1.69955887e+00],\n",
       "       [ 7.24953366e-01, -5.05298085e-01],\n",
       "       [-4.78004665e-01,  8.68219361e-01],\n",
       "       [-3.27634911e-01, -1.01133083e+00],\n",
       "       [-3.27634911e-01,  1.44654250e+00],\n",
       "       [ 3.49028982e-01, -1.19205681e+00],\n",
       "       [ 4.82894738e-02,  1.37425210e+00],\n",
       "       [ 4.24213859e-01, -1.08362122e+00],\n",
       "       [-2.68954031e-02,  9.40509753e-01],\n",
       "       [ 6.49768489e-01, -1.22820200e+00],\n",
       "       [-8.53929050e-01,  1.41039730e+00],\n",
       "       [-1.02080280e-01, -1.66194435e+00],\n",
       "       [-6.28374419e-01,  1.01280014e+00],\n",
       "       [-3.27634911e-01, -1.62579916e+00],\n",
       "       [-6.28374419e-01,  8.32074165e-01],\n",
       "       [ 1.32643238e+00, -5.41443281e-01],\n",
       "       [-7.03559296e-01,  1.19352612e+00],\n",
       "       [-1.45540807e+00, -1.62579916e+00],\n",
       "       [-5.53189542e-01,  1.55497808e+00],\n",
       "       [ 8.75323120e-01, -8.66750044e-01],\n",
       "       [-1.77265157e-01,  9.04364557e-01],\n",
       "       [ 2.73844105e-01, -1.08362122e+00],\n",
       "       [-4.02819788e-01,  1.62726848e+00],\n",
       "       [-1.77265157e-01, -8.30604848e-01],\n",
       "       [-4.78004665e-01,  4.70622206e-01],\n",
       "       [ 1.23474351e-01, -1.33663759e+00],\n",
       "       [-7.78744173e-01,  9.04364557e-01],\n",
       "       [-1.77265157e-01, -1.44507318e+00],\n",
       "       [-1.77265157e-01,  1.51883289e+00],\n",
       "       [ 1.02569287e+00, -1.33663759e+00],\n",
       "       [-6.28374419e-01,  1.30196171e+00],\n",
       "       [ 1.47680214e+00, -1.26434720e+00],\n",
       "       [-8.53929050e-01, -1.62579916e+00],\n",
       "       [ 1.55198701e+00, -1.30049240e+00],\n",
       "       [-2.52450034e-01,  1.44654250e+00],\n",
       "       [-1.02080280e-01, -6.49878868e-01],\n",
       "       [-4.78004665e-01,  1.30196171e+00],\n",
       "       [ 5.74583613e-01, -1.26434720e+00],\n",
       "       [-7.03559296e-01,  1.37425210e+00],\n",
       "       [ 1.98659228e-01, -3.96862497e-01],\n",
       "       [-6.28374419e-01,  1.69955887e+00],\n",
       "       [ 1.17606263e+00, -9.39040436e-01],\n",
       "       [-7.78744173e-01,  6.51348185e-01],\n",
       "       [ 1.98659228e-01, -1.19205681e+00],\n",
       "       [-1.77265157e-01,  1.26581652e+00],\n",
       "       [-3.27634911e-01, -9.75185632e-01],\n",
       "       [-4.78004665e-01,  6.87493381e-01],\n",
       "       [-4.02819788e-01, -1.51736357e+00],\n",
       "       [-2.68954031e-02,  1.48268769e+00],\n",
       "       [ 6.49768489e-01, -1.22820200e+00],\n",
       "       [-2.52450034e-01,  1.04894534e+00],\n",
       "       [ 4.99398736e-01, -7.94459652e-01],\n",
       "       [-4.78004665e-01,  8.68219361e-01],\n",
       "       [-5.53189542e-01,  7.59783773e-01],\n",
       "       [-1.38022319e+00, -1.62579916e+00],\n",
       "       [-7.03559296e-01,  1.37425210e+00],\n",
       "       [ 4.24213859e-01, -1.55350877e+00],\n",
       "       [-4.78004665e-01,  8.32074165e-01],\n",
       "       [-1.45540807e+00, -1.44507318e+00],\n",
       "       [-2.52450034e-01,  7.95928969e-01],\n",
       "       [ 1.40161726e+00, -1.62579916e+00],\n",
       "       [-4.78004665e-01,  1.55497808e+00],\n",
       "       [-4.78004665e-01, -3.60717301e-01],\n",
       "       [-4.78004665e-01,  1.33810691e+00],\n",
       "       [-1.00429880e+00, -1.37278279e+00],\n",
       "       [-7.78744173e-01,  1.69955887e+00],\n",
       "       [ 7.24953366e-01, -5.05298085e-01],\n",
       "       [-4.78004665e-01,  8.68219361e-01],\n",
       "       [-3.27634911e-01, -1.01133083e+00],\n",
       "       [-3.27634911e-01,  1.44654250e+00],\n",
       "       [ 3.49028982e-01, -1.19205681e+00],\n",
       "       [ 4.82894738e-02,  1.37425210e+00],\n",
       "       [ 4.24213859e-01, -1.08362122e+00],\n",
       "       [-2.68954031e-02,  9.40509753e-01],\n",
       "       [ 6.49768489e-01, -1.22820200e+00],\n",
       "       [-8.53929050e-01,  1.41039730e+00],\n",
       "       [-1.02080280e-01, -1.62579916e+00],\n",
       "       [-6.28374419e-01,  1.01280014e+00],\n",
       "       [-6.28374419e-01, -1.66194435e+00],\n",
       "       [-6.28374419e-01,  8.32074165e-01],\n",
       "       [ 1.32643238e+00, -5.41443281e-01],\n",
       "       [-7.03559296e-01,  1.19352612e+00],\n",
       "       [-1.45540807e+00, -1.62579916e+00],\n",
       "       [-5.53189542e-01,  1.55497808e+00],\n",
       "       [ 8.75323120e-01, -8.66750044e-01],\n",
       "       [-1.77265157e-01,  9.04364557e-01],\n",
       "       [ 2.73844105e-01, -1.08362122e+00],\n",
       "       [-4.02819788e-01,  1.62726848e+00],\n",
       "       [-1.77265157e-01, -8.30604848e-01],\n",
       "       [-4.78004665e-01,  4.70622206e-01],\n",
       "       [ 1.23474351e-01, -1.33663759e+00],\n",
       "       [-7.78744173e-01,  9.04364557e-01],\n",
       "       [-1.77265157e-01, -1.44507318e+00],\n",
       "       [-1.77265157e-01,  1.51883289e+00],\n",
       "       [ 1.02569287e+00, -1.33663759e+00],\n",
       "       [-6.28374419e-01,  1.30196171e+00],\n",
       "       [ 1.47680214e+00, -1.26434720e+00],\n",
       "       [-8.53929050e-01,  6.87493381e-01],\n",
       "       [ 1.55198701e+00, -1.30049240e+00],\n",
       "       [-2.52450034e-01,  1.44654250e+00],\n",
       "       [-1.02080280e-01, -6.49878868e-01],\n",
       "       [-4.78004665e-01,  1.30196171e+00]])"
      ]
     },
     "metadata": {},
     "output_type": "display_data"
    }
   ],
   "source": [
    "# scaling menggunakan StandardScaler\n",
    "from sklearn.preprocessing import StandardScaler\n",
    "\n",
    "scaling = df2[['Umur','Skor Belanja (1-100)']]\n",
    "scaling = StandardScaler().fit_transform(scaling)\n",
    "display(scaling)"
   ]
  },
  {
   "cell_type": "markdown",
   "metadata": {
    "id": "6_4IxEFEqwNp"
   },
   "source": [
    "\n",
    "\n",
    "---\n",
    "\n",
    "\n",
    "\n",
    "---\n",
    "\n",
    "\n",
    "\n",
    "---\n",
    "\n"
   ]
  },
  {
   "cell_type": "markdown",
   "metadata": {
    "id": "gPDw48Mmqx7n"
   },
   "source": [
    "# Soal 7. Clustering menggunakan k-menas\n",
    "\n",
    "*   Lakukan clustering menggunakan kmeans clustering dengan k =2, dan visualisasikan\n",
    "*   Gunakan Elbow method untuk menemukan jumlah k kluster yang tepat\n",
    "*   Gunakan k=3 (rekomendasi methode Elbow) lalu visualisasikan\n",
    "*   Hitung silhoutte Coefficient dari ke dua hasil prediksi klustering tersebut"
   ]
  },
  {
   "cell_type": "code",
   "execution_count": 23,
   "metadata": {},
   "outputs": [
    {
     "name": "stdout",
     "output_type": "stream",
     "text": [
      "[1 1 0 1 1 1 0 1 0 1 0 1 0 1 0 1 1 0 1 0 1 0 1 0 1 0 1 0 1 0 1 0 1 0 1 0 1\n",
      " 0 1 0 1 0 1 0 1 0 1 1 1 0 1 1 0 0 0 0 0 1 0 0 1 0 0 0 1 0 0 1 1 0 0 0 0 0\n",
      " 1 0 0 1 0 0 1 0 0 1 0 0 1 1 0 0 1 0 0 1 1 0 1 0 1 1 0 0 1 0 1 0 0 0 0 0 1\n",
      " 0 1 1 1 0 0 0 0 1 0 1 1 1 1 0 1 0 1 0 1 1 1 0 1 0 1 0 1 0 1 1 1 0 1 0 1 0\n",
      " 1 0 1 0 1 0 1 0 1 0 1 0 1 0 1 0 1 0 1 0 1 0 1 0 1 0 1 0 0 0 1 0 1 0 1 0 1\n",
      " 0 1 0 1 0 1 0 1 0 1 0 1 1 0 1 0 1 0 1 0 1 1 1 0 1 0 1 0 1 0 1 0 1 0 1 0 1\n",
      " 0 1 0 1 0 1 0 1 0 1 0 1 0 1 0 1 0 1 0 1 0 1 0 1]\n"
     ]
    }
   ],
   "source": [
    "# soal 7.1\n",
    "# menggunakan data yang telah di standarisasi\n",
    "# memanggil libary\n",
    "from sklearn.cluster import KMeans\n",
    "\n",
    "# mengidentifikasi cluster = 2\n",
    "kmeans2 = KMeans(n_clusters = 2)\n",
    " \n",
    "# memberi label objek\n",
    "label = kmeans2.fit_predict(Scaling)\n",
    " \n",
    "print(label)"
   ]
  },
  {
   "cell_type": "code",
   "execution_count": 24,
   "metadata": {},
   "outputs": [
    {
     "name": "stdout",
     "output_type": "stream",
     "text": [
      "cluster 2\n"
     ]
    },
    {
     "data": {
      "image/png": "[encoded data removed]",
      "text/plain": [
       "<Figure size 792x504 with 1 Axes>"
      ]
     },
     "metadata": {
      "needs_background": "light"
     },
     "output_type": "display_data"
    }
   ],
   "source": [
    "print('cluster 2')\n",
    "# mem-filter data berdasarkan label\n",
    "filtered_label0 = Scaling[label == 0]\n",
    "filtered_label1 = Scaling[label == 1]\n",
    "\n",
    "# mengatur ukuran figure\n",
    "figure, ax = plt.subplots(figsize=(11,7))\n",
    "\n",
    "# plotting the data\n",
    "plt.scatter(x = filtered_label0['Umur'] ,  y = filtered_label0['Skor Belanja (1-100)'], color = 'b', s = 80, edgecolor = 'g')\n",
    "plt.scatter(x = filtered_label1['Umur'] ,  y = filtered_label1['Skor Belanja (1-100)'], color = 'r', s = 80, edgecolor = 'g')\n",
    "\n",
    "# memberi atribut centroid\n",
    "centroids2 = kmeans2.cluster_centers_\n",
    "plt.scatter(centroids2[:,0] , centroids2[:,1] , s = 300, color = 'k')\n",
    "\n",
    "# memberi label x dan y axis\n",
    "plt.xlabel('Umur')\n",
    "plt.ylabel('Skor Belanja (1-100)')\n",
    "\n",
    "plt.show()"
   ]
  },
  {
   "cell_type": "code",
   "execution_count": 25,
   "metadata": {},
   "outputs": [
    {
     "name": "stdout",
     "output_type": "stream",
     "text": [
      "elbow method\n"
     ]
    },
    {
     "data": {
      "image/png": "[encoded data removed]",
      "text/plain": [
       "<Figure size 792x504 with 1 Axes>"
      ]
     },
     "metadata": {
      "needs_background": "light"
     },
     "output_type": "display_data"
    }
   ],
   "source": [
    "# soal 7.2\n",
    "print('elbow method')\n",
    "# menggunakan metode WCSS dan elbow method\n",
    "# mengatur ukuran figure\n",
    "figure, ax = plt.subplots(figsize=(11,7))\n",
    "\n",
    "wcss=[]\n",
    "for i in range(1,11):\n",
    "    kmeans = KMeans(i)\n",
    "    kmeans.fit(Scaling)\n",
    "    wcss_iter = kmeans.inertia_\n",
    "    wcss.append(wcss_iter)\n",
    "\n",
    "number_clusters = range(1,11)\n",
    "\n",
    "# plotting the elbow\n",
    "plt.plot(number_clusters, wcss)\n",
    "\n",
    "# memberi judul pada figure, x, dan y axis\n",
    "plt.title('Elbow Method')\n",
    "plt.xlabel('n_clusters')\n",
    "plt.ylabel('WCSS')\n",
    "\n",
    "plt.show()"
   ]
  },
  {
   "cell_type": "code",
   "execution_count": 26,
   "metadata": {},
   "outputs": [
    {
     "name": "stdout",
     "output_type": "stream",
     "text": [
      "[1 2 1 2 1 2 1 2 0 2 0 2 0 2 1 2 2 0 2 1 2 1 2 0 2 0 2 1 2 0 2 0 2 0 2 1 2\n",
      " 1 2 0 2 0 2 0 2 0 1 1 1 0 2 2 0 0 0 0 0 2 0 0 2 0 0 0 2 0 0 2 1 0 0 0 0 0\n",
      " 2 0 1 2 0 0 2 0 0 2 0 0 2 2 0 0 1 0 1 1 2 0 2 0 2 1 0 0 2 0 1 0 0 0 0 0 2\n",
      " 1 2 2 2 0 0 0 0 2 1 2 2 1 2 1 2 0 2 1 2 1 2 1 2 1 2 1 2 0 2 1 2 1 2 0 2 1\n",
      " 2 1 2 1 2 0 2 1 2 1 2 0 2 1 2 0 2 1 2 1 2 1 2 1 2 0 2 0 1 0 2 1 2 1 2 1 2\n",
      " 0 2 1 2 1 2 1 2 0 2 0 2 2 1 2 1 2 1 2 0 2 1 2 1 2 0 2 1 2 1 2 1 2 0 2 1 2\n",
      " 1 2 0 2 1 2 0 2 1 2 1 2 1 2 1 2 0 2 0 2 0 2 1 2]\n"
     ]
    }
   ],
   "source": [
    "# soal 7.3\n",
    "# mengidentifikasi cluster = 3\n",
    "kmeans3 = KMeans(n_clusters = 3)\n",
    " \n",
    "# memberi label objek\n",
    "label3 = kmeans3.fit_predict(Scaling)\n",
    " \n",
    "print(label3)"
   ]
  },
  {
   "cell_type": "code",
   "execution_count": 27,
   "metadata": {},
   "outputs": [
    {
     "name": "stdout",
     "output_type": "stream",
     "text": [
      "cluster 3\n"
     ]
    },
    {
     "data": {
      "image/png": "[encoded data removed]",
      "text/plain": [
       "<Figure size 936x576 with 1 Axes>"
      ]
     },
     "metadata": {
      "needs_background": "light"
     },
     "output_type": "display_data"
    }
   ],
   "source": [
    "print('cluster 3')\n",
    "# mem-filter data berdasarkan label\n",
    "filtered_label0 = Scaling[label3 == 0]\n",
    "filtered_label1 = Scaling[label3 == 1]\n",
    "filtered_label2 = Scaling[label3 == 2]\n",
    "\n",
    "# mengatur ukuran figure\n",
    "figure, ax = plt.subplots(figsize=(13,8))\n",
    "\n",
    "# plotting the data\n",
    "sns.scatterplot(x = filtered_label0['Umur'] ,  y = filtered_label0['Skor Belanja (1-100)'], \n",
    "                    color = 'g', s = 200, label = '0', edgecolor = 'g')\n",
    "sns.scatterplot(x = filtered_label1['Umur'] ,  y = filtered_label1['Skor Belanja (1-100)'], \n",
    "                    color = 'b', s = 200, label = '1', edgecolor = 'g')\n",
    "sns.scatterplot(x = filtered_label2['Umur'] ,  y = filtered_label2['Skor Belanja (1-100)'], \n",
    "                    color = 'r', s = 200, label = '2', edgecolor = 'g')\n",
    "\n",
    "# memberi atribut centroid\n",
    "centroids3 = kmeans3.cluster_centers_\n",
    "plt.scatter(centroids3[:,0], centroids3[:,1], s = 300, color = 'k')\n",
    "\n",
    "# memberi label x dan y axis\n",
    "plt.xlabel('Umur')\n",
    "plt.ylabel('Skor Belanja (1-100)')\n",
    "\n",
    "# memberi atribut legend\n",
    "plt.legend()\n",
    "\n",
    "plt.show()"
   ]
  },
  {
   "cell_type": "code",
   "execution_count": 28,
   "metadata": {
    "id": "7Ah0fMJSLlC6",
    "scrolled": false
   },
   "outputs": [
    {
     "name": "stdout",
     "output_type": "stream",
     "text": [
      "nilai silhoutte scorenya adalah 0.4855\n",
      "nilai silhoutte scorenya adalah 0.4648\n"
     ]
    }
   ],
   "source": [
    "# code here\n",
    "# menghitung silhoutte score berdasarkan k means 2\n",
    "# memanggil library\n",
    "from sklearn.metrics import silhouette_score\n",
    "nilai2 = silhouette_score(Scaling, kmeans2.labels_, metric='euclidean')\n",
    "print('nilai silhoutte scorenya adalah', round(nilai2,4))\n",
    "\n",
    "# menghitung silhoutte score berdasarkan k means 3\n",
    "nilai3 = silhouette_score(Scaling, kmeans3.labels_, metric='euclidean')\n",
    "print('nilai silhoutte scorenya adalah', round(nilai3,4))"
   ]
  },
  {
   "cell_type": "markdown",
   "metadata": {},
   "source": [
    "========================================================================="
   ]
  },
  {
   "cell_type": "markdown",
   "metadata": {},
   "source": [
    "========================================================================="
   ]
  },
  {
   "cell_type": "code",
   "execution_count": 29,
   "metadata": {},
   "outputs": [
    {
     "name": "stdout",
     "output_type": "stream",
     "text": [
      "[1 1 0 1 1 1 0 1 0 1 0 1 0 1 0 1 1 0 1 0 1 0 1 0 1 0 1 0 1 0 1 0 1 0 1 0 1\n",
      " 0 1 0 1 0 1 0 1 0 1 1 1 0 1 1 0 0 0 0 0 1 0 0 1 0 0 0 1 0 0 1 1 0 0 0 0 0\n",
      " 1 0 0 1 0 0 1 0 0 1 0 0 1 1 0 0 1 0 0 1 1 0 1 0 1 1 0 0 1 0 1 0 0 0 0 0 1\n",
      " 0 1 1 1 0 0 0 0 1 0 1 1 1 1 0 1 0 1 0 1 1 1 0 1 0 1 0 1 0 1 1 1 0 1 0 1 0\n",
      " 1 0 1 0 1 0 1 0 1 0 1 0 1 0 1 0 1 0 1 0 1 0 1 0 1 0 1 0 0 0 1 0 1 0 1 0 1\n",
      " 0 1 0 1 0 1 0 1 0 1 0 1 1 0 1 0 1 0 1 0 1 1 1 0 1 0 1 0 1 0 1 0 1 0 1 0 1\n",
      " 0 1 0 1 0 1 0 1 0 1 0 1 0 1 0 1 0 1 0 1 0 1 0 1]\n"
     ]
    }
   ],
   "source": [
    "# menggunakan data yang telah di scaling dengan library\n",
    "# mengidentifikasi cluster = 2\n",
    "km2 = KMeans(n_clusters = 2)\n",
    " \n",
    "# memberi label objek\n",
    "lab2 = km2.fit_predict(scaling)\n",
    " \n",
    "print(lab2)"
   ]
  },
  {
   "cell_type": "code",
   "execution_count": 30,
   "metadata": {},
   "outputs": [
    {
     "name": "stdout",
     "output_type": "stream",
     "text": [
      "cluster 2\n"
     ]
    },
    {
     "data": {
      "image/png": "[encoded data removed]",
      "text/plain": [
       "<Figure size 792x504 with 1 Axes>"
      ]
     },
     "metadata": {
      "needs_background": "light"
     },
     "output_type": "display_data"
    }
   ],
   "source": [
    "print('cluster 2')\n",
    "# mem-filter data berdasarkan label\n",
    "filtered_lab0 = scaling[lab2 == 0]\n",
    "filtered_lab1 = scaling[lab2 == 1]\n",
    "\n",
    "# mengatur ukuran figure\n",
    "figure, ax = plt.subplots(figsize=(11,7))\n",
    "\n",
    "# plotting the data\n",
    "plt.scatter(x = filtered_lab0[:,0] ,  y = filtered_lab0[:,1], color = 'b', s = 80, edgecolor = 'g')\n",
    "plt.scatter(x = filtered_lab1[:,0] ,  y = filtered_lab1[:,1], color = 'r', s = 80, edgecolor = 'g')\n",
    "\n",
    "# memberi atribut centroid\n",
    "centr2 = km2.cluster_centers_\n",
    "plt.scatter(centr2[:,0] , centr2[:,1] , s = 300, color = 'k')\n",
    "\n",
    "# memberi label x dan y axis\n",
    "plt.xlabel('Umur')\n",
    "plt.ylabel('Skor Belanja (1-100)')\n",
    "\n",
    "plt.show()"
   ]
  },
  {
   "cell_type": "code",
   "execution_count": 31,
   "metadata": {},
   "outputs": [
    {
     "name": "stdout",
     "output_type": "stream",
     "text": [
      "elbow method\n"
     ]
    },
    {
     "data": {
      "image/png": "[encoded data removed]",
      "text/plain": [
       "<Figure size 792x504 with 1 Axes>"
      ]
     },
     "metadata": {
      "needs_background": "light"
     },
     "output_type": "display_data"
    }
   ],
   "source": [
    "# soal 7.2\n",
    "print('elbow method')\n",
    "# menggunakan metode WCSS dan elbow method\n",
    "# mengatur ukuran figure\n",
    "figure, ax = plt.subplots(figsize=(11,7))\n",
    "\n",
    "wcss=[]\n",
    "for i in range(1,11):\n",
    "    kmeans = KMeans(i)\n",
    "    kmeans.fit(scaling)\n",
    "    wcss_iter = kmeans.inertia_\n",
    "    wcss.append(wcss_iter)\n",
    "\n",
    "number_clusters = range(1,11)\n",
    "\n",
    "# plotting the elbow\n",
    "plt.plot(number_clusters, wcss)\n",
    "\n",
    "# memberi judul pada figure, x, dan y axis\n",
    "plt.title('Elbow Method')\n",
    "plt.xlabel('n_clusters')\n",
    "plt.ylabel('WCSS')\n",
    "\n",
    "plt.show()"
   ]
  },
  {
   "cell_type": "code",
   "execution_count": 32,
   "metadata": {},
   "outputs": [
    {
     "name": "stdout",
     "output_type": "stream",
     "text": [
      "[0 2 0 2 0 2 0 2 1 2 1 2 1 2 0 2 2 1 2 0 2 0 2 1 2 1 2 0 2 1 2 1 2 1 2 0 2\n",
      " 0 2 1 2 1 2 1 2 1 0 0 0 1 2 2 1 1 1 1 1 2 1 1 2 1 1 1 2 1 1 2 0 1 1 1 1 1\n",
      " 2 1 0 2 1 1 2 1 1 2 1 1 2 2 1 1 0 1 0 0 2 1 2 1 2 0 1 1 2 1 0 1 1 1 1 1 2\n",
      " 0 0 2 2 1 1 1 1 2 0 2 2 0 2 0 2 1 2 1 2 0 2 0 2 0 2 0 2 1 2 0 2 0 2 1 2 0\n",
      " 2 0 2 0 2 1 2 0 2 0 2 1 2 0 2 1 2 0 2 0 2 0 2 0 2 1 2 1 0 1 2 0 2 1 2 0 2\n",
      " 1 2 0 2 0 2 0 2 1 2 1 2 2 0 2 0 2 0 2 1 2 0 2 0 2 1 2 0 2 0 2 0 2 1 2 0 2\n",
      " 0 2 1 2 0 2 1 2 0 2 0 2 0 2 0 2 1 2 1 2 1 2 0 2]\n"
     ]
    }
   ],
   "source": [
    "# soal 7.3\n",
    "# mengidentifikasi cluster = 3\n",
    "km3 = KMeans(n_clusters = 3)\n",
    " \n",
    "# memberi label objek\n",
    "lab3 = km3.fit_predict(scaling)\n",
    " \n",
    "print(lab3)"
   ]
  },
  {
   "cell_type": "code",
   "execution_count": 33,
   "metadata": {},
   "outputs": [
    {
     "name": "stdout",
     "output_type": "stream",
     "text": [
      "cluster 3\n"
     ]
    },
    {
     "data": {
      "image/png": "[encoded data removed]",
      "text/plain": [
       "<Figure size 936x576 with 1 Axes>"
      ]
     },
     "metadata": {
      "needs_background": "light"
     },
     "output_type": "display_data"
    }
   ],
   "source": [
    "print('cluster 3')\n",
    "# mem-filter data berdasarkan label\n",
    "filtered_labe0 = Scaling[lab3 == 0]\n",
    "filtered_labe1 = Scaling[lab3 == 1]\n",
    "filtered_labe2 = Scaling[lab3 == 2]\n",
    "\n",
    "# mengatur ukuran figure\n",
    "figure, ax = plt.subplots(figsize=(13,8))\n",
    "\n",
    "# plotting the data\n",
    "sns.scatterplot(x = filtered_labe0['Umur'] ,  y = filtered_labe0['Skor Belanja (1-100)'], \n",
    "                    color = 'g', s = 200, label = '0', edgecolor = 'g')\n",
    "sns.scatterplot(x = filtered_labe1['Umur'] ,  y = filtered_labe1['Skor Belanja (1-100)'], \n",
    "                    color = 'b', s = 200, label = '1', edgecolor = 'g')\n",
    "sns.scatterplot(x = filtered_labe2['Umur'] ,  y = filtered_labe2['Skor Belanja (1-100)'], \n",
    "                    color = 'r', s = 200, label = '2', edgecolor = 'g')\n",
    "\n",
    "# memberi atribut centroid\n",
    "centr3 = km3.cluster_centers_\n",
    "plt.scatter(centr3[:,0], centr3[:,1], s = 300, color = 'k')\n",
    "\n",
    "# memberi label x dan y axis\n",
    "plt.xlabel('Umur')\n",
    "plt.ylabel('Skor Belanja (1-100)')\n",
    "\n",
    "# memberi atribut legend\n",
    "plt.legend()\n",
    "\n",
    "plt.show()"
   ]
  },
  {
   "cell_type": "code",
   "execution_count": 34,
   "metadata": {},
   "outputs": [
    {
     "name": "stdout",
     "output_type": "stream",
     "text": [
      "nilai silhoutte scorenya adalah 0.4855\n",
      "nilai silhoutte scorenya adalah 0.4632\n"
     ]
    }
   ],
   "source": [
    "# code here\n",
    "# menghitung silhoutte score berdasarkan k means 2\n",
    "# memanggil library\n",
    "from sklearn.metrics import silhouette_score\n",
    "nilai_2 = silhouette_score(scaling, km2.labels_, metric='euclidean')\n",
    "print('nilai silhoutte scorenya adalah', round(nilai_2,4))\n",
    "\n",
    "# menghitung silhoutte score berdasarkan k means 3\n",
    "nilai_3 = silhouette_score(scaling, km3.labels_, metric='euclidean')\n",
    "print('nilai silhoutte scorenya adalah', round(nilai_3,4))"
   ]
  },
  {
   "cell_type": "markdown",
   "metadata": {
    "id": "ffhO8oUcXYy4"
   },
   "source": [
    "**Expected output**\n",
    "\n",
    "cluster 2\n",
    "\n",
    "![](https://drive.google.com/uc?id=1L7nIskGXbeXGhKOzhMWCykJ4jY5538mn)\n",
    "\n",
    "elbow method\n",
    "\n",
    "![](https://drive.google.com/uc?id=1a3OL9FhiQ2-DyJQ8sg8PNzfS9QsszyvU)\n",
    "\n",
    "cluster 3\n",
    "\n",
    "![](https://drive.google.com/uc?id=1UR6vK36oLJinLPtechjJJBtxifmdFOSn)\n"
   ]
  },
  {
   "cell_type": "markdown",
   "metadata": {
    "id": "oGcs5qxga1dX"
   },
   "source": [
    "\n",
    "\n",
    "---\n",
    "\n",
    "\n",
    "\n",
    "---\n",
    "\n",
    "\n",
    "\n",
    "---\n",
    "\n"
   ]
  },
  {
   "cell_type": "markdown",
   "metadata": {
    "id": "b8JnapLFa3Da"
   },
   "source": [
    "# Soal 8. Analyze clustering result"
   ]
  },
  {
   "cell_type": "markdown",
   "metadata": {
    "id": "HmBZU5_qa-JE"
   },
   "source": [
    "Dari hasil klustering diatas, buatlah sebuah analisa segmentasi pelanggan untuk targetted market supermarket"
   ]
  },
  {
   "cell_type": "code",
   "execution_count": 35,
   "metadata": {},
   "outputs": [
    {
     "data": {
      "text/html": [
       "<div>\n",
       "<style scoped>\n",
       "    .dataframe tbody tr th:only-of-type {\n",
       "        vertical-align: middle;\n",
       "    }\n",
       "\n",
       "    .dataframe tbody tr th {\n",
       "        vertical-align: top;\n",
       "    }\n",
       "\n",
       "    .dataframe thead th {\n",
       "        text-align: right;\n",
       "    }\n",
       "</style>\n",
       "<table border=\"1\" class=\"dataframe\">\n",
       "  <thead>\n",
       "    <tr style=\"text-align: right;\">\n",
       "      <th></th>\n",
       "      <th>Umur</th>\n",
       "      <th>Skor Belanja (1-100)</th>\n",
       "      <th>klaster</th>\n",
       "    </tr>\n",
       "  </thead>\n",
       "  <tbody>\n",
       "    <tr>\n",
       "      <th>0</th>\n",
       "      <td>19.0</td>\n",
       "      <td>39.0</td>\n",
       "      <td>0</td>\n",
       "    </tr>\n",
       "    <tr>\n",
       "      <th>1</th>\n",
       "      <td>21.0</td>\n",
       "      <td>81.0</td>\n",
       "      <td>1</td>\n",
       "    </tr>\n",
       "    <tr>\n",
       "      <th>2</th>\n",
       "      <td>20.0</td>\n",
       "      <td>6.0</td>\n",
       "      <td>0</td>\n",
       "    </tr>\n",
       "    <tr>\n",
       "      <th>3</th>\n",
       "      <td>23.0</td>\n",
       "      <td>77.0</td>\n",
       "      <td>1</td>\n",
       "    </tr>\n",
       "    <tr>\n",
       "      <th>4</th>\n",
       "      <td>31.0</td>\n",
       "      <td>40.0</td>\n",
       "      <td>0</td>\n",
       "    </tr>\n",
       "  </tbody>\n",
       "</table>\n",
       "</div>"
      ],
      "text/plain": [
       "   Umur  Skor Belanja (1-100)  klaster\n",
       "0  19.0                  39.0        0\n",
       "1  21.0                  81.0        1\n",
       "2  20.0                   6.0        0\n",
       "3  23.0                  77.0        1\n",
       "4  31.0                  40.0        0"
      ]
     },
     "metadata": {},
     "output_type": "display_data"
    }
   ],
   "source": [
    "# analisis hasil clustering berdasarkan kriteria umur dan skor belanja\n",
    "# menggunakan 2 klaster\n",
    "# data\n",
    "newscale = df2[['Umur','Skor Belanja (1-100)']]\n",
    "\n",
    "# membuat model dengan klaster = 2\n",
    "model2 = KMeans(n_clusters = 2)\n",
    "\n",
    "# fitted the model\n",
    "data_scale = model2.fit_transform(newscale)\n",
    "scale_componen = pd.DataFrame(data_scale)\n",
    "model2.fit(scale_componen)\n",
    "\n",
    "# membuat klaster prediction target\n",
    "pred = model2.predict(scale_componen)\n",
    "\n",
    "# menggabungkan kolom predict dengan data awal\n",
    "newframe = pd.DataFrame(newscale)\n",
    "newframe['klaster'] = pred\n",
    "\n",
    "display(newframe.head())"
   ]
  },
  {
   "cell_type": "code",
   "execution_count": 36,
   "metadata": {},
   "outputs": [
    {
     "data": {
      "text/html": [
       "<div>\n",
       "<style scoped>\n",
       "    .dataframe tbody tr th:only-of-type {\n",
       "        vertical-align: middle;\n",
       "    }\n",
       "\n",
       "    .dataframe tbody tr th {\n",
       "        vertical-align: top;\n",
       "    }\n",
       "\n",
       "    .dataframe thead th {\n",
       "        text-align: right;\n",
       "    }\n",
       "</style>\n",
       "<table border=\"1\" class=\"dataframe\">\n",
       "  <thead>\n",
       "    <tr style=\"text-align: right;\">\n",
       "      <th></th>\n",
       "      <th>klaster</th>\n",
       "      <th>Umur</th>\n",
       "      <th>Skor Belanja (1-100)</th>\n",
       "    </tr>\n",
       "  </thead>\n",
       "  <tbody>\n",
       "    <tr>\n",
       "      <th>0</th>\n",
       "      <td>0</td>\n",
       "      <td>44.524476</td>\n",
       "      <td>30.657343</td>\n",
       "    </tr>\n",
       "    <tr>\n",
       "      <th>1</th>\n",
       "      <td>1</td>\n",
       "      <td>29.796117</td>\n",
       "      <td>76.805825</td>\n",
       "    </tr>\n",
       "  </tbody>\n",
       "</table>\n",
       "</div>"
      ],
      "text/plain": [
       "   klaster       Umur  Skor Belanja (1-100)\n",
       "0        0  44.524476             30.657343\n",
       "1        1  29.796117             76.805825"
      ]
     },
     "metadata": {},
     "output_type": "display_data"
    },
    {
     "data": {
      "text/html": [
       "<div>\n",
       "<style scoped>\n",
       "    .dataframe tbody tr th:only-of-type {\n",
       "        vertical-align: middle;\n",
       "    }\n",
       "\n",
       "    .dataframe tbody tr th {\n",
       "        vertical-align: top;\n",
       "    }\n",
       "\n",
       "    .dataframe thead th {\n",
       "        text-align: right;\n",
       "    }\n",
       "</style>\n",
       "<table border=\"1\" class=\"dataframe\">\n",
       "  <thead>\n",
       "    <tr style=\"text-align: right;\">\n",
       "      <th></th>\n",
       "      <th>klaster</th>\n",
       "      <th>Jumlah Pengunjung</th>\n",
       "    </tr>\n",
       "  </thead>\n",
       "  <tbody>\n",
       "    <tr>\n",
       "      <th>0</th>\n",
       "      <td>0</td>\n",
       "      <td>143</td>\n",
       "    </tr>\n",
       "    <tr>\n",
       "      <th>1</th>\n",
       "      <td>1</td>\n",
       "      <td>103</td>\n",
       "    </tr>\n",
       "  </tbody>\n",
       "</table>\n",
       "</div>"
      ],
      "text/plain": [
       "   klaster  Jumlah Pengunjung\n",
       "0        0                143\n",
       "1        1                103"
      ]
     },
     "metadata": {},
     "output_type": "display_data"
    }
   ],
   "source": [
    "# groupby berdasarkan nilai rata-rata\n",
    "rata = newframe.groupby(['klaster'],as_index=False).mean()\n",
    "display(rata)\n",
    "\n",
    "# menghitung jumlah orang untuk masing-masing klaster\n",
    "display(newframe.groupby(['klaster'],as_index=False).count().rename(columns={'Umur':'Jumlah Pengunjung'}).drop(columns=['Skor Belanja (1-100)']))"
   ]
  },
  {
   "cell_type": "code",
   "execution_count": 37,
   "metadata": {},
   "outputs": [
    {
     "data": {
      "image/png": "[encoded data removed]",
      "text/plain": [
       "<Figure size 432x288 with 1 Axes>"
      ]
     },
     "metadata": {
      "needs_background": "light"
     },
     "output_type": "display_data"
    }
   ],
   "source": [
    "# visualisasi menggunakan barplot untuk kolom umur\n",
    "sns.barplot(x = 'klaster', y= 'Umur', data = rata)\n",
    "plt.show()"
   ]
  },
  {
   "cell_type": "markdown",
   "metadata": {},
   "source": [
    "Dari hasil analisis menggunakan barplot, dapat dilihat bahwa :\n",
    "\n",
    "1. Pada klaster 0, rata-rata umur pelanggan yang datang ke supermarket tersebut berusia 45 tahun. Dapat dikatakan bahwa usia tersebut termasuk usia dewasa-menuju tua.\n",
    "\n",
    "2. Pada klaster 1, rata-rata umur pelanggan yang datang ke supermarket tersebut berusia 30 tahun. Dapat dikatakan bahwa usia tersebut termasuk usia dewasa.\n",
    "\n",
    "3. Jumlah pengunjung untuk usia yang rata-ratanya 45 adalah 143 orang dan lebih banyak dibandingkan dengan usia yang rata-ratanya 30 yang berjumlah 103 orang. Bisa jadi pengunjung supermarket tersebut Kebutuhan barang-barang yang dibeli pada rata-rata usia 45 tahun lebih tinggi daripada yang rata-rata usianya 30 tahun. Bisa jadi juga yang rata-rata usianya 45 tahun banyak belanja di supermarket tersebut dengan tujuan untuk persediaan di rumah dan yang rata-ratanya 30 tahun lebih memilih untuk menabung daripada harus belanja di supermarket tersebut.\n",
    "\n",
    "4. Klaster 0 dan klaster 1 termasuk skala ukur nominal, artinya hanya sebagai pembeda. Karena apabila di re-run, maka klaster 0 dapat menampilkan rata-rata yang usianya 30 dan klaster 1 dapat menampilkan rata-rata yang usianya 45 tahun."
   ]
  },
  {
   "cell_type": "code",
   "execution_count": 38,
   "metadata": {
    "scrolled": true
   },
   "outputs": [
    {
     "data": {
      "image/png": "[encoded data removed]",
      "text/plain": [
       "<Figure size 432x288 with 1 Axes>"
      ]
     },
     "metadata": {
      "needs_background": "light"
     },
     "output_type": "display_data"
    }
   ],
   "source": [
    "# visualisasi menggunakan barplot untuk kolom skor belanja\n",
    "sns.barplot(x = 'klaster', y= 'Skor Belanja (1-100)', data = rata)\n",
    "plt.show()"
   ]
  },
  {
   "cell_type": "markdown",
   "metadata": {},
   "source": [
    "Dari hasil analisis menggunakan barplot, dapat dilihat bahwa :\n",
    "\n",
    "1. Pada klaster 0, rata-rata skor belanja untuk klaster 0 adalah 31.\n",
    "\n",
    "2. Pada klaster 1, rata-rata skor belanja untuk klaster 0 adalah 77.\n",
    "\n",
    "3. Artinya, rata-rata pembeli yang berusia 30 tahun memberikan rata-rata skor belanja yang lebih tinggi daripada rata-rata pembeli yang berusia 45 tahun. Bisa jadi karena pelayanan dari supermarket yang kurang sabar dalam menghadapi pembeli yang rata-rata umurnya 45 tahun. Hal ini dapat menjadi catatan tersendiri bagi supermarket tersebut.\n",
    "\n",
    "4. Klaster 0 dan klaster 1 berskala ukur nominal."
   ]
  },
  {
   "cell_type": "code",
   "execution_count": 39,
   "metadata": {
    "scrolled": true
   },
   "outputs": [
    {
     "data": {
      "text/html": [
       "<div>\n",
       "<style scoped>\n",
       "    .dataframe tbody tr th:only-of-type {\n",
       "        vertical-align: middle;\n",
       "    }\n",
       "\n",
       "    .dataframe tbody tr th {\n",
       "        vertical-align: top;\n",
       "    }\n",
       "\n",
       "    .dataframe thead th {\n",
       "        text-align: right;\n",
       "    }\n",
       "</style>\n",
       "<table border=\"1\" class=\"dataframe\">\n",
       "  <thead>\n",
       "    <tr style=\"text-align: right;\">\n",
       "      <th></th>\n",
       "      <th>Umur</th>\n",
       "      <th>Skor Belanja (1-100)</th>\n",
       "      <th>klaster</th>\n",
       "    </tr>\n",
       "  </thead>\n",
       "  <tbody>\n",
       "    <tr>\n",
       "      <th>0</th>\n",
       "      <td>19.0</td>\n",
       "      <td>39.0</td>\n",
       "      <td>2</td>\n",
       "    </tr>\n",
       "    <tr>\n",
       "      <th>1</th>\n",
       "      <td>21.0</td>\n",
       "      <td>81.0</td>\n",
       "      <td>0</td>\n",
       "    </tr>\n",
       "    <tr>\n",
       "      <th>2</th>\n",
       "      <td>20.0</td>\n",
       "      <td>6.0</td>\n",
       "      <td>1</td>\n",
       "    </tr>\n",
       "    <tr>\n",
       "      <th>3</th>\n",
       "      <td>23.0</td>\n",
       "      <td>77.0</td>\n",
       "      <td>0</td>\n",
       "    </tr>\n",
       "    <tr>\n",
       "      <th>4</th>\n",
       "      <td>31.0</td>\n",
       "      <td>40.0</td>\n",
       "      <td>2</td>\n",
       "    </tr>\n",
       "  </tbody>\n",
       "</table>\n",
       "</div>"
      ],
      "text/plain": [
       "   Umur  Skor Belanja (1-100)  klaster\n",
       "0  19.0                  39.0        2\n",
       "1  21.0                  81.0        0\n",
       "2  20.0                   6.0        1\n",
       "3  23.0                  77.0        0\n",
       "4  31.0                  40.0        2"
      ]
     },
     "metadata": {},
     "output_type": "display_data"
    }
   ],
   "source": [
    "# menggunakan 3 klaster\n",
    "# data\n",
    "newscale = df2[['Umur','Skor Belanja (1-100)']]\n",
    "\n",
    "# membuat model dengan klaster = 2\n",
    "model3 = KMeans(n_clusters = 3)\n",
    "\n",
    "# fitted the model\n",
    "data_scale3 = model3.fit_transform(newscale)\n",
    "scale_componen3 = pd.DataFrame(data_scale3)\n",
    "model3.fit(scale_componen3)\n",
    "\n",
    "# membuat klaster prediction target\n",
    "pred3 = model3.predict(scale_componen3)\n",
    "\n",
    "# menggabungkan kolom predict dengan data awal\n",
    "newframe3 = pd.DataFrame(newscale)\n",
    "newframe3['klaster'] = pred3\n",
    "display(newframe3.head())"
   ]
  },
  {
   "cell_type": "code",
   "execution_count": 40,
   "metadata": {},
   "outputs": [
    {
     "data": {
      "text/html": [
       "<div>\n",
       "<style scoped>\n",
       "    .dataframe tbody tr th:only-of-type {\n",
       "        vertical-align: middle;\n",
       "    }\n",
       "\n",
       "    .dataframe tbody tr th {\n",
       "        vertical-align: top;\n",
       "    }\n",
       "\n",
       "    .dataframe thead th {\n",
       "        text-align: right;\n",
       "    }\n",
       "</style>\n",
       "<table border=\"1\" class=\"dataframe\">\n",
       "  <thead>\n",
       "    <tr style=\"text-align: right;\">\n",
       "      <th></th>\n",
       "      <th>klaster</th>\n",
       "      <th>Umur</th>\n",
       "      <th>Skor Belanja (1-100)</th>\n",
       "    </tr>\n",
       "  </thead>\n",
       "  <tbody>\n",
       "    <tr>\n",
       "      <th>0</th>\n",
       "      <td>0</td>\n",
       "      <td>30.530864</td>\n",
       "      <td>82.296296</td>\n",
       "    </tr>\n",
       "    <tr>\n",
       "      <th>1</th>\n",
       "      <td>1</td>\n",
       "      <td>42.200000</td>\n",
       "      <td>13.630769</td>\n",
       "    </tr>\n",
       "    <tr>\n",
       "      <th>2</th>\n",
       "      <td>2</td>\n",
       "      <td>42.200000</td>\n",
       "      <td>47.430000</td>\n",
       "    </tr>\n",
       "  </tbody>\n",
       "</table>\n",
       "</div>"
      ],
      "text/plain": [
       "   klaster       Umur  Skor Belanja (1-100)\n",
       "0        0  30.530864             82.296296\n",
       "1        1  42.200000             13.630769\n",
       "2        2  42.200000             47.430000"
      ]
     },
     "metadata": {},
     "output_type": "display_data"
    },
    {
     "data": {
      "text/html": [
       "<div>\n",
       "<style scoped>\n",
       "    .dataframe tbody tr th:only-of-type {\n",
       "        vertical-align: middle;\n",
       "    }\n",
       "\n",
       "    .dataframe tbody tr th {\n",
       "        vertical-align: top;\n",
       "    }\n",
       "\n",
       "    .dataframe thead th {\n",
       "        text-align: right;\n",
       "    }\n",
       "</style>\n",
       "<table border=\"1\" class=\"dataframe\">\n",
       "  <thead>\n",
       "    <tr style=\"text-align: right;\">\n",
       "      <th></th>\n",
       "      <th>klaster</th>\n",
       "      <th>Jumlah Pengunjung</th>\n",
       "    </tr>\n",
       "  </thead>\n",
       "  <tbody>\n",
       "    <tr>\n",
       "      <th>0</th>\n",
       "      <td>0</td>\n",
       "      <td>81</td>\n",
       "    </tr>\n",
       "    <tr>\n",
       "      <th>1</th>\n",
       "      <td>1</td>\n",
       "      <td>65</td>\n",
       "    </tr>\n",
       "    <tr>\n",
       "      <th>2</th>\n",
       "      <td>2</td>\n",
       "      <td>100</td>\n",
       "    </tr>\n",
       "  </tbody>\n",
       "</table>\n",
       "</div>"
      ],
      "text/plain": [
       "   klaster  Jumlah Pengunjung\n",
       "0        0                 81\n",
       "1        1                 65\n",
       "2        2                100"
      ]
     },
     "metadata": {},
     "output_type": "display_data"
    }
   ],
   "source": [
    "# groupby berdasarkan nilai rata-rata\n",
    "rata3 = newframe3.groupby(['klaster'],as_index=False).mean()\n",
    "display(rata3)\n",
    "\n",
    "# menghitung jumlah orang untuk masing-masing klaster\n",
    "display(newframe3.groupby(['klaster'],as_index=False).count().rename(columns={'Umur':'Jumlah Pengunjung'}).drop(columns=['Skor Belanja (1-100)']))"
   ]
  },
  {
   "cell_type": "code",
   "execution_count": 41,
   "metadata": {},
   "outputs": [
    {
     "data": {
      "image/png": "[encoded data removed]",
      "text/plain": [
       "<Figure size 432x288 with 1 Axes>"
      ]
     },
     "metadata": {
      "needs_background": "light"
     },
     "output_type": "display_data"
    }
   ],
   "source": [
    "# visualisasi menggunakan barplot untuk kolom umur\n",
    "sns.barplot(x = 'klaster', y= 'Umur', data = rata3)\n",
    "plt.show()"
   ]
  },
  {
   "cell_type": "markdown",
   "metadata": {},
   "source": [
    "Dari hasil analisis menggunakan barplot, dapat dilihat bahwa :\n",
    "\n",
    "1. Pada klaster 0, rata-rata umur pelanggan yang datang ke supermarket tersebut berusia 31 tahun dengan jumlah 81 orang.\n",
    "\n",
    "2. Pada klaster 1, rata-rata umur pelanggan yang datang ke supermarket tersebut berusia 42 tahun dengan jumlah 100 orang.\n",
    "\n",
    "3. Pada klaster 2, rata-rata umur pelanggan yang datang ke supermarket tersebut berusia 42 tahun dengan jumlah 65 orang.\n",
    "\n",
    "4. Walaupun klaster 1 dan 2 memiliki rata-rata usia yang sama, tetapi klaster 1 memiliki karakteristik lain yang belum diketahui dari klaster 2, dapat dilihat dari jumlah klaster 1 yang lebih banyak mengunjungi dari jumlah klaster 2. Klaster 1 memiliki jumlah terbanyak, sehingga dapat disimpulkan bahwa barang-barang yang dijual di supermarket tersebut, cenderung terbeli oleh pengunjung dari klaster 2.\n",
    "\n",
    "5. Klaster 0, 1, dan 2 berskala ukur nominal."
   ]
  },
  {
   "cell_type": "code",
   "execution_count": 42,
   "metadata": {},
   "outputs": [
    {
     "data": {
      "image/png": "[encoded data removed]",
      "text/plain": [
       "<Figure size 432x288 with 1 Axes>"
      ]
     },
     "metadata": {
      "needs_background": "light"
     },
     "output_type": "display_data"
    }
   ],
   "source": [
    "# visualisasi menggunakan barplot untuk kolom umur\n",
    "sns.barplot(x = 'klaster', y= 'Skor Belanja (1-100)', data = rata3)\n",
    "plt.show()"
   ]
  },
  {
   "cell_type": "markdown",
   "metadata": {},
   "source": [
    "Dari hasil analisis menggunakan barplot, dapat dilihat bahwa :\n",
    "\n",
    "1. Klaster 0 memberikan rata-rata skor belanja 82\n",
    "\n",
    "2. Klaster 1 memberikan rata-rata skor belanja 47\n",
    "\n",
    "3. Klaster 2 memberikan rata-rata skor belanja 14\n",
    "\n",
    "4. Artinya, klaster 0 sangat suka dan merasa puas belanja di supermarket tersebut. Berbeda dengan klaster 2 yang hanya memberikan rata-rata skor hanya 14. Hal ini tentunya akan menjadi catatan untuk pihak perusahaan, baik dalam hal pelayanan, harga, dan lain-lain.\n",
    "\n",
    "5. Klaster 0, 1, dan 2 berskala ukur nominal."
   ]
  },
  {
   "cell_type": "markdown",
   "metadata": {},
   "source": [
    "Untuk klaster 2 dan klaster 3, diperoleh nilai silhouttenya berturut-turut adalah 0.4855 dan 0.4648. Dapat disimpulkan bahwa pembentukan klaster dengan model yang sudah terbentuk sudah cukup baik, hal tersebut dapat dilihat : \n",
    "\n",
    "Pada gambar cluster 2, klaster 0 dan klaster 1 sudah cukup terlihat jelas pemisahannya, hanya saja masing-masing objek di dalam klaster 1 dan klaster 2 masih cukup berjauhan. \n",
    "\n",
    "Pada gambar cluster 3, pemisahan antara klaster 0, klaster 1, dan klaster 2 sudah cukup jelas, akan tetapi objek di dalam masing-masing klaster tersebar cukup jauh dan tidak ada objek yang berada pada klaster yang lain."
   ]
  },
  {
   "cell_type": "code",
   "execution_count": null,
   "metadata": {},
   "outputs": [],
   "source": []
  },
  {
   "cell_type": "markdown",
   "metadata": {
    "id": "MLEmUen3bGLS"
   },
   "source": []
  }
 ],
 "metadata": {
  "colab": {
   "collapsed_sections": [],
   "name": "Tugas pekan 4 PKS digital.ipynb",
   "provenance": []
  },
  "kernelspec": {
   "display_name": "Python 3",
   "language": "python",
   "name": "python3"
  },
  "language_info": {
   "codemirror_mode": {
    "name": "ipython",
    "version": 3
   },
   "file_extension": ".py",
   "mimetype": "text/x-python",
   "name": "python",
   "nbconvert_exporter": "python",
   "pygments_lexer": "ipython3",
   "version": "3.8.8"
  }
 },
 "nbformat": 4,
 "nbformat_minor": 1
}
