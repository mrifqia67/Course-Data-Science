{
 "cells": [
  {
   "cell_type": "code",
   "execution_count": 1,
   "metadata": {
    "id": "EB5BtvV3mzRv"
   },
   "outputs": [],
   "source": [
    "# import semua library yang kalian butuhkan disini\n",
    "import json\n",
    "import tweepy"
   ]
  },
  {
   "cell_type": "code",
   "execution_count": 2,
   "metadata": {},
   "outputs": [],
   "source": [
    "# membuat file json\n",
    "token = {\n",
    "    \"bearer_token\": \"AAAAAAAAAAAAAAAAAAAAAFJVWQEAAAAACLnxI4J6SWa7JsDGiup6tvqZsYM%3DXvrNnI1jlihY5eg2SiqgrHJUKn3OOHDXN9x1ghJBgnLLpEMYNI\",\n",
    "    \"api_key\" : \"mNYuL82EcLRrtTHS3XwUsSdKo\",\n",
    "    \"api_key_secret\": \"BUUvKnhKBi6FkaeqfTxNFXygymkeKbki2kbvwf53WudCDsU238\",\n",
    "    \"access_token\":\"1465546984761151494-xQhAPmyeOFJ6DmpxoSand6klOmdaEr\",\n",
    "    \"access_token_secret\": \"NE7aUkDDRbB7fwGUJqawphew0E59KGuh9EAASarrFqcO2\"\n",
    "        }\n",
    "\n",
    "jsonString = json.dumps(token)\n",
    "jsonFile = open(\"token.json\", \"w\")\n",
    "jsonFile.write(jsonString)\n",
    "jsonFile.close()"
   ]
  },
  {
   "cell_type": "code",
   "execution_count": 3,
   "metadata": {},
   "outputs": [
    {
     "name": "stdout",
     "output_type": "stream",
     "text": [
      "dict_keys(['bearer_token', 'api_key', 'api_key_secret', 'access_token', 'access_token_secret'])\n"
     ]
    }
   ],
   "source": [
    "# membaca token\n",
    "\n",
    "with open(\"token.json\") as f:\n",
    "  tokens = json.load(f)\n",
    "\n",
    "bearer_token = tokens['bearer_token']\n",
    "api_key = tokens['api_key']\n",
    "api_key_secret = tokens['api_key_secret']\n",
    "access_token = tokens['access_token']\n",
    "access_token_secret = tokens['access_token_secret']\n",
    "\n",
    "print(tokens.keys())"
   ]
  },
  {
   "cell_type": "markdown",
   "metadata": {},
   "source": [
    "expected result -----------------------------------------------------------------------"
   ]
  },
  {
   "cell_type": "code",
   "execution_count": 10,
   "metadata": {
    "colab": {
     "base_uri": "https://localhost:8080/"
    },
    "id": "nXj1rD5SVKgY",
    "outputId": "b85f1031-0b2e-4158-88f2-90f6e94c2b23"
   },
   "outputs": [
    {
     "data": {
      "text/plain": [
       "dict_keys(['api_key', 'api_key_secret', 'access_token', 'access_token_secret', 'bearer_token'])"
      ]
     },
     "execution_count": 10,
     "metadata": {},
     "output_type": "execute_result"
    }
   ],
   "source": [
    "#sel ini digunakan untuk membaca tokens kalian. simpan berkas token.json pada folder yang sama dengan file tugas ini\n",
    "\n",
    "with open(\"token.json\") as f:\n",
    "  tokens = json.load(f)\n",
    "\n",
    "bearer_token = tokens['bearer_token']\n",
    "api_key = tokens['api_key']\n",
    "api_key_secret = tokens['api_key_secret']\n",
    "access_token = tokens['access_token']\n",
    "access_token_secret = tokens['access_token_secret']\n",
    "\n",
    "tokens.keys()"
   ]
  },
  {
   "cell_type": "code",
   "execution_count": 4,
   "metadata": {
    "id": "MoyA2If8zF18"
   },
   "outputs": [],
   "source": [
    "# membuat variabel authentikasi dan api\n",
    "auth = tweepy.OAuthHandler(api_key, api_key_secret)\n",
    "auth.set_access_token(access_token, access_token_secret)\n",
    "\n",
    "api = tweepy.API(auth)"
   ]
  },
  {
   "cell_type": "code",
   "execution_count": 9,
   "metadata": {},
   "outputs": [
    {
     "name": "stdout",
     "output_type": "stream",
     "text": [
      "Kerusuhan ormas lagi-lagi terjadi. Kali ini hingga memakan korban jiwa. Mengapa kasus kekerasan yang melibatkan ormas terus berulang? 🤔\n",
      "\n",
      "Saksikan diskusinya di #MataNajwa, “Cemas karena Ormas”\n",
      "📆 Rabu, 1 Desember 2021\n",
      "⏰ 20.00 WIB\n",
      "📌 Di @TRANS7\n",
      "\n",
      "#MataNajwaCemaskarenaOrmaS https://t.co/NaXh9JhvaB\n",
      "Ada yang jadi anggota ormas atau pernah bersinggungan dengan ormas? Coba cerita pengalamanmu.\n",
      "\n",
      "#MataNajwa \"Cemas karena Ormas”\n",
      "📆 Rabu, 1 Desember 2021\n",
      "⏰ 20.00 WIB\n",
      "📌 Di Trans7\n",
      "\n",
      "Ilustrasi karya kolaborator Narasi Ecosystem: @sssyukron\n",
      "\n",
      "#MataNajwa #MataNajwaCemaskarenaOrmas https://t.co/5hObTR1RaR\n",
      "Organisasi yang mengatasnamakan masyarakat sejatinya menampung aspirasi, tapi ada gak sih yang justru bikin cemas?\n",
      "\n",
      "Saksikan Mata Najwa, “Cemas karena Ormas”\n",
      "\n",
      "📆 Rabu, 1 Desember 2021\n",
      "⏰ 20.00 WIB\n",
      "📌 Di @officialtrans7\n",
      "\n",
      "#MataNajwa #MataNajwaCemaskarenaOrmas #Narasi #JadiPaham\n",
      "Akhir-akhir ini, Organisasi Masyarakat (ormas) menjadi sorotan. Dalam 2 minggu, ada 3 kerusuhan ormas yang menyebabkan korban luka-luka hingga meninggal.\n",
      "\n",
      "#MataNajwa #MataNajwaCemaskarenaOrmas #Narasi #JadiPaham https://t.co/N7sxKbzQjx\n",
      "#BukaData - Benarkah Minum Wine Menyehatkan?\n",
      "https://t.co/k1n4cBt4z3\n",
      "\n",
      "Sebenarnya minum minuman beralkohol yang kerap bikin mabuk itu ada faedahnya gak, sih?\n",
      "#BukaData - Upah Minimum: Tak Seindah Klaim Menteri Ida dan Tuntutan Serikat Pekerja\n",
      "https://t.co/Uoe7mKdHNl\n",
      "\n",
      "Masih ada karyawan digaji di bawah upah minimum. Apa kamu salah satunya?\n",
      "Catatan Najwa - Cerita Hangat Keluarga Hoegeng: Di Balik Layar Mata Najwa\n",
      "https://t.co/7LQQ6Hyl5J\n",
      "\n",
      "Cerita-cerita tentang Hoegeng dari keluarga tercinta saat di balik layar Mata Najwa.\n",
      "#NarasiSignature - Kalau Cewek Mah Bebas: Jadi Anak Broken Home: Bukan Cuma Depresi dan Trauma\n",
      "https://t.co/ZzNb04GAlY\n",
      "\n",
      "Keluarga memiliki banyak peranan, tapi apakah semua keluarga bisa menjalankan selruh peran dan fungsi?\n",
      "\"Karena mau bantu semua orang di bumi ini,\" ucap Anantasena, cicit Hoegeng mantan Kapolri, tentang alasan ingin jadi polisi.\n",
      "\n",
      "Selengkapnya di #MataNajwa, \"Belajar dari Hoegeng\" di YouTube Najwa Shihab\n",
      "\n",
      "Dipersembahkan oleh @KapalApi_ID \n",
      "\n",
      "#MataNajwaBelajardariHoegeng #KapalApi https://t.co/PLjt0ZZuyC\n",
      "Narasi People - Kremasi Simple, Enggak Menyusahkan Keluarga\n",
      "https://t.co/ks67Crnclc\n",
      "\n",
      "Kremasi merupakan salah satu jenis pemakaman yang memendam sunyi. Tidak banyak yang menerapkan kremasi lantaran faktor kepercayaan.\n"
     ]
    }
   ],
   "source": [
    "# memperoleh full text melalui tweet mode = extended\n",
    "username = \"MataNajwa\"\n",
    "def user_timeline_scraper(username):\n",
    "    for tweet_info in tweepy.Cursor(api.user_timeline, screen_name = username, tweet_mode='extended').items(10):\n",
    "        if 'retweeted_status' in dir(tweet_info):\n",
    "            tweet = tweet_info.retweeted_status.full_text\n",
    "        else:\n",
    "            tweet = tweet_info.full_text\n",
    "        print('{}'.format(tweet))\n",
    "\n",
    "user_timeline_scraper(username)  "
   ]
  },
  {
   "cell_type": "markdown",
   "metadata": {},
   "source": [
    "example result -----------------------------------------------------------------------"
   ]
  },
  {
   "cell_type": "code",
   "execution_count": 14,
   "metadata": {
    "id": "-kIrEKMPxkA6"
   },
   "outputs": [],
   "source": [
    "#Buatlah sebuah fungsi dengan nama user_timeline_scraper()\n",
    "#fungsi tersebut memiliki input username dari user\n",
    "#Fungsi ini berguna untuk mengambil 10 tweet yang berada di timeline user.\n",
    "#gunakan metode Cursor untuk tugas ini\n",
    "#gunakan tweet_mode --> extended\n",
    "\n",
    "def user_timeline_scraper(username):\n",
    "  pass"
   ]
  },
  {
   "cell_type": "code",
   "execution_count": 15,
   "metadata": {
    "colab": {
     "base_uri": "https://localhost:8080/"
    },
    "id": "P_gU22BzyrLt",
    "outputId": "00a0c661-8463-4928-dcf7-61bb541b829c"
   },
   "outputs": [
    {
     "name": "stdout",
     "output_type": "stream",
     "text": [
      "Organisasi yang mengatasnamakan masyarakat sejatinya menampung aspirasi, tapi ada gak sih yang justru bikin cemas?\n",
      "\n",
      "Saksikan Mata Najwa, “Cemas karena Ormas”\n",
      "\n",
      "📆 Rabu, 1 Desember 2021\n",
      "⏰ 20.00 WIB\n",
      "📌 Di @officialtrans7\n",
      "\n",
      "#MataNajwa #MataNajwaCemaskarenaOrmas #Narasi #JadiPaham\n",
      "----------------------------------------\n",
      "Akhir-akhir ini, Organisasi Masyarakat (ormas) menjadi sorotan. Dalam 2 minggu, ada 3 kerusuhan ormas yang menyebabkan korban luka-luka hingga meninggal.\n",
      "\n",
      "#MataNajwa #MataNajwaCemaskarenaOrmas #Narasi #JadiPaham https://t.co/N7sxKbzQjx\n",
      "----------------------------------------\n",
      "#BukaData - Benarkah Minum Wine Menyehatkan?\n",
      "https://t.co/k1n4cBt4z3\n",
      "\n",
      "Sebenarnya minum minuman beralkohol yang kerap bikin mabuk itu ada faedahnya gak, sih?\n",
      "----------------------------------------\n",
      "#BukaData - Upah Minimum: Tak Seindah Klaim Menteri Ida dan Tuntutan Serikat Pekerja\n",
      "https://t.co/Uoe7mKdHNl\n",
      "\n",
      "Masih ada karyawan digaji di bawah upah minimum. Apa kamu salah satunya?\n",
      "----------------------------------------\n",
      "Catatan Najwa - Cerita Hangat Keluarga Hoegeng: Di Balik Layar Mata Najwa\n",
      "https://t.co/7LQQ6Hyl5J\n",
      "\n",
      "Cerita-cerita tentang Hoegeng dari keluarga tercinta saat di balik layar Mata Najwa.\n",
      "----------------------------------------\n",
      "#NarasiSignature - Kalau Cewek Mah Bebas: Jadi Anak Broken Home: Bukan Cuma Depresi dan Trauma\n",
      "https://t.co/ZzNb04GAlY\n",
      "\n",
      "Keluarga memiliki banyak peranan, tapi apakah semua keluarga bisa menjalankan selruh peran dan fungsi?\n",
      "----------------------------------------\n",
      "\"Karena mau bantu semua orang di bumi ini,\" ucap Anantasena, cicit Hoegeng mantan Kapolri, tentang alasan ingin jadi polisi.\n",
      "\n",
      "Selengkapnya di #MataNajwa, \"Belajar dari Hoegeng\" di YouTube Najwa Shihab\n",
      "\n",
      "Dipersembahkan oleh @KapalApi_ID \n",
      "\n",
      "#MataNajwaBelajardariHoegeng #KapalApi https://t.co/PLjt0ZZuyC\n",
      "----------------------------------------\n",
      "Narasi People - Kremasi Simple, Enggak Menyusahkan Keluarga\n",
      "https://t.co/ks67Crnclc\n",
      "\n",
      "Kremasi merupakan salah satu jenis pemakaman yang memendam sunyi. Tidak banyak yang menerapkan kremasi lantaran faktor kepercayaan.\n",
      "----------------------------------------\n",
      "#SuratUntukNajwa  - Kado untuk Guru di Pelosok Negeri\n",
      "https://t.co/x9DgyhAMls\n",
      "\n",
      "Perbedaan diciptakan oleh guru, bukan ruangan kelas. Tapi kalau kita ingat-ingat, rasanya guru-guru kesayangan kita dulu adalah mereka yang bisa membuat ruangan kelas hidup.\n",
      "----------------------------------------\n",
      "Buka Data - Dari Hoegeng ke Tito Karnavian: Cuma Sedikit Polisi Jadi Menteri. Siapa Saja Mereka?\n",
      "https://t.co/h90uOBxL3O\n",
      "\n",
      "Hanya segelintir anggota Korps Bhayangkara yang pernah menjadi menteri. Siapa saja mereka?\n",
      "----------------------------------------\n"
     ]
    }
   ],
   "source": [
    "username = \"MataNajwa\"\n",
    "user_timeline_scraper(username)"
   ]
  }
 ],
 "metadata": {
  "colab": {
   "collapsed_sections": [],
   "name": "tugas_23_coding.ipynb",
   "provenance": []
  },
  "kernelspec": {
   "display_name": "Python 3",
   "language": "python",
   "name": "python3"
  },
  "language_info": {
   "codemirror_mode": {
    "name": "ipython",
    "version": 3
   },
   "file_extension": ".py",
   "mimetype": "text/x-python",
   "name": "python",
   "nbconvert_exporter": "python",
   "pygments_lexer": "ipython3",
   "version": "3.8.8"
  }
 },
 "nbformat": 4,
 "nbformat_minor": 1
}
